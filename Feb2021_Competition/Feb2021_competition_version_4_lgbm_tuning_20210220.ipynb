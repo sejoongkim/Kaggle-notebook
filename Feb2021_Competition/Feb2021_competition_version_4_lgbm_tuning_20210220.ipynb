{
 "cells": [
  {
   "cell_type": "markdown",
   "metadata": {},
   "source": [
    "# Importing Modules"
   ]
  },
  {
   "cell_type": "code",
   "execution_count": 1,
   "metadata": {},
   "outputs": [],
   "source": [
    "import numpy as np\n",
    "import pandas as pd\n",
    "import matplotlib.pyplot as plt\n",
    "import matplotlib\n",
    "from sklearn.preprocessing import StandardScaler, LabelEncoder, OneHotEncoder\n",
    "from sklearn.model_selection import train_test_split, GridSearchCV, cross_val_score, learning_curve\n",
    "from sklearn.ensemble import RandomForestRegressor\n",
    "from sklearn.svm import SVR\n",
    "from sklearn.metrics import mean_squared_error, mean_absolute_error\n",
    "from sklearn.linear_model import LinearRegression, Ridge, Lasso, ElasticNet\n",
    "\n",
    "import seaborn as sns\n",
    "\n",
    "\n",
    "import sys\n",
    "import warnings\n",
    "\n",
    "import warnings\n",
    "warnings.filterwarnings('ignore')\n",
    "\n",
    "sns.set(style='white', context='notebook', palette='deep')"
   ]
  },
  {
   "cell_type": "markdown",
   "metadata": {},
   "source": [
    "# Functions"
   ]
  },
  {
   "cell_type": "code",
   "execution_count": 2,
   "metadata": {},
   "outputs": [],
   "source": [
    "def rmsle(y, pred):\n",
    "    log_y    = np.log1p(y)\n",
    "    log_pred = np.log1p(pred)\n",
    "    rmsle = np.sqrt(np.mean((log_y-log_pred)**2.))\n",
    "    return rmsle\n",
    "\n",
    "def rmse(y, pred):\n",
    "    return np.sqrt(mean_squared_error(y, pred))\n",
    "\n",
    "def evaluate_error(y, pred, show=True):\n",
    "    rmsle_val = rmsle(y, pred)\n",
    "    rmse_val  = rmse(y, pred)\n",
    "    mae_val   = mean_absolute_error(y, pred)\n",
    "    if show:\n",
    "        print('RMSLE: {0:.4f}'.format(rmsle_val), end=\" | \")\n",
    "        print('RMSE : {0:.4f}'.format(rmse_val), end=\" | \")\n",
    "        print('MAE  : {0:.4f}'.format(mae_val))\n",
    "    return rmsle_val, rmse_val, mae_val"
   ]
  },
  {
   "cell_type": "code",
   "execution_count": 3,
   "metadata": {},
   "outputs": [],
   "source": [
    "def plot_learning_curve(estimator, title, X, y, ylim=None, cv=None,\n",
    "                        n_jobs=-1, train_sizes=np.linspace(.1, 1.0, 5)):\n",
    "    \"\"\"Generate a simple plot of the test and training learning curve\"\"\"\n",
    "    plt.figure()\n",
    "    plt.title(title)\n",
    "    if ylim is not None:\n",
    "        plt.ylim(*ylim)\n",
    "    plt.xlabel(\"Training examples\")\n",
    "    plt.ylabel(\"Score\")\n",
    "    train_sizes, train_scores, test_scores = learning_curve(estimator, X, y, cv=cv, \n",
    "                                                            n_jobs=n_jobs, \n",
    "                                                            scoring='neg_mean_squared_error', \n",
    "                                                            train_sizes=train_sizes)\n",
    "        \n",
    "    train_scores = np.sqrt(-1*train_scores)\n",
    "    test_scores  = np.sqrt(-1*test_scores)\n",
    "    \n",
    "    train_scores_mean = np.mean(train_scores, axis=1)\n",
    "    train_scores_std = np.std(train_scores, axis=1)\n",
    "    test_scores_mean = np.mean(test_scores, axis=1)\n",
    "    test_scores_std = np.std(test_scores, axis=1)\n",
    "    plt.grid()\n",
    "\n",
    "    plt.fill_between(train_sizes, train_scores_mean - train_scores_std,\n",
    "                     train_scores_mean + train_scores_std, alpha=0.1,\n",
    "                     color=\"r\")\n",
    "    plt.fill_between(train_sizes, test_scores_mean - test_scores_std,\n",
    "                     test_scores_mean + test_scores_std, alpha=0.1, color=\"g\")\n",
    "    plt.plot(train_sizes, train_scores_mean, 'o-', color=\"r\",\n",
    "             label=\"Training score\")\n",
    "    plt.plot(train_sizes, test_scores_mean, 'o-', color=\"g\",\n",
    "             label=\"Cross-validation score\")\n",
    "\n",
    "    plt.legend(loc=\"best\")\n",
    "    return plt"
   ]
  },
  {
   "cell_type": "code",
   "execution_count": 4,
   "metadata": {},
   "outputs": [],
   "source": [
    "def grid_search(estimator, params, X, y, scoring='neg_mean_squared_error', cv=10, n_jobs=-1, verbose=1):\n",
    "\n",
    "    grid_reg = GridSearchCV(estimator, param_grid=params, scoring=scoring, cv=cv, n_jobs=n_jobs, verbose=verbose)\n",
    "    grid_reg.fit(X, y)\n",
    "\n",
    "    grid_best_socre = np.sqrt(-1*grid_reg.best_score_)\n",
    "    print(grid_reg.best_params_, grid_best_socre)\n",
    "    \n",
    "    return grid_reg"
   ]
  },
  {
   "cell_type": "code",
   "execution_count": 5,
   "metadata": {},
   "outputs": [],
   "source": [
    "def get_top_bottom_coef(model, X_features, n):\n",
    "    # coef_ 속성을 기반으로 Series 객체를 생성. index는 컬럼명. \n",
    "    coef = pd.Series(model.coef_, index=X_features.columns)\n",
    "    \n",
    "    # + 상위 10개 , - 하위 10개 coefficient 추출하여 반환.\n",
    "    coef_high = coef.sort_values(ascending=False).head(n)\n",
    "    coef_low = coef.sort_values(ascending=False).tail(n)\n",
    "    return coef_high, coef_low"
   ]
  },
  {
   "cell_type": "code",
   "execution_count": 6,
   "metadata": {},
   "outputs": [],
   "source": [
    "def visualize_coefficient(model, X_features, n=10, figsize=(8,10)):\n",
    "    # 3개 회귀 모델의 시각화를 위해 3개의 컬럼을 가지는 subplot 생성\n",
    "    fig, ax = plt.subplots(figsize=figsize)\n",
    "    fig.tight_layout() \n",
    "    # 입력인자로 받은 list객체인 models에서 차례로 model을 추출하여 회귀 계수 시각화. \n",
    "\n",
    "    # 상위 10개, 하위 10개 회귀 계수를 구하고, 이를 판다스 concat으로 결합. \n",
    "    coef_high, coef_low = get_top_bottom_coef(model, X_features, n)\n",
    "    coef_concat = pd.concat( [coef_high , coef_low] )\n",
    "    # 순차적으로 ax subplot에 barchar로 표현. 한 화면에 표현하기 위해 tick label 위치와 font 크기 조정. \n",
    "    ax.set_title(model.__class__.__name__+' Coeffiecents', size=12)\n",
    "    #ax.tick_params(axis=\"y\",direction=\"in\", pad=-120)\n",
    "    for label in (ax.get_xticklabels() + ax.get_yticklabels()):\n",
    "        label.set_fontsize(12)\n",
    "    sns.barplot(x=coef_concat.values, y=coef_concat.index , ax=ax)"
   ]
  },
  {
   "cell_type": "markdown",
   "metadata": {},
   "source": [
    "# Loading Train and Test Sets"
   ]
  },
  {
   "cell_type": "code",
   "execution_count": 7,
   "metadata": {},
   "outputs": [],
   "source": [
    "train = pd.read_csv('./input/train.csv', index_col='id')\n",
    "test  = pd.read_csv('./input/test.csv', index_col='id')"
   ]
  },
  {
   "cell_type": "markdown",
   "metadata": {},
   "source": [
    "# Information on train and test"
   ]
  },
  {
   "cell_type": "code",
   "execution_count": 8,
   "metadata": {},
   "outputs": [
    {
     "name": "stdout",
     "output_type": "stream",
     "text": [
      "<class 'pandas.core.frame.DataFrame'>\n",
      "Int64Index: 300000 entries, 1 to 499999\n",
      "Data columns (total 25 columns):\n",
      " #   Column  Non-Null Count   Dtype  \n",
      "---  ------  --------------   -----  \n",
      " 0   cat0    300000 non-null  object \n",
      " 1   cat1    300000 non-null  object \n",
      " 2   cat2    300000 non-null  object \n",
      " 3   cat3    300000 non-null  object \n",
      " 4   cat4    300000 non-null  object \n",
      " 5   cat5    300000 non-null  object \n",
      " 6   cat6    300000 non-null  object \n",
      " 7   cat7    300000 non-null  object \n",
      " 8   cat8    300000 non-null  object \n",
      " 9   cat9    300000 non-null  object \n",
      " 10  cont0   300000 non-null  float64\n",
      " 11  cont1   300000 non-null  float64\n",
      " 12  cont2   300000 non-null  float64\n",
      " 13  cont3   300000 non-null  float64\n",
      " 14  cont4   300000 non-null  float64\n",
      " 15  cont5   300000 non-null  float64\n",
      " 16  cont6   300000 non-null  float64\n",
      " 17  cont7   300000 non-null  float64\n",
      " 18  cont8   300000 non-null  float64\n",
      " 19  cont9   300000 non-null  float64\n",
      " 20  cont10  300000 non-null  float64\n",
      " 21  cont11  300000 non-null  float64\n",
      " 22  cont12  300000 non-null  float64\n",
      " 23  cont13  300000 non-null  float64\n",
      " 24  target  300000 non-null  float64\n",
      "dtypes: float64(15), object(10)\n",
      "memory usage: 59.5+ MB\n"
     ]
    }
   ],
   "source": [
    "train.info()"
   ]
  },
  {
   "cell_type": "code",
   "execution_count": 9,
   "metadata": {},
   "outputs": [
    {
     "name": "stdout",
     "output_type": "stream",
     "text": [
      "<class 'pandas.core.frame.DataFrame'>\n",
      "Int64Index: 200000 entries, 0 to 499995\n",
      "Data columns (total 24 columns):\n",
      " #   Column  Non-Null Count   Dtype  \n",
      "---  ------  --------------   -----  \n",
      " 0   cat0    200000 non-null  object \n",
      " 1   cat1    200000 non-null  object \n",
      " 2   cat2    200000 non-null  object \n",
      " 3   cat3    200000 non-null  object \n",
      " 4   cat4    200000 non-null  object \n",
      " 5   cat5    200000 non-null  object \n",
      " 6   cat6    200000 non-null  object \n",
      " 7   cat7    200000 non-null  object \n",
      " 8   cat8    200000 non-null  object \n",
      " 9   cat9    200000 non-null  object \n",
      " 10  cont0   200000 non-null  float64\n",
      " 11  cont1   200000 non-null  float64\n",
      " 12  cont2   200000 non-null  float64\n",
      " 13  cont3   200000 non-null  float64\n",
      " 14  cont4   200000 non-null  float64\n",
      " 15  cont5   200000 non-null  float64\n",
      " 16  cont6   200000 non-null  float64\n",
      " 17  cont7   200000 non-null  float64\n",
      " 18  cont8   200000 non-null  float64\n",
      " 19  cont9   200000 non-null  float64\n",
      " 20  cont10  200000 non-null  float64\n",
      " 21  cont11  200000 non-null  float64\n",
      " 22  cont12  200000 non-null  float64\n",
      " 23  cont13  200000 non-null  float64\n",
      "dtypes: float64(14), object(10)\n",
      "memory usage: 38.1+ MB\n"
     ]
    }
   ],
   "source": [
    "test.info()"
   ]
  },
  {
   "cell_type": "code",
   "execution_count": 10,
   "metadata": {},
   "outputs": [
    {
     "data": {
      "text/plain": [
       "<AxesSubplot:xlabel='target'>"
      ]
     },
     "execution_count": 10,
     "metadata": {},
     "output_type": "execute_result"
    },
    {
     "data": {
      "image/png": "[encoded data removed]",
      "text/plain": [
       "<Figure size 432x288 with 1 Axes>"
      ]
     },
     "metadata": {
      "needs_background": "light"
     },
     "output_type": "display_data"
    }
   ],
   "source": [
    "sns.boxplot(data=train, x='target')"
   ]
  },
  {
   "cell_type": "code",
   "execution_count": 11,
   "metadata": {},
   "outputs": [
    {
     "data": {
      "text/plain": [
       "<matplotlib.legend.Legend at 0x7f82ffe6f1d0>"
      ]
     },
     "execution_count": 11,
     "metadata": {},
     "output_type": "execute_result"
    },
    {
     "data": {
      "image/png": "[encoded data removed]",
      "text/plain": [
       "<Figure size 432x288 with 1 Axes>"
      ]
     },
     "metadata": {
      "needs_background": "light"
     },
     "output_type": "display_data"
    }
   ],
   "source": [
    "g= sns.histplot(data=train, x='target', label=\"Skewness : %.2f\"%(train[\"target\"].skew()))\n",
    "g.legend()"
   ]
  },
  {
   "cell_type": "code",
   "execution_count": 12,
   "metadata": {},
   "outputs": [
    {
     "data": {
      "text/plain": [
       "<matplotlib.legend.Legend at 0x7f82ffb321d0>"
      ]
     },
     "execution_count": 12,
     "metadata": {},
     "output_type": "execute_result"
    },
    {
     "data": {
      "image/png": "[encoded data removed]",
      "text/plain": [
       "<Figure size 432x288 with 1 Axes>"
      ]
     },
     "metadata": {
      "needs_background": "light"
     },
     "output_type": "display_data"
    }
   ],
   "source": [
    "g = sns.histplot(np.log1p(train['target']), label=\"Skewness : %.2f\"%(np.log1p(train[\"target\"]).skew()))\n",
    "g.legend()"
   ]
  },
  {
   "cell_type": "markdown",
   "metadata": {},
   "source": [
    "# Outlier Detection"
   ]
  },
  {
   "cell_type": "code",
   "execution_count": 13,
   "metadata": {},
   "outputs": [],
   "source": [
    "def detect_outliers(df,n,features):\n",
    "    \"\"\"\n",
    "    Takes a dataframe df of features and returns a list of the indices\n",
    "    corresponding to the observations containing more than n outliers according\n",
    "    to the Tukey method.\n",
    "    \"\"\"\n",
    "    outlier_indices = []\n",
    "    \n",
    "    # iterate over features(columns)\n",
    "    for col in features:\n",
    "        # 1st quartile (25%)\n",
    "        Q1 = np.percentile(df[col], 25)\n",
    "        # 3rd quartile (75%)\n",
    "        Q3 = np.percentile(df[col],75)\n",
    "        # Interquartile range (IQR)\n",
    "        IQR = Q3 - Q1\n",
    "        \n",
    "        # outlier step\n",
    "        outlier_step = 1.5 * IQR\n",
    "        \n",
    "        # Determine a list of indices of outliers for feature col\n",
    "        outlier_list_col = df[(df[col] < Q1 - outlier_step) | (df[col] > Q3 + outlier_step )].index\n",
    "        \n",
    "        # append the found outlier indices for col to the list of outlier indices \n",
    "        outlier_indices.extend(outlier_list_col)\n",
    "        \n",
    "    # select observations containing more than 2 outliers\n",
    "    #outlier_indices = Counter(outlier_indices)    \n",
    "    #multiple_outliers = list( k for k, v in outlier_indices.items() if v > n )\n",
    "    \n",
    "    #return multiple_outliers \n",
    "    \n",
    "    return outlier_indices"
   ]
  },
  {
   "cell_type": "code",
   "execution_count": 14,
   "metadata": {},
   "outputs": [
    {
     "name": "stdout",
     "output_type": "stream",
     "text": [
      "359\n"
     ]
    }
   ],
   "source": [
    "target_outliers = detect_outliers(train, 1, [\"target\"])\n",
    "print(len(target_outliers))"
   ]
  },
  {
   "cell_type": "code",
   "execution_count": 15,
   "metadata": {},
   "outputs": [],
   "source": [
    "train_copy = train.copy()\n",
    "train.drop(target_outliers, axis=0, inplace=True)"
   ]
  },
  {
   "cell_type": "code",
   "execution_count": 16,
   "metadata": {},
   "outputs": [
    {
     "name": "stdout",
     "output_type": "stream",
     "text": [
      "<class 'pandas.core.frame.DataFrame'>\n",
      "Int64Index: 299641 entries, 1 to 499999\n",
      "Data columns (total 25 columns):\n",
      " #   Column  Non-Null Count   Dtype  \n",
      "---  ------  --------------   -----  \n",
      " 0   cat0    299641 non-null  object \n",
      " 1   cat1    299641 non-null  object \n",
      " 2   cat2    299641 non-null  object \n",
      " 3   cat3    299641 non-null  object \n",
      " 4   cat4    299641 non-null  object \n",
      " 5   cat5    299641 non-null  object \n",
      " 6   cat6    299641 non-null  object \n",
      " 7   cat7    299641 non-null  object \n",
      " 8   cat8    299641 non-null  object \n",
      " 9   cat9    299641 non-null  object \n",
      " 10  cont0   299641 non-null  float64\n",
      " 11  cont1   299641 non-null  float64\n",
      " 12  cont2   299641 non-null  float64\n",
      " 13  cont3   299641 non-null  float64\n",
      " 14  cont4   299641 non-null  float64\n",
      " 15  cont5   299641 non-null  float64\n",
      " 16  cont6   299641 non-null  float64\n",
      " 17  cont7   299641 non-null  float64\n",
      " 18  cont8   299641 non-null  float64\n",
      " 19  cont9   299641 non-null  float64\n",
      " 20  cont10  299641 non-null  float64\n",
      " 21  cont11  299641 non-null  float64\n",
      " 22  cont12  299641 non-null  float64\n",
      " 23  cont13  299641 non-null  float64\n",
      " 24  target  299641 non-null  float64\n",
      "dtypes: float64(15), object(10)\n",
      "memory usage: 59.4+ MB\n"
     ]
    }
   ],
   "source": [
    "train.info()"
   ]
  },
  {
   "cell_type": "markdown",
   "metadata": {},
   "source": [
    "# Feature Engineering and Selections"
   ]
  },
  {
   "cell_type": "markdown",
   "metadata": {},
   "source": [
    "## 1. Categorical Features: Labeling"
   ]
  },
  {
   "cell_type": "code",
   "execution_count": 17,
   "metadata": {},
   "outputs": [],
   "source": [
    "## Join train and test datasets in order to obtain the same number of features during categorical conversion\n",
    "train_len = len(train)\n",
    "data =  pd.concat(objs=[train, test], axis=0)"
   ]
  },
  {
   "cell_type": "markdown",
   "metadata": {},
   "source": [
    "### 1.1. Label Encoder"
   ]
  },
  {
   "cell_type": "code",
   "execution_count": 18,
   "metadata": {},
   "outputs": [],
   "source": [
    "categorical_features = ['cat' + str(i) for i in range(10)]\n",
    "for feature in categorical_features:\n",
    "    encoder = LabelEncoder()\n",
    "    encoder.fit(data[feature].values)\n",
    "    data[feature] = encoder.transform(data[feature].values)"
   ]
  },
  {
   "cell_type": "code",
   "execution_count": 19,
   "metadata": {},
   "outputs": [
    {
     "name": "stdout",
     "output_type": "stream",
     "text": [
      "<class 'pandas.core.frame.DataFrame'>\n",
      "Int64Index: 499641 entries, 1 to 499995\n",
      "Data columns (total 25 columns):\n",
      " #   Column  Non-Null Count   Dtype  \n",
      "---  ------  --------------   -----  \n",
      " 0   cat0    499641 non-null  int64  \n",
      " 1   cat1    499641 non-null  int64  \n",
      " 2   cat2    499641 non-null  int64  \n",
      " 3   cat3    499641 non-null  int64  \n",
      " 4   cat4    499641 non-null  int64  \n",
      " 5   cat5    499641 non-null  int64  \n",
      " 6   cat6    499641 non-null  int64  \n",
      " 7   cat7    499641 non-null  int64  \n",
      " 8   cat8    499641 non-null  int64  \n",
      " 9   cat9    499641 non-null  int64  \n",
      " 10  cont0   499641 non-null  float64\n",
      " 11  cont1   499641 non-null  float64\n",
      " 12  cont2   499641 non-null  float64\n",
      " 13  cont3   499641 non-null  float64\n",
      " 14  cont4   499641 non-null  float64\n",
      " 15  cont5   499641 non-null  float64\n",
      " 16  cont6   499641 non-null  float64\n",
      " 17  cont7   499641 non-null  float64\n",
      " 18  cont8   499641 non-null  float64\n",
      " 19  cont9   499641 non-null  float64\n",
      " 20  cont10  499641 non-null  float64\n",
      " 21  cont11  499641 non-null  float64\n",
      " 22  cont12  499641 non-null  float64\n",
      " 23  cont13  499641 non-null  float64\n",
      " 24  target  299641 non-null  float64\n",
      "dtypes: float64(15), int64(10)\n",
      "memory usage: 99.1 MB\n"
     ]
    }
   ],
   "source": [
    "data.info()"
   ]
  },
  {
   "cell_type": "markdown",
   "metadata": {},
   "source": [
    "## 2. Train and Test sets preparation"
   ]
  },
  {
   "cell_type": "code",
   "execution_count": 20,
   "metadata": {},
   "outputs": [],
   "source": [
    "train_ohe = data[:train_len]\n",
    "test_ohe  = data[train_len:]"
   ]
  },
  {
   "cell_type": "code",
   "execution_count": 21,
   "metadata": {},
   "outputs": [],
   "source": [
    "test_ohe.drop('target', axis=1, inplace=True)"
   ]
  },
  {
   "cell_type": "code",
   "execution_count": 22,
   "metadata": {},
   "outputs": [],
   "source": [
    "target = train_ohe.pop('target')"
   ]
  },
  {
   "cell_type": "markdown",
   "metadata": {},
   "source": [
    "## 2.1. Standardization"
   ]
  },
  {
   "cell_type": "code",
   "execution_count": 23,
   "metadata": {},
   "outputs": [],
   "source": [
    "scaler = StandardScaler()\n",
    "scaler.fit(train_ohe)\n",
    "train_scaled = scaler.transform(train_ohe)\n",
    "test_scaled  = scaler.transform(test_ohe)"
   ]
  },
  {
   "cell_type": "markdown",
   "metadata": {},
   "source": [
    "## 2.2. Train, Validation, Test sets"
   ]
  },
  {
   "cell_type": "markdown",
   "metadata": {},
   "source": [
    "X_train, X_test, y_train, y_test = train_test_split(train_ohe, target, test_size=0.20)"
   ]
  },
  {
   "cell_type": "code",
   "execution_count": 24,
   "metadata": {},
   "outputs": [],
   "source": [
    "X_train, X_test, y_train, y_test = train_test_split(train_scaled, target, test_size=0.20)"
   ]
  },
  {
   "cell_type": "markdown",
   "metadata": {},
   "source": [
    "# ML Model "
   ]
  },
  {
   "cell_type": "markdown",
   "metadata": {},
   "source": [
    "## 1. Light GBM"
   ]
  },
  {
   "cell_type": "code",
   "execution_count": 25,
   "metadata": {},
   "outputs": [],
   "source": [
    "import lightgbm\n",
    "from lightgbm import LGBMRegressor"
   ]
  },
  {
   "cell_type": "code",
   "execution_count": 35,
   "metadata": {},
   "outputs": [
    {
     "name": "stdout",
     "output_type": "stream",
     "text": [
      "39 4641\n"
     ]
    }
   ],
   "source": [
    "from sklearn.utils import shuffle\n",
    "\n",
    "n_training = 100000\n",
    "\n",
    "X_train_rand, y_train_rand = shuffle(X_train, y_train, random_state=56)\n",
    "X_train_p = X_train_rand[:n_training]\n",
    "y_train_p = y_train_rand[:n_training]\n",
    "\n",
    "test_size = 5000\n",
    "\n",
    "nbins = (train_len - n_training)//test_size\n",
    "remainder = (train_len - n_training)%test_size\n",
    "\n",
    "print(nbins, remainder)\n",
    "\n",
    "X_test_list = []\n",
    "y_test_list = []\n",
    "\n",
    "for i in range(nbins):\n",
    "    X_test_p  = X_train_rand[n_training+test_size*i:n_training+test_size*(i+1)]\n",
    "    y_test_p  = y_train_rand[n_training+test_size*i:n_training+test_size*(i+1)]\n",
    "    \n",
    "    X_test_list.append(X_test_p)\n",
    "    y_test_list.append(y_test_p)"
   ]
  },
  {
   "cell_type": "markdown",
   "metadata": {},
   "source": [
    "## 3.1. Light GBM [default]"
   ]
  },
  {
   "cell_type": "code",
   "execution_count": 36,
   "metadata": {},
   "outputs": [
    {
     "name": "stdout",
     "output_type": "stream",
     "text": [
      "CPU times: user 85.8 ms, sys: 156 ms, total: 242 ms\n",
      "Wall time: 5.76 s\n",
      "[0.8486 0.8405 0.8349 0.8525 0.852  0.8458 0.8445 0.848  0.8331 0.8452]\n",
      "0.8445\n"
     ]
    }
   ],
   "source": [
    "lgbm_reg = LGBMRegressor(n_estimators=300)\n",
    "%time scores = cross_val_score(lgbm_reg, X_train_p, y_train_p, scoring='neg_mean_squared_error', cv=10, n_jobs=-1)\n",
    "rmse_list = np.sqrt(-scores)\n",
    "print(np.round(rmse_list,4))\n",
    "print(np.round(np.mean(rmse_list),4))"
   ]
  },
  {
   "cell_type": "code",
   "execution_count": 37,
   "metadata": {},
   "outputs": [
    {
     "data": {
      "text/plain": [
       "LGBMRegressor(n_estimators=300)"
      ]
     },
     "execution_count": 37,
     "metadata": {},
     "output_type": "execute_result"
    }
   ],
   "source": [
    "lgbm_reg = LGBMRegressor(n_estimators=300)\n",
    "lgbm_reg.fit(X_train_p, y_train_p,verbose=100)"
   ]
  },
  {
   "cell_type": "code",
   "execution_count": 38,
   "metadata": {},
   "outputs": [
    {
     "name": "stdout",
     "output_type": "stream",
     "text": [
      "0.848\n",
      "0.8323\n",
      "0.8456\n",
      "0.842\n",
      "0.8427\n",
      "0.8514\n",
      "0.8401\n",
      "0.8386\n",
      "0.848\n",
      "0.8422\n",
      "0.859\n",
      "0.8411\n",
      "0.8446\n",
      "0.8382\n",
      "0.8331\n"
     ]
    }
   ],
   "source": [
    "for i in range(15):\n",
    "    pred = lgbm_reg.predict(X_test_list[i])\n",
    "    print(np.round(rmse(y_test_list[i], pred),4))"
   ]
  },
  {
   "cell_type": "code",
   "execution_count": 39,
   "metadata": {},
   "outputs": [
    {
     "name": "stdout",
     "output_type": "stream",
     "text": [
      "0.8445 0.0062\n"
     ]
    }
   ],
   "source": [
    "print(np.round(np.mean(rmse_list),4), np.round(np.std(rmse_list),4))"
   ]
  },
  {
   "cell_type": "code",
   "execution_count": 79,
   "metadata": {},
   "outputs": [
    {
     "data": {
      "text/html": [
       "<div>\n",
       "<style scoped>\n",
       "    .dataframe tbody tr th:only-of-type {\n",
       "        vertical-align: middle;\n",
       "    }\n",
       "\n",
       "    .dataframe tbody tr th {\n",
       "        vertical-align: top;\n",
       "    }\n",
       "\n",
       "    .dataframe thead th {\n",
       "        text-align: right;\n",
       "    }\n",
       "</style>\n",
       "<table border=\"1\" class=\"dataframe\">\n",
       "  <thead>\n",
       "    <tr style=\"text-align: right;\">\n",
       "      <th></th>\n",
       "      <th>cat0</th>\n",
       "      <th>cat1</th>\n",
       "      <th>cat2</th>\n",
       "      <th>cat3</th>\n",
       "      <th>cat4</th>\n",
       "      <th>cat5</th>\n",
       "      <th>cat6</th>\n",
       "      <th>cat7</th>\n",
       "      <th>cat8</th>\n",
       "      <th>cat9</th>\n",
       "      <th>...</th>\n",
       "      <th>cont4</th>\n",
       "      <th>cont5</th>\n",
       "      <th>cont6</th>\n",
       "      <th>cont7</th>\n",
       "      <th>cont8</th>\n",
       "      <th>cont9</th>\n",
       "      <th>cont10</th>\n",
       "      <th>cont11</th>\n",
       "      <th>cont12</th>\n",
       "      <th>cont13</th>\n",
       "    </tr>\n",
       "    <tr>\n",
       "      <th>id</th>\n",
       "      <th></th>\n",
       "      <th></th>\n",
       "      <th></th>\n",
       "      <th></th>\n",
       "      <th></th>\n",
       "      <th></th>\n",
       "      <th></th>\n",
       "      <th></th>\n",
       "      <th></th>\n",
       "      <th></th>\n",
       "      <th></th>\n",
       "      <th></th>\n",
       "      <th></th>\n",
       "      <th></th>\n",
       "      <th></th>\n",
       "      <th></th>\n",
       "      <th></th>\n",
       "      <th></th>\n",
       "      <th></th>\n",
       "      <th></th>\n",
       "      <th></th>\n",
       "    </tr>\n",
       "  </thead>\n",
       "  <tbody>\n",
       "    <tr>\n",
       "      <th>367490</th>\n",
       "      <td>0</td>\n",
       "      <td>0</td>\n",
       "      <td>1</td>\n",
       "      <td>2</td>\n",
       "      <td>1</td>\n",
       "      <td>1</td>\n",
       "      <td>0</td>\n",
       "      <td>4</td>\n",
       "      <td>2</td>\n",
       "      <td>6</td>\n",
       "      <td>...</td>\n",
       "      <td>0.280483</td>\n",
       "      <td>0.385085</td>\n",
       "      <td>0.348651</td>\n",
       "      <td>0.250480</td>\n",
       "      <td>0.413385</td>\n",
       "      <td>0.367807</td>\n",
       "      <td>0.357315</td>\n",
       "      <td>0.234222</td>\n",
       "      <td>0.353337</td>\n",
       "      <td>0.418720</td>\n",
       "    </tr>\n",
       "    <tr>\n",
       "      <th>206149</th>\n",
       "      <td>0</td>\n",
       "      <td>1</td>\n",
       "      <td>0</td>\n",
       "      <td>0</td>\n",
       "      <td>1</td>\n",
       "      <td>1</td>\n",
       "      <td>0</td>\n",
       "      <td>4</td>\n",
       "      <td>2</td>\n",
       "      <td>5</td>\n",
       "      <td>...</td>\n",
       "      <td>0.886374</td>\n",
       "      <td>0.418585</td>\n",
       "      <td>0.440001</td>\n",
       "      <td>0.337723</td>\n",
       "      <td>0.442551</td>\n",
       "      <td>0.394679</td>\n",
       "      <td>0.299476</td>\n",
       "      <td>0.383967</td>\n",
       "      <td>0.359291</td>\n",
       "      <td>0.801495</td>\n",
       "    </tr>\n",
       "    <tr>\n",
       "      <th>36842</th>\n",
       "      <td>0</td>\n",
       "      <td>0</td>\n",
       "      <td>0</td>\n",
       "      <td>2</td>\n",
       "      <td>1</td>\n",
       "      <td>3</td>\n",
       "      <td>0</td>\n",
       "      <td>4</td>\n",
       "      <td>4</td>\n",
       "      <td>8</td>\n",
       "      <td>...</td>\n",
       "      <td>0.305516</td>\n",
       "      <td>0.398774</td>\n",
       "      <td>0.359414</td>\n",
       "      <td>0.292139</td>\n",
       "      <td>0.210390</td>\n",
       "      <td>0.615887</td>\n",
       "      <td>0.437725</td>\n",
       "      <td>0.340588</td>\n",
       "      <td>0.463376</td>\n",
       "      <td>0.310506</td>\n",
       "    </tr>\n",
       "    <tr>\n",
       "      <th>421605</th>\n",
       "      <td>0</td>\n",
       "      <td>1</td>\n",
       "      <td>1</td>\n",
       "      <td>2</td>\n",
       "      <td>1</td>\n",
       "      <td>1</td>\n",
       "      <td>0</td>\n",
       "      <td>3</td>\n",
       "      <td>2</td>\n",
       "      <td>11</td>\n",
       "      <td>...</td>\n",
       "      <td>0.417655</td>\n",
       "      <td>0.372389</td>\n",
       "      <td>0.318900</td>\n",
       "      <td>0.587186</td>\n",
       "      <td>0.285130</td>\n",
       "      <td>0.490414</td>\n",
       "      <td>0.264030</td>\n",
       "      <td>0.321524</td>\n",
       "      <td>0.340100</td>\n",
       "      <td>0.469058</td>\n",
       "    </tr>\n",
       "    <tr>\n",
       "      <th>366859</th>\n",
       "      <td>0</td>\n",
       "      <td>1</td>\n",
       "      <td>0</td>\n",
       "      <td>2</td>\n",
       "      <td>1</td>\n",
       "      <td>1</td>\n",
       "      <td>0</td>\n",
       "      <td>4</td>\n",
       "      <td>4</td>\n",
       "      <td>5</td>\n",
       "      <td>...</td>\n",
       "      <td>0.741661</td>\n",
       "      <td>0.380508</td>\n",
       "      <td>0.287389</td>\n",
       "      <td>0.255087</td>\n",
       "      <td>0.299669</td>\n",
       "      <td>0.540102</td>\n",
       "      <td>0.259099</td>\n",
       "      <td>0.206325</td>\n",
       "      <td>0.285140</td>\n",
       "      <td>0.633759</td>\n",
       "    </tr>\n",
       "    <tr>\n",
       "      <th>...</th>\n",
       "      <td>...</td>\n",
       "      <td>...</td>\n",
       "      <td>...</td>\n",
       "      <td>...</td>\n",
       "      <td>...</td>\n",
       "      <td>...</td>\n",
       "      <td>...</td>\n",
       "      <td>...</td>\n",
       "      <td>...</td>\n",
       "      <td>...</td>\n",
       "      <td>...</td>\n",
       "      <td>...</td>\n",
       "      <td>...</td>\n",
       "      <td>...</td>\n",
       "      <td>...</td>\n",
       "      <td>...</td>\n",
       "      <td>...</td>\n",
       "      <td>...</td>\n",
       "      <td>...</td>\n",
       "      <td>...</td>\n",
       "      <td>...</td>\n",
       "    </tr>\n",
       "    <tr>\n",
       "      <th>131742</th>\n",
       "      <td>1</td>\n",
       "      <td>1</td>\n",
       "      <td>0</td>\n",
       "      <td>2</td>\n",
       "      <td>1</td>\n",
       "      <td>3</td>\n",
       "      <td>1</td>\n",
       "      <td>4</td>\n",
       "      <td>6</td>\n",
       "      <td>7</td>\n",
       "      <td>...</td>\n",
       "      <td>0.722072</td>\n",
       "      <td>0.807024</td>\n",
       "      <td>0.699308</td>\n",
       "      <td>0.623601</td>\n",
       "      <td>0.575714</td>\n",
       "      <td>0.618508</td>\n",
       "      <td>0.548232</td>\n",
       "      <td>0.540742</td>\n",
       "      <td>0.775626</td>\n",
       "      <td>0.813630</td>\n",
       "    </tr>\n",
       "    <tr>\n",
       "      <th>27345</th>\n",
       "      <td>0</td>\n",
       "      <td>0</td>\n",
       "      <td>0</td>\n",
       "      <td>0</td>\n",
       "      <td>1</td>\n",
       "      <td>3</td>\n",
       "      <td>0</td>\n",
       "      <td>4</td>\n",
       "      <td>6</td>\n",
       "      <td>8</td>\n",
       "      <td>...</td>\n",
       "      <td>0.536170</td>\n",
       "      <td>0.959647</td>\n",
       "      <td>0.586131</td>\n",
       "      <td>0.858822</td>\n",
       "      <td>0.923304</td>\n",
       "      <td>0.808019</td>\n",
       "      <td>0.628674</td>\n",
       "      <td>0.589716</td>\n",
       "      <td>0.858104</td>\n",
       "      <td>0.793321</td>\n",
       "    </tr>\n",
       "    <tr>\n",
       "      <th>168087</th>\n",
       "      <td>0</td>\n",
       "      <td>0</td>\n",
       "      <td>0</td>\n",
       "      <td>0</td>\n",
       "      <td>1</td>\n",
       "      <td>3</td>\n",
       "      <td>0</td>\n",
       "      <td>4</td>\n",
       "      <td>2</td>\n",
       "      <td>8</td>\n",
       "      <td>...</td>\n",
       "      <td>0.243653</td>\n",
       "      <td>0.173773</td>\n",
       "      <td>0.214459</td>\n",
       "      <td>0.342733</td>\n",
       "      <td>0.195121</td>\n",
       "      <td>0.305414</td>\n",
       "      <td>0.151381</td>\n",
       "      <td>0.181758</td>\n",
       "      <td>0.297679</td>\n",
       "      <td>0.359205</td>\n",
       "    </tr>\n",
       "    <tr>\n",
       "      <th>259505</th>\n",
       "      <td>0</td>\n",
       "      <td>0</td>\n",
       "      <td>0</td>\n",
       "      <td>2</td>\n",
       "      <td>1</td>\n",
       "      <td>1</td>\n",
       "      <td>0</td>\n",
       "      <td>4</td>\n",
       "      <td>4</td>\n",
       "      <td>10</td>\n",
       "      <td>...</td>\n",
       "      <td>0.470666</td>\n",
       "      <td>0.193991</td>\n",
       "      <td>0.248825</td>\n",
       "      <td>0.704656</td>\n",
       "      <td>0.342867</td>\n",
       "      <td>0.403803</td>\n",
       "      <td>0.112904</td>\n",
       "      <td>0.223890</td>\n",
       "      <td>0.254697</td>\n",
       "      <td>0.291290</td>\n",
       "    </tr>\n",
       "    <tr>\n",
       "      <th>224692</th>\n",
       "      <td>0</td>\n",
       "      <td>0</td>\n",
       "      <td>0</td>\n",
       "      <td>2</td>\n",
       "      <td>1</td>\n",
       "      <td>3</td>\n",
       "      <td>0</td>\n",
       "      <td>4</td>\n",
       "      <td>2</td>\n",
       "      <td>8</td>\n",
       "      <td>...</td>\n",
       "      <td>0.279087</td>\n",
       "      <td>0.699949</td>\n",
       "      <td>0.766087</td>\n",
       "      <td>0.776854</td>\n",
       "      <td>0.673106</td>\n",
       "      <td>0.864335</td>\n",
       "      <td>0.683782</td>\n",
       "      <td>0.808698</td>\n",
       "      <td>0.680757</td>\n",
       "      <td>0.526020</td>\n",
       "    </tr>\n",
       "  </tbody>\n",
       "</table>\n",
       "<p>5000 rows × 24 columns</p>\n",
       "</div>"
      ],
      "text/plain": [
       "        cat0  cat1  cat2  cat3  cat4  cat5  cat6  cat7  cat8  cat9  ...  \\\n",
       "id                                                                  ...   \n",
       "367490     0     0     1     2     1     1     0     4     2     6  ...   \n",
       "206149     0     1     0     0     1     1     0     4     2     5  ...   \n",
       "36842      0     0     0     2     1     3     0     4     4     8  ...   \n",
       "421605     0     1     1     2     1     1     0     3     2    11  ...   \n",
       "366859     0     1     0     2     1     1     0     4     4     5  ...   \n",
       "...      ...   ...   ...   ...   ...   ...   ...   ...   ...   ...  ...   \n",
       "131742     1     1     0     2     1     3     1     4     6     7  ...   \n",
       "27345      0     0     0     0     1     3     0     4     6     8  ...   \n",
       "168087     0     0     0     0     1     3     0     4     2     8  ...   \n",
       "259505     0     0     0     2     1     1     0     4     4    10  ...   \n",
       "224692     0     0     0     2     1     3     0     4     2     8  ...   \n",
       "\n",
       "           cont4     cont5     cont6     cont7     cont8     cont9    cont10  \\\n",
       "id                                                                             \n",
       "367490  0.280483  0.385085  0.348651  0.250480  0.413385  0.367807  0.357315   \n",
       "206149  0.886374  0.418585  0.440001  0.337723  0.442551  0.394679  0.299476   \n",
       "36842   0.305516  0.398774  0.359414  0.292139  0.210390  0.615887  0.437725   \n",
       "421605  0.417655  0.372389  0.318900  0.587186  0.285130  0.490414  0.264030   \n",
       "366859  0.741661  0.380508  0.287389  0.255087  0.299669  0.540102  0.259099   \n",
       "...          ...       ...       ...       ...       ...       ...       ...   \n",
       "131742  0.722072  0.807024  0.699308  0.623601  0.575714  0.618508  0.548232   \n",
       "27345   0.536170  0.959647  0.586131  0.858822  0.923304  0.808019  0.628674   \n",
       "168087  0.243653  0.173773  0.214459  0.342733  0.195121  0.305414  0.151381   \n",
       "259505  0.470666  0.193991  0.248825  0.704656  0.342867  0.403803  0.112904   \n",
       "224692  0.279087  0.699949  0.766087  0.776854  0.673106  0.864335  0.683782   \n",
       "\n",
       "          cont11    cont12    cont13  \n",
       "id                                    \n",
       "367490  0.234222  0.353337  0.418720  \n",
       "206149  0.383967  0.359291  0.801495  \n",
       "36842   0.340588  0.463376  0.310506  \n",
       "421605  0.321524  0.340100  0.469058  \n",
       "366859  0.206325  0.285140  0.633759  \n",
       "...          ...       ...       ...  \n",
       "131742  0.540742  0.775626  0.813630  \n",
       "27345   0.589716  0.858104  0.793321  \n",
       "168087  0.181758  0.297679  0.359205  \n",
       "259505  0.223890  0.254697  0.291290  \n",
       "224692  0.808698  0.680757  0.526020  \n",
       "\n",
       "[5000 rows x 24 columns]"
      ]
     },
     "execution_count": 79,
     "metadata": {},
     "output_type": "execute_result"
    }
   ],
   "source": [
    "X_test_list[35]"
   ]
  },
  {
   "cell_type": "markdown",
   "metadata": {},
   "source": [
    "## 3.2. Hyper Parameter Tuning"
   ]
  },
  {
   "cell_type": "code",
   "execution_count": 82,
   "metadata": {},
   "outputs": [
    {
     "name": "stdout",
     "output_type": "stream",
     "text": [
      "Help on class LGBMRegressor in module lightgbm.sklearn:\n",
      "\n",
      "class LGBMRegressor(LGBMModel, sklearn.base.RegressorMixin)\n",
      " |  LightGBM regressor.\n",
      " |  \n",
      " |  Method resolution order:\n",
      " |      LGBMRegressor\n",
      " |      LGBMModel\n",
      " |      sklearn.base.BaseEstimator\n",
      " |      sklearn.base.RegressorMixin\n",
      " |      builtins.object\n",
      " |  \n",
      " |  Methods defined here:\n",
      " |  \n",
      " |  fit(self, X, y, sample_weight=None, init_score=None, eval_set=None, eval_names=None, eval_sample_weight=None, eval_init_score=None, eval_metric=None, early_stopping_rounds=None, verbose=True, feature_name='auto', categorical_feature='auto', callbacks=None, init_model=None)\n",
      " |      Build a gradient boosting model from the training set (X, y).\n",
      " |      \n",
      " |      Parameters\n",
      " |      ----------\n",
      " |      X : array-like or sparse matrix of shape = [n_samples, n_features]\n",
      " |          Input feature matrix.\n",
      " |      y : array-like of shape = [n_samples]\n",
      " |          The target values (class labels in classification, real numbers in regression).\n",
      " |      sample_weight : array-like of shape = [n_samples] or None, optional (default=None)\n",
      " |          Weights of training data.\n",
      " |      init_score : array-like of shape = [n_samples] or None, optional (default=None)\n",
      " |          Init score of training data.\n",
      " |      eval_set : list or None, optional (default=None)\n",
      " |          A list of (X, y) tuple pairs to use as validation sets.\n",
      " |      eval_names : list of strings or None, optional (default=None)\n",
      " |          Names of eval_set.\n",
      " |      eval_sample_weight : list of arrays or None, optional (default=None)\n",
      " |          Weights of eval data.\n",
      " |      eval_init_score : list of arrays or None, optional (default=None)\n",
      " |          Init score of eval data.\n",
      " |      eval_metric : string, callable, list or None, optional (default=None)\n",
      " |          If string, it should be a built-in evaluation metric to use.\n",
      " |          If callable, it should be a custom evaluation metric, see note below for more details.\n",
      " |          If list, it can be a list of built-in metrics, a list of custom evaluation metrics, or a mix of both.\n",
      " |          In either case, the ``metric`` from the model parameters will be evaluated and used as well.\n",
      " |          Default: 'l2' for LGBMRegressor, 'logloss' for LGBMClassifier, 'ndcg' for LGBMRanker.\n",
      " |      early_stopping_rounds : int or None, optional (default=None)\n",
      " |          Activates early stopping. The model will train until the validation score stops improving.\n",
      " |          Validation score needs to improve at least every ``early_stopping_rounds`` round(s)\n",
      " |          to continue training.\n",
      " |          Requires at least one validation data and one metric.\n",
      " |          If there's more than one, will check all of them. But the training data is ignored anyway.\n",
      " |          To check only the first metric, set the ``first_metric_only`` parameter to ``True``\n",
      " |          in additional parameters ``**kwargs`` of the model constructor.\n",
      " |      verbose : bool or int, optional (default=True)\n",
      " |          Requires at least one evaluation data.\n",
      " |          If True, the eval metric on the eval set is printed at each boosting stage.\n",
      " |          If int, the eval metric on the eval set is printed at every ``verbose`` boosting stage.\n",
      " |          The last boosting stage or the boosting stage found by using ``early_stopping_rounds`` is also printed.\n",
      " |      \n",
      " |          .. rubric:: Example\n",
      " |      \n",
      " |          With ``verbose`` = 4 and at least one item in ``eval_set``,\n",
      " |          an evaluation metric is printed every 4 (instead of 1) boosting stages.\n",
      " |      \n",
      " |      feature_name : list of strings or 'auto', optional (default='auto')\n",
      " |          Feature names.\n",
      " |          If 'auto' and data is pandas DataFrame, data columns names are used.\n",
      " |      categorical_feature : list of strings or int, or 'auto', optional (default='auto')\n",
      " |          Categorical features.\n",
      " |          If list of int, interpreted as indices.\n",
      " |          If list of strings, interpreted as feature names (need to specify ``feature_name`` as well).\n",
      " |          If 'auto' and data is pandas DataFrame, pandas unordered categorical columns are used.\n",
      " |          All values in categorical features should be less than int32 max value (2147483647).\n",
      " |          Large values could be memory consuming. Consider using consecutive integers starting from zero.\n",
      " |          All negative values in categorical features will be treated as missing values.\n",
      " |          The output cannot be monotonically constrained with respect to a categorical feature.\n",
      " |      callbacks : list of callback functions or None, optional (default=None)\n",
      " |          List of callback functions that are applied at each iteration.\n",
      " |          See Callbacks in Python API for more information.\n",
      " |      init_model : string, Booster, LGBMModel or None, optional (default=None)\n",
      " |          Filename of LightGBM model, Booster instance or LGBMModel instance used for continue training.\n",
      " |      \n",
      " |      Returns\n",
      " |      -------\n",
      " |      self : object\n",
      " |          Returns self.\n",
      " |      \n",
      " |      Note\n",
      " |      ----\n",
      " |      Custom eval function expects a callable with following signatures:\n",
      " |      ``func(y_true, y_pred)``, ``func(y_true, y_pred, weight)`` or\n",
      " |      ``func(y_true, y_pred, weight, group)``\n",
      " |      and returns (eval_name, eval_result, is_higher_better) or\n",
      " |      list of (eval_name, eval_result, is_higher_better):\n",
      " |      \n",
      " |          y_true : array-like of shape = [n_samples]\n",
      " |              The target values.\n",
      " |          y_pred : array-like of shape = [n_samples] or shape = [n_samples * n_classes] (for multi-class task)\n",
      " |              The predicted values.\n",
      " |          weight : array-like of shape = [n_samples]\n",
      " |              The weight of samples.\n",
      " |          group : array-like\n",
      " |              Group/query data, used for ranking task.\n",
      " |          eval_name : string\n",
      " |              The name of evaluation function (without whitespaces).\n",
      " |          eval_result : float\n",
      " |              The eval result.\n",
      " |          is_higher_better : bool\n",
      " |              Is eval result higher better, e.g. AUC is ``is_higher_better``.\n",
      " |      \n",
      " |      For binary task, the y_pred is probability of positive class (or margin in case of custom ``objective``).\n",
      " |      For multi-class task, the y_pred is group by class_id first, then group by row_id.\n",
      " |      If you want to get i-th row y_pred in j-th class, the access way is y_pred[j * num_data + i].\n",
      " |  \n",
      " |  ----------------------------------------------------------------------\n",
      " |  Methods inherited from LGBMModel:\n",
      " |  \n",
      " |  __init__(self, boosting_type='gbdt', num_leaves=31, max_depth=-1, learning_rate=0.1, n_estimators=100, subsample_for_bin=200000, objective=None, class_weight=None, min_split_gain=0.0, min_child_weight=0.001, min_child_samples=20, subsample=1.0, subsample_freq=0, colsample_bytree=1.0, reg_alpha=0.0, reg_lambda=0.0, random_state=None, n_jobs=-1, silent=True, importance_type='split', **kwargs)\n",
      " |      Construct a gradient boosting model.\n",
      " |      \n",
      " |      Parameters\n",
      " |      ----------\n",
      " |      boosting_type : string, optional (default='gbdt')\n",
      " |          'gbdt', traditional Gradient Boosting Decision Tree.\n",
      " |          'dart', Dropouts meet Multiple Additive Regression Trees.\n",
      " |          'goss', Gradient-based One-Side Sampling.\n",
      " |          'rf', Random Forest.\n",
      " |      num_leaves : int, optional (default=31)\n",
      " |          Maximum tree leaves for base learners.\n",
      " |      max_depth : int, optional (default=-1)\n",
      " |          Maximum tree depth for base learners, <=0 means no limit.\n",
      " |      learning_rate : float, optional (default=0.1)\n",
      " |          Boosting learning rate.\n",
      " |          You can use ``callbacks`` parameter of ``fit`` method to shrink/adapt learning rate\n",
      " |          in training using ``reset_parameter`` callback.\n",
      " |          Note, that this will ignore the ``learning_rate`` argument in training.\n",
      " |      n_estimators : int, optional (default=100)\n",
      " |          Number of boosted trees to fit.\n",
      " |      subsample_for_bin : int, optional (default=200000)\n",
      " |          Number of samples for constructing bins.\n",
      " |      objective : string, callable or None, optional (default=None)\n",
      " |          Specify the learning task and the corresponding learning objective or\n",
      " |          a custom objective function to be used (see note below).\n",
      " |          Default: 'regression' for LGBMRegressor, 'binary' or 'multiclass' for LGBMClassifier, 'lambdarank' for LGBMRanker.\n",
      " |      class_weight : dict, 'balanced' or None, optional (default=None)\n",
      " |          Weights associated with classes in the form ``{class_label: weight}``.\n",
      " |          Use this parameter only for multi-class classification task;\n",
      " |          for binary classification task you may use ``is_unbalance`` or ``scale_pos_weight`` parameters.\n",
      " |          Note, that the usage of all these parameters will result in poor estimates of the individual class probabilities.\n",
      " |          You may want to consider performing probability calibration\n",
      " |          (https://scikit-learn.org/stable/modules/calibration.html) of your model.\n",
      " |          The 'balanced' mode uses the values of y to automatically adjust weights\n",
      " |          inversely proportional to class frequencies in the input data as ``n_samples / (n_classes * np.bincount(y))``.\n",
      " |          If None, all classes are supposed to have weight one.\n",
      " |          Note, that these weights will be multiplied with ``sample_weight`` (passed through the ``fit`` method)\n",
      " |          if ``sample_weight`` is specified.\n",
      " |      min_split_gain : float, optional (default=0.)\n",
      " |          Minimum loss reduction required to make a further partition on a leaf node of the tree.\n",
      " |      min_child_weight : float, optional (default=1e-3)\n",
      " |          Minimum sum of instance weight (hessian) needed in a child (leaf).\n",
      " |      min_child_samples : int, optional (default=20)\n",
      " |          Minimum number of data needed in a child (leaf).\n",
      " |      subsample : float, optional (default=1.)\n",
      " |          Subsample ratio of the training instance.\n",
      " |      subsample_freq : int, optional (default=0)\n",
      " |          Frequence of subsample, <=0 means no enable.\n",
      " |      colsample_bytree : float, optional (default=1.)\n",
      " |          Subsample ratio of columns when constructing each tree.\n",
      " |      reg_alpha : float, optional (default=0.)\n",
      " |          L1 regularization term on weights.\n",
      " |      reg_lambda : float, optional (default=0.)\n",
      " |          L2 regularization term on weights.\n",
      " |      random_state : int, RandomState object or None, optional (default=None)\n",
      " |          Random number seed.\n",
      " |          If int, this number is used to seed the C++ code.\n",
      " |          If RandomState object (numpy), a random integer is picked based on its state to seed the C++ code.\n",
      " |          If None, default seeds in C++ code are used.\n",
      " |      n_jobs : int, optional (default=-1)\n",
      " |          Number of parallel threads.\n",
      " |      silent : bool, optional (default=True)\n",
      " |          Whether to print messages while running boosting.\n",
      " |      importance_type : string, optional (default='split')\n",
      " |          The type of feature importance to be filled into ``feature_importances_``.\n",
      " |          If 'split', result contains numbers of times the feature is used in a model.\n",
      " |          If 'gain', result contains total gains of splits which use the feature.\n",
      " |      **kwargs\n",
      " |          Other parameters for the model.\n",
      " |          Check http://lightgbm.readthedocs.io/en/latest/Parameters.html for more parameters.\n",
      " |      \n",
      " |          .. warning::\n",
      " |      \n",
      " |              \\*\\*kwargs is not supported in sklearn, it may cause unexpected issues.\n",
      " |      \n",
      " |      Note\n",
      " |      ----\n",
      " |      A custom objective function can be provided for the ``objective`` parameter.\n",
      " |      In this case, it should have the signature\n",
      " |      ``objective(y_true, y_pred) -> grad, hess`` or\n",
      " |      ``objective(y_true, y_pred, group) -> grad, hess``:\n",
      " |      \n",
      " |          y_true : array-like of shape = [n_samples]\n",
      " |              The target values.\n",
      " |          y_pred : array-like of shape = [n_samples] or shape = [n_samples * n_classes] (for multi-class task)\n",
      " |              The predicted values.\n",
      " |          group : array-like\n",
      " |              Group/query data, used for ranking task.\n",
      " |          grad : array-like of shape = [n_samples] or shape = [n_samples * n_classes] (for multi-class task)\n",
      " |              The value of the first order derivative (gradient) for each sample point.\n",
      " |          hess : array-like of shape = [n_samples] or shape = [n_samples * n_classes] (for multi-class task)\n",
      " |              The value of the second order derivative (Hessian) for each sample point.\n",
      " |      \n",
      " |      For binary task, the y_pred is margin.\n",
      " |      For multi-class task, the y_pred is group by class_id first, then group by row_id.\n",
      " |      If you want to get i-th row y_pred in j-th class, the access way is y_pred[j * num_data + i]\n",
      " |      and you should group grad and hess in this way as well.\n",
      " |  \n",
      " |  get_params(self, deep=True)\n",
      " |      Get parameters for this estimator.\n",
      " |      \n",
      " |      Parameters\n",
      " |      ----------\n",
      " |      deep : bool, optional (default=True)\n",
      " |          If True, will return the parameters for this estimator and\n",
      " |          contained subobjects that are estimators.\n",
      " |      \n",
      " |      Returns\n",
      " |      -------\n",
      " |      params : dict\n",
      " |          Parameter names mapped to their values.\n",
      " |  \n",
      " |  predict(self, X, raw_score=False, start_iteration=0, num_iteration=None, pred_leaf=False, pred_contrib=False, **kwargs)\n",
      " |      Return the predicted value for each sample.\n",
      " |      \n",
      " |      Parameters\n",
      " |      ----------\n",
      " |      X : array-like or sparse matrix of shape = [n_samples, n_features]\n",
      " |          Input features matrix.\n",
      " |      raw_score : bool, optional (default=False)\n",
      " |          Whether to predict raw scores.\n",
      " |      start_iteration : int, optional (default=0)\n",
      " |          Start index of the iteration to predict.\n",
      " |          If <= 0, starts from the first iteration.\n",
      " |      num_iteration : int or None, optional (default=None)\n",
      " |          Total number of iterations used in the prediction.\n",
      " |          If None, if the best iteration exists and start_iteration <= 0, the best iteration is used;\n",
      " |          otherwise, all iterations from ``start_iteration`` are used (no limits).\n",
      " |          If <= 0, all iterations from ``start_iteration`` are used (no limits).\n",
      " |      pred_leaf : bool, optional (default=False)\n",
      " |          Whether to predict leaf index.\n",
      " |      pred_contrib : bool, optional (default=False)\n",
      " |          Whether to predict feature contributions.\n",
      " |      \n",
      " |          .. note::\n",
      " |      \n",
      " |              If you want to get more explanations for your model's predictions using SHAP values,\n",
      " |              like SHAP interaction values,\n",
      " |              you can install the shap package (https://github.com/slundberg/shap).\n",
      " |              Note that unlike the shap package, with ``pred_contrib`` we return a matrix with an extra\n",
      " |              column, where the last column is the expected value.\n",
      " |      \n",
      " |      **kwargs\n",
      " |          Other parameters for the prediction.\n",
      " |      \n",
      " |      Returns\n",
      " |      -------\n",
      " |      predicted_result : array-like of shape = [n_samples] or shape = [n_samples, n_classes]\n",
      " |          The predicted values.\n",
      " |      X_leaves : array-like of shape = [n_samples, n_trees] or shape = [n_samples, n_trees * n_classes]\n",
      " |          If ``pred_leaf=True``, the predicted leaf of every tree for each sample.\n",
      " |      X_SHAP_values : array-like of shape = [n_samples, n_features + 1] or shape = [n_samples, (n_features + 1) * n_classes] or list with n_classes length of such objects\n",
      " |          If ``pred_contrib=True``, the feature contributions for each sample.\n",
      " |  \n",
      " |  set_params(self, **params)\n",
      " |      Set the parameters of this estimator.\n",
      " |      \n",
      " |      Parameters\n",
      " |      ----------\n",
      " |      **params\n",
      " |          Parameter names with their new values.\n",
      " |      \n",
      " |      Returns\n",
      " |      -------\n",
      " |      self : object\n",
      " |          Returns self.\n",
      " |  \n",
      " |  ----------------------------------------------------------------------\n",
      " |  Data descriptors inherited from LGBMModel:\n",
      " |  \n",
      " |  best_iteration_\n",
      " |      :obj:`int` or :obj:`None`: The best iteration of fitted model if ``early_stopping_rounds`` has been specified.\n",
      " |  \n",
      " |  best_score_\n",
      " |      :obj:`dict` or :obj:`None`: The best score of fitted model.\n",
      " |  \n",
      " |  booster_\n",
      " |      Booster: The underlying Booster of this model.\n",
      " |  \n",
      " |  evals_result_\n",
      " |      :obj:`dict` or :obj:`None`: The evaluation results if ``early_stopping_rounds`` has been specified.\n",
      " |  \n",
      " |  feature_importances_\n",
      " |      :obj:`array` of shape = [n_features]: The feature importances (the higher, the more important).\n",
      " |      \n",
      " |      .. note::\n",
      " |      \n",
      " |          ``importance_type`` attribute is passed to the function\n",
      " |          to configure the type of importance values to be extracted.\n",
      " |  \n",
      " |  feature_name_\n",
      " |      :obj:`array` of shape = [n_features]: The names of features.\n",
      " |  \n",
      " |  n_features_\n",
      " |      :obj:`int`: The number of features of fitted model.\n",
      " |  \n",
      " |  n_features_in_\n",
      " |      :obj:`int`: The number of features of fitted model.\n",
      " |  \n",
      " |  objective_\n",
      " |      :obj:`string` or :obj:`callable`: The concrete objective used while fitting this model.\n",
      " |  \n",
      " |  ----------------------------------------------------------------------\n",
      " |  Methods inherited from sklearn.base.BaseEstimator:\n",
      " |  \n",
      " |  __getstate__(self)\n",
      " |  \n",
      " |  __repr__(self, N_CHAR_MAX=700)\n",
      " |      Return repr(self).\n",
      " |  \n",
      " |  __setstate__(self, state)\n",
      " |  \n",
      " |  ----------------------------------------------------------------------\n",
      " |  Data descriptors inherited from sklearn.base.BaseEstimator:\n",
      " |  \n",
      " |  __dict__\n",
      " |      dictionary for instance variables (if defined)\n",
      " |  \n",
      " |  __weakref__\n",
      " |      list of weak references to the object (if defined)\n",
      " |  \n",
      " |  ----------------------------------------------------------------------\n",
      " |  Methods inherited from sklearn.base.RegressorMixin:\n",
      " |  \n",
      " |  score(self, X, y, sample_weight=None)\n",
      " |      Return the coefficient of determination :math:`R^2` of the\n",
      " |      prediction.\n",
      " |      \n",
      " |      The coefficient :math:`R^2` is defined as :math:`(1 - \\frac{u}{v})`,\n",
      " |      where :math:`u` is the residual sum of squares ``((y_true - y_pred)\n",
      " |      ** 2).sum()`` and :math:`v` is the total sum of squares ``((y_true -\n",
      " |      y_true.mean()) ** 2).sum()``. The best possible score is 1.0 and it\n",
      " |      can be negative (because the model can be arbitrarily worse). A\n",
      " |      constant model that always predicts the expected value of `y`,\n",
      " |      disregarding the input features, would get a :math:`R^2` score of\n",
      " |      0.0.\n",
      " |      \n",
      " |      Parameters\n",
      " |      ----------\n",
      " |      X : array-like of shape (n_samples, n_features)\n",
      " |          Test samples. For some estimators this may be a precomputed\n",
      " |          kernel matrix or a list of generic objects instead with shape\n",
      " |          ``(n_samples, n_samples_fitted)``, where ``n_samples_fitted``\n",
      " |          is the number of samples used in the fitting for the estimator.\n",
      " |      \n",
      " |      y : array-like of shape (n_samples,) or (n_samples, n_outputs)\n",
      " |          True values for `X`.\n",
      " |      \n",
      " |      sample_weight : array-like of shape (n_samples,), default=None\n",
      " |          Sample weights.\n",
      " |      \n",
      " |      Returns\n",
      " |      -------\n",
      " |      score : float\n",
      " |          :math:`R^2` of ``self.predict(X)`` wrt. `y`.\n",
      " |      \n",
      " |      Notes\n",
      " |      -----\n",
      " |      The :math:`R^2` score used when calling ``score`` on a regressor uses\n",
      " |      ``multioutput='uniform_average'`` from version 0.23 to keep consistent\n",
      " |      with default value of :func:`~sklearn.metrics.r2_score`.\n",
      " |      This influences the ``score`` method of all the multioutput\n",
      " |      regressors (except for\n",
      " |      :class:`~sklearn.multioutput.MultiOutputRegressor`).\n",
      "\n"
     ]
    }
   ],
   "source": [
    "help(LGBMRegressor)"
   ]
  },
  {
   "cell_type": "code",
   "execution_count": 184,
   "metadata": {},
   "outputs": [
    {
     "name": "stdout",
     "output_type": "stream",
     "text": [
      "Fitting 10 folds for each of 4 candidates, totalling 40 fits\n",
      "CPU times: user 7.29 s, sys: 61.7 ms, total: 7.35 s\n",
      "Wall time: 42.5 s\n",
      "0.849141405836849\n",
      "{'learning_rate': 0.1, 'max_depth': 5, 'min_child_samples': 20, 'n_estimators': 100, 'num_leaves': 31, 'reg_alpha': 0.0, 'reg_lambda': 0.0}\n"
     ]
    }
   ],
   "source": [
    "from sklearn.model_selection import GridSearchCV\n",
    "\n",
    "params = {'n_estimators':[100],            # default \n",
    "          'learning_rate':[0.1],           # default\n",
    "          'reg_lambda':[0.0],              # default\n",
    "          'reg_alpha':[0.0],               # default\n",
    "          'num_leaves':[31],\n",
    "          'min_child_samples':[5, 10, 20, 30],\n",
    "          'max_depth':[5]\n",
    "         }\n",
    "\n",
    "lgbm_reg = LGBMRegressor()\n",
    "grid_model = GridSearchCV(estimator=lgbm_reg, param_grid=params, scoring='neg_mean_squared_error',\n",
    "                          cv=10, return_train_score=True, n_jobs=-1, verbose=3)\n",
    "%time grid_model.fit(X_train_p, y_train_p)\n",
    "print(np.sqrt(-1*grid_model.best_score_))\n",
    "print(grid_model.best_params_)"
   ]
  },
  {
   "cell_type": "code",
   "execution_count": 157,
   "metadata": {},
   "outputs": [
    {
     "name": "stdout",
     "output_type": "stream",
     "text": [
      "   10 : [0.8573 0.8491 0.846  0.8417 0.8499 0.8572 0.8476 0.8429 0.8549 0.8575] -> 0.8503999, 0.0057127\n",
      "   20 : [0.8561 0.8487 0.8445 0.8417 0.8487 0.8565 0.8478 0.841  0.8546 0.8553] -> 0.8494856, 0.0055908\n",
      "   30 : [0.8571 0.8491 0.8458 0.8403 0.8484 0.8558 0.8479 0.842  0.8549 0.8567] -> 0.8497953, 0.0058151\n"
     ]
    }
   ],
   "source": [
    "from sklearn.model_selection import GridSearchCV\n",
    "\n",
    "max_depth = 5\n",
    "num_leaves = [10, 20, 30]\n",
    "\n",
    "for num_leave in num_leaves:\n",
    "    params = {'n_estimators':100,            # default \n",
    "              'learning_rate':0.1,           # default\n",
    "              'reg_lambda':0.0,              # default\n",
    "              'reg_alpha':0.0,               # default\n",
    "              'num_leaves':num_leave,\n",
    "              'min_child_samples':20,\n",
    "              'max_depth':max_depth}\n",
    "\n",
    "    lgbm_reg = LGBMRegressor(**params)\n",
    "    scores = cross_val_score(lgbm_reg, X_train_p, y_train_p, scoring='neg_mean_squared_error', cv=10, n_jobs=-1)\n",
    "\n",
    "    rmse_list = np.sqrt(-scores)\n",
    "    \n",
    "    print(\"{0:5d}\".format(num_leave), end=\" : \")\n",
    "    print(np.round(rmse_list,4), end=\" -> \")\n",
    "    print(\"{0:.7f}, {1:.7f}\".format(rmse_list.mean(), rmse_list.std())) "
   ]
  },
  {
   "cell_type": "code",
   "execution_count": 162,
   "metadata": {},
   "outputs": [
    {
     "data": {
      "text/plain": [
       "LGBMRegressor(max_depth=15)"
      ]
     },
     "execution_count": 162,
     "metadata": {},
     "output_type": "execute_result"
    }
   ],
   "source": [
    "lgbm_reg = LGBMRegressor(**params)\n",
    "lgbm_reg.fit(X_train_p, y_train_p)"
   ]
  },
  {
   "cell_type": "code",
   "execution_count": 163,
   "metadata": {
    "scrolled": false
   },
   "outputs": [
    {
     "name": "stdout",
     "output_type": "stream",
     "text": [
      "0.8489\n",
      "0.8424\n",
      "0.8389\n",
      "0.849\n",
      "0.8666\n",
      "0.8649\n",
      "0.8459\n",
      "0.8456\n",
      "0.8482\n",
      "0.8473\n",
      "0.845\n",
      "0.8399\n",
      "0.8474\n",
      "0.847\n",
      "0.8609\n",
      "0.8437\n",
      "0.8446\n",
      "0.8536\n",
      "0.8438\n",
      "0.8494\n",
      "0.8548\n",
      "0.8587\n",
      "0.8475\n",
      "0.8408\n",
      "0.8373\n",
      "0.8601\n",
      "0.8616\n",
      "0.8522\n",
      "0.8451\n",
      "0.8615\n",
      "0.8533\n",
      "0.8481\n",
      "0.8559\n",
      "0.8619\n",
      "0.8516\n",
      "0.8523\n"
     ]
    }
   ],
   "source": [
    "rmse_list = []\n",
    "for i in range(36):\n",
    "    pred = lgbm_reg.predict(X_test_list[i])\n",
    "    score = rmse(y_test_list[i], pred)\n",
    "    rmse_list.append(score)\n",
    "    print(np.round(score,4))"
   ]
  },
  {
   "cell_type": "code",
   "execution_count": 164,
   "metadata": {},
   "outputs": [
    {
     "name": "stdout",
     "output_type": "stream",
     "text": [
      "0.8504 0.0075\n"
     ]
    }
   ],
   "source": [
    "print(np.round(np.mean(rmse_list),4), np.round(np.std(rmse_list),4))"
   ]
  },
  {
   "cell_type": "markdown",
   "metadata": {},
   "source": [
    "## 3.3. HyperOpt"
   ]
  },
  {
   "cell_type": "code",
   "execution_count": 26,
   "metadata": {},
   "outputs": [],
   "source": [
    "from hyperopt import fmin, tpe, hp, anneal, Trials\n",
    "from sklearn.model_selection import KFold, cross_val_score\n",
    "from sklearn.model_selection import train_test_split"
   ]
  },
  {
   "cell_type": "code",
   "execution_count": 27,
   "metadata": {},
   "outputs": [],
   "source": [
    "random_state = 89\n",
    "n_iter = 50"
   ]
  },
  {
   "cell_type": "code",
   "execution_count": 30,
   "metadata": {},
   "outputs": [
    {
     "name": "stdout",
     "output_type": "stream",
     "text": [
      "43 4641\n"
     ]
    }
   ],
   "source": [
    "from sklearn.utils import shuffle\n",
    "\n",
    "n_training = 80000\n",
    "\n",
    "X_train_rand, y_train_rand = shuffle(X_train, y_train, random_state=56)\n",
    "X_train_p = X_train_rand[:n_training]\n",
    "y_train_p = y_train_rand[:n_training]\n",
    "\n",
    "test_size = 5000\n",
    "\n",
    "nbins = (train_len - n_training)//test_size\n",
    "remainder = (train_len - n_training)%test_size\n",
    "\n",
    "print(nbins, remainder)\n",
    "\n",
    "X_test_list = []\n",
    "y_test_list = []\n",
    "\n",
    "for i in range(nbins):\n",
    "    X_test_p  = X_train_rand[n_training+test_size*i:n_training+test_size*(i+1)]\n",
    "    y_test_p  = y_train_rand[n_training+test_size*i:n_training+test_size*(i+1)]\n",
    "    \n",
    "    X_test_list.append(X_test_p)\n",
    "    y_test_list.append(y_test_p)"
   ]
  },
  {
   "cell_type": "code",
   "execution_count": 31,
   "metadata": {},
   "outputs": [],
   "source": [
    "def gb_mse_cv(params, random_state=random_state, cv=5, X=X_train_p, y=y_train_p):\n",
    "    # the function gets a set of variable parameters in \"param\"\n",
    "    params = {'n_estimators': int(params['n_estimators']), \n",
    "              'max_depth': int(params['max_depth']), \n",
    "              'learning_rate': params['learning_rate'],\n",
    "              'reg_lambda':params['reg_lambda'],\n",
    "              'reg_alpha':params['reg_alpha'],\n",
    "              'num_leaves':int(params['num_leaves']),\n",
    "              'min_data_in_leaf':int(params['min_data_in_leaf']),\n",
    "              'subsample':params['subsample'],\n",
    "              'colsample_bytree':params['colsample_bytree'],\n",
    "              }\n",
    "    \n",
    "    # we use this params to create a new LGBM Regressor\n",
    "    model = LGBMRegressor(random_state=random_state, **params)\n",
    "    \n",
    "    # and then conduct the cross validation with the same folds as before\n",
    "    score = np.sqrt(-cross_val_score(model, X, y, cv=cv, scoring=\"neg_mean_squared_error\", n_jobs=-1).mean())\n",
    "\n",
    "    return score"
   ]
  },
  {
   "cell_type": "code",
   "execution_count": null,
   "metadata": {},
   "outputs": [
    {
     "name": "stdout",
     "output_type": "stream",
     "text": [
      " 10%|█         | 5/50 [08:39<1:12:54, 97.21s/trial, best loss: 0.8519365862651356] "
     ]
    }
   ],
   "source": [
    "%%time\n",
    "\n",
    "# possible values of parameters\n",
    "space={'n_estimators'     : hp.quniform('n_estimators', 14000, 15001, 1),\n",
    "       'max_depth'        : hp.quniform('max_depth', 2, 60, 1),\n",
    "       'learning_rate'    : hp.loguniform('learning_rate', -5, 0),\n",
    "       'reg_lambda'       : hp.loguniform('reg_lambda', -5, 1),\n",
    "       'reg_alpha'        : hp.loguniform('reg_alpha', -5, 1),\n",
    "       'num_leaves'       : hp.quniform('num_leaves', 31, 100, 1),\n",
    "       'min_data_in_leaf' : hp.quniform('min_data_in_leaf', 5, 30, 1),\n",
    "       'subsample'        : hp.uniform('subsample', 0, 1),\n",
    "       'colsample_bytree' : hp.uniform('colsample_bytree', 0, 1),\n",
    "      }\n",
    "\n",
    "# trials will contain logging information\n",
    "trials = Trials()\n",
    "\n",
    "best=fmin(fn=gb_mse_cv, # function to optimize\n",
    "          space=space, \n",
    "          algo=tpe.suggest, # optimization algorithm, hyperotp will select its parameters automatically\n",
    "          max_evals=n_iter, # maximum number of iterations\n",
    "          trials=trials,    # logging\n",
    "          rstate=np.random.RandomState(random_state) # fixing random state for the reproducibility\n",
    "         )\n",
    "\n",
    "# computing the score on the test set\n",
    "model = LGBMRegressor(random_state=random_state, n_estimators=int(best['n_estimators']),\n",
    "                      max_depth=int(best['max_depth']),learning_rate=best['learning_rate'],\n",
    "                      reg_lambda=best['reg_lambda'], reg_alpha=best['reg_alpha'],\n",
    "                      num_leaves=int(best['num_leaves']), min_child_samples=int(best['min_data_in_leaf']),\n",
    "                      subsample=best['subsample'], colsample_bytree=best['colsample_bytree'])\n",
    "\n",
    "model.fit(X_train_p, y_train_p)\n",
    "tpe_test_score=mean_squared_error(y_test, model.predict(X_test))\n",
    "\n",
    "print(\"Best MSE {:.5f} params {}\".format( gb_mse_cv(best), best))"
   ]
  },
  {
   "cell_type": "code",
   "execution_count": null,
   "metadata": {},
   "outputs": [
    {
     "name": "stdout",
     "output_type": "stream",
     "text": [
      "  4%|▍         | 2/50 [07:43<3:10:59, 238.75s/trial, best loss: 0.846651939881625]"
     ]
    }
   ],
   "source": [
    "%%time\n",
    "\n",
    "# possible values of parameters\n",
    "space={'n_estimators'     : hp.quniform('n_estimators', 10000, 15001, 1),\n",
    "       'max_depth'        : hp.quniform('max_depth', 2, 60, 1),\n",
    "       'learning_rate'    : hp.loguniform('learning_rate', -5, 0),\n",
    "       'reg_lambda'       : hp.loguniform('reg_lambda', -5, 1),\n",
    "       'reg_alpha'        : hp.loguniform('reg_alpha', -5, 1),\n",
    "       'num_leaves'       : hp.quniform('num_leaves', 31, 100, 1),\n",
    "       'min_data_in_leaf' : hp.quniform('min_data_in_leaf', 5, 30, 1),\n",
    "       'subsample'        : hp.uniform('subsample', 0, 1),\n",
    "       'colsample_bytree' : hp.uniform('colsample_bytree', 0, 1),\n",
    "      }\n",
    "\n",
    "# trials will contain logging information\n",
    "trials = Trials()\n",
    "\n",
    "best=fmin(fn=gb_mse_cv, # function to optimize\n",
    "          space=space, \n",
    "          algo=tpe.suggest, # optimization algorithm, hyperotp will select its parameters automatically\n",
    "          max_evals=n_iter, # maximum number of iterations\n",
    "          trials=trials,    # logging\n",
    "          rstate=np.random.RandomState(random_state) # fixing random state for the reproducibility\n",
    "         )\n",
    "\n",
    "# computing the score on the test set\n",
    "model = LGBMRegressor(random_state=random_state, n_estimators=int(best['n_estimators']),\n",
    "                      max_depth=int(best['max_depth']),learning_rate=best['learning_rate'],\n",
    "                      reg_lambda=best['reg_lambda'], reg_alpha=best['reg_alpha'],\n",
    "                      num_leaves=int(best['num_leaves']), min_child_samples=int(best['min_data_in_leaf']),\n",
    "                      subsample=best['subsample'], colsample_bytree=best['colsample_bytree'])\n",
    "model.fit(X_train, y_train)\n",
    "tpe_test_score=mean_squared_error(y_test, model.predict(X_test))\n",
    "\n",
    "print(\"Best MSE {:.5f} params {}\".format( gb_mse_cv(best), best))"
   ]
  },
  {
   "cell_type": "markdown",
   "metadata": {},
   "source": [
    "### Trial 1\n",
    "- Outlier detection (on target)\n",
    "- labeling\n",
    "- 60,000 training set\n",
    "- 5,000 test size -> 0.8423 0.0075\n",
    "```python\n",
    "params = {'learning_rate': 0.17957032242242574, 'max_depth': 2, \n",
    "          'min_child_samples': 11, 'n_estimators': 418, 'num_leaves': 53, \n",
    "          'reg_alpha': 0.16752893978266326, 'reg_lambda': 0.014467774532165297}\n",
    "```\n",
    "\n",
    "\n",
    "### Trial 2\n",
    "- HyperOpt Summary\n",
    "----\n",
    "```python\n",
    "# possible values of parameters\n",
    "space={'n_estimators'     : hp.quniform('n_estimators', 100, 500, 1),\n",
    "       'max_depth'        : hp.quniform('max_depth', 2, 30, 1),\n",
    "       'learning_rate'    : hp.loguniform('learning_rate', -5, 0),\n",
    "       'reg_lambda'       : hp.loguniform('reg_lambda', -5, 1),\n",
    "       'reg_alpha'        : hp.loguniform('reg_alpha', -5, 1),\n",
    "       'num_leaves'       : hp.quniform('num_leaves', 31, 60, 1),\n",
    "       'min_data_in_leaf' : hp.quniform('min_data_in_leaf', 5, 30, 1),\n",
    "       'subsample'        : hp.uniform('subsample', 0, 1),\n",
    "       'colsample_bytree' : hp.uniform('colsample_bytree', 0, 1),\n",
    "      }\n",
    "```\n",
    "----\n",
    "100%|██████████| 100/100 [03:15<00:00,  1.96s/trial, best loss: 0.8436989876974101]<br>\n",
    "[LightGBM] [Warning] Accuracy may be bad since you didn't explicitly set num_leaves OR 2^max_depth > num_leaves. (num_leaves=31).<br>\n",
    "Best MSE 0.84370 params {'colsample_bytree': 0.2282732724155444, 'learning_rate': 0.02537429421939708, 'max_depth': 22.0, 'min_data_in_leaf': 29.0, 'n_estimators': 453.0, 'num_leaves': 33.0, 'reg_alpha': 0.14557883706335378, 'reg_lambda': 2.6761465838395098, 'subsample': 0.13141616637831394}<br>\n",
    "CPU times: user 26.4 s, sys: 944 ms, total: 27.3 s\n",
    "Wall time: 3min 19s\n",
    "\n",
    "-----\n",
    "- Outlier detection (on target)\n",
    "- labeling\n",
    "- 60,000 training set\n",
    "- 5,000 test size -> 0.8419 0.0072\n",
    "```python\n",
    "params = {'colsample_bytree': 0.2282732724155444, 'learning_rate': 0.02537429421939708, 'max_depth': 22,\n",
    "          'min_child_samples': 29, 'n_estimators': 453, 'num_leaves': 33, \n",
    "          'reg_alpha': 0.14557883706335378,\n",
    "          'reg_lambda': 2.6761465838395098, 'subsample': 0.13141616637831394}\n",
    "```"
   ]
  },
  {
   "cell_type": "markdown",
   "metadata": {},
   "source": [
    "### Trial 3\n",
    "- HyperOpt Summary\n",
    "----\n",
    "```python\n",
    "# possible values of parameters\n",
    "space={'n_estimators'     : hp.quniform('n_estimators', 100, 1000, 1),\n",
    "       'max_depth'        : hp.quniform('max_depth', 2, 30, 1),\n",
    "       'learning_rate'    : hp.loguniform('learning_rate', -5, 0),\n",
    "       'reg_lambda'       : hp.loguniform('reg_lambda', -5, 1),\n",
    "       'reg_alpha'        : hp.loguniform('reg_alpha', -5, 1),\n",
    "       'num_leaves'       : hp.quniform('num_leaves', 31, 60, 1),\n",
    "       'min_data_in_leaf' : hp.quniform('min_data_in_leaf', 5, 30, 1),\n",
    "       'subsample'        : hp.uniform('subsample', 0, 1),\n",
    "       'colsample_bytree' : hp.uniform('colsample_bytree', 0, 1),\n",
    "      }\n",
    "```\n",
    "----\n",
    "100%|██████████| 150/150 [07:37<00:00,  3.05s/trial, best loss: 0.8434295211075982]<br>\n",
    "[LightGBM] [Warning] Accuracy may be bad since you didn't explicitly set num_leaves OR 2^max_depth > num_leaves. (num_leaves=31).<br>\n",
    "Best MSE 0.84343 params {'colsample_bytree': 0.2178533621419123, 'learning_rate': 0.03886611341034605, 'max_depth': 15.0, 'min_data_in_leaf': 29.0, 'n_estimators': 336.0, 'num_leaves': 39.0, 'reg_alpha': 0.01541717909533164, 'reg_lambda': 0.9784795209001725, 'subsample': 0.5705714265120603}<br>\n",
    "CPU times: user 23.9 s, sys: 1.58 s, total: 25.5 s<br>\n",
    "Wall time: 7min 40s\n",
    "\n",
    "-----\n",
    "- Outlier detection (on target)\n",
    "- labeling\n",
    "- 60,000 training set\n",
    "- 5,000 test size -> 0.8419 0.0072\n",
    "```python\n",
    "params = {'colsample_bytree': 0.2178533621419123, 'learning_rate': 0.03886611341034605, 'max_depth': 15,\n",
    "          'min_child_samples': 29, 'n_estimators': 336, 'num_leaves': 39, \n",
    "          'reg_alpha': 0.01541717909533164,\n",
    "          'reg_lambda': 0.9784795209001725, 'subsample': 0.5705714265120603}\n",
    "```"
   ]
  },
  {
   "cell_type": "markdown",
   "metadata": {},
   "source": [
    "### Trial 4\n",
    "- HyperOpt Summary\n",
    "----\n",
    "```python\n",
    "# possible values of parameters\n",
    "space={'n_estimators'     : hp.quniform('n_estimators', 100, 1000, 1),\n",
    "       'max_depth'        : hp.quniform('max_depth', 2, 30, 1),\n",
    "       'learning_rate'    : hp.loguniform('learning_rate', -5, 0),\n",
    "       'reg_lambda'       : hp.loguniform('reg_lambda', -5, 1),\n",
    "       'reg_alpha'        : hp.loguniform('reg_alpha', -5, 1),\n",
    "       'num_leaves'       : hp.quniform('num_leaves', 31, 60, 1),\n",
    "       'min_data_in_leaf' : hp.quniform('min_data_in_leaf', 5, 30, 1),\n",
    "       'subsample'        : hp.uniform('subsample', 0, 1),\n",
    "       'colsample_bytree' : hp.uniform('colsample_bytree', 0, 1),\n",
    "      }\n",
    "```\n",
    "----\n",
    "100%|██████████| 200/200 [11:46<00:00,  3.53s/trial, best loss: 0.8428714641133203]<br>\n",
    "[LightGBM] [Warning] Accuracy may be bad since you didn't explicitly set num_leaves OR 2^max_depth > num_leaves. (num_leaves=31).<br>\n",
    "Best MSE 0.84287 params {'colsample_bytree': 0.21193134480710185, 'learning_rate': 0.02791328861118218, 'max_depth': 30.0, 'min_data_in_leaf': 24.0, 'n_estimators': 699.0, 'num_leaves': 38.0, 'reg_alpha': 0.7516233031902478, 'reg_lambda': 0.12768412791860909, 'subsample': 0.44785906184366764}<br>\n",
    "CPU times: user 49 s, sys: 2.26 s, total: 51.3 s<br>\n",
    "Wall time: 11min 53s<br><br>\n",
    "\n",
    "-----\n",
    "- Outlier detection (on target)\n",
    "- labeling\n",
    "- 80,000 training set\n",
    "- 2,000 test size -> 0.839988 0.010031\n",
    "```python\n",
    "params = {'colsample_bytree': 0.21193134480710185, 'learning_rate': 0.02791328861118218, \n",
    "          'max_depth': 30, \n",
    "          'min_data_in_leaf': 24, 'n_estimators': 699, \n",
    "          'num_leaves': 38, 'reg_alpha': 0.7516233031902478,\n",
    "          'reg_lambda': 0.12768412791860909, 'subsample': 0.44785906184366764}\n",
    "```"
   ]
  },
  {
   "cell_type": "markdown",
   "metadata": {},
   "source": [
    "### Trial 5\n",
    "- HyperOpt Summary\n",
    "----\n",
    "```python\n",
    "# possible values of parameters\n",
    "space={'n_estimators'     : hp.quniform('n_estimators', 100, 1000, 1),\n",
    "       'max_depth'        : hp.quniform('max_depth', 2, 30, 1),\n",
    "       'learning_rate'    : hp.loguniform('learning_rate', -5, 0),\n",
    "       'reg_lambda'       : hp.loguniform('reg_lambda', -5, 1),\n",
    "       'reg_alpha'        : hp.loguniform('reg_alpha', -5, 1),\n",
    "       'num_leaves'       : hp.quniform('num_leaves', 31, 60, 1),\n",
    "       'min_data_in_leaf' : hp.quniform('min_data_in_leaf', 5, 30, 1),\n",
    "       'subsample'        : hp.uniform('subsample', 0, 1),\n",
    "       'colsample_bytree' : hp.uniform('colsample_bytree', 0, 1),\n",
    "      }\n",
    "```\n",
    "----\n",
    "100%|██████████| 500/500 [41:54<00:00,  5.03s/trial, best loss: 0.842839724709443] <br>\n",
    "[LightGBM] [Warning] Accuracy may be bad since you didn't explicitly set num_leaves OR 2^max_depth > num_leaves. (num_leaves=31).<br>\n",
    "Best MSE 0.84284 params {'colsample_bytree': 0.18835274575394018, 'learning_rate': 0.01808512006317544, 'max_depth': 12.0, 'min_data_in_leaf': 12.0, 'n_estimators': 911.0, 'num_leaves': 39.0, 'reg_alpha': 1.6752793152659506, 'reg_lambda': 0.02312180453588367, 'subsample': 0.548717592948858}<br>\n",
    "CPU times: user 1min 46s, sys: 5.85 s, total: 1min 52s<br>\n",
    "Wall time: 42min 4s<br><br>\n",
    "\n",
    "-----\n",
    "- Outlier detection (on target)\n",
    "- labeling\n",
    "- 80,000 training set\n",
    "- 4,000 test size -> 0.839075 0.006181\n",
    "```python\n",
    "params = {'colsample_bytree': 0.18835274575394018, 'learning_rate': 0.01808512006317544,\n",
    "          'max_depth': 12, 'min_data_in_leaf': 12, 'n_estimators': 911, \n",
    "          'num_leaves': 39, 'reg_alpha': 1.6752793152659506, 'reg_lambda': 0.02312180453588367, \n",
    "          'subsample': 0.548717592948858}\n",
    "```"
   ]
  },
  {
   "cell_type": "markdown",
   "metadata": {},
   "source": [
    "### Trial 6\n",
    "- HyperOpt Summary\n",
    "----\n",
    "```python\n",
    "# possible values of parameters\n",
    "space={'n_estimators'     : hp.quniform('n_estimators', 100, 1000, 1),\n",
    "       'max_depth'        : hp.quniform('max_depth', 2, 30, 1),\n",
    "       'learning_rate'    : hp.loguniform('learning_rate', -5, 0),\n",
    "       'reg_lambda'       : hp.loguniform('reg_lambda', -5, 1),\n",
    "       'reg_alpha'        : hp.loguniform('reg_alpha', -5, 1),\n",
    "       'num_leaves'       : hp.quniform('num_leaves', 31, 60, 1),\n",
    "       'min_data_in_leaf' : hp.quniform('min_data_in_leaf', 5, 30, 1),\n",
    "       'subsample'        : hp.uniform('subsample', 0, 1),\n",
    "       'colsample_bytree' : hp.uniform('colsample_bytree', 0, 1),\n",
    "      }\n",
    "```\n",
    "----\n",
    "100%|██████████| 100/100 [10:12<00:00,  6.13s/trial, best loss: 0.842250477722646]<br>\n",
    "[LightGBM] [Warning] Accuracy may be bad since you didn't explicitly set num_leaves OR 2^max_depth > num_leaves. (num_leaves=31).<br>\n",
    "Best MSE 0.84225 params {'colsample_bytree': 0.19308899372753213, 'learning_rate': 0.010499495078595792, 'max_depth': 16.0, 'min_data_in_leaf': 29.0, 'n_estimators': 998.0, 'num_leaves': 74.0, 'reg_alpha': 0.09898689568161717, 'reg_lambda': 0.061882969295189987, 'subsample': 0.3066138036111073}<br>\n",
    "CPU times: user 1min 18s, sys: 1.68 s, total: 1min 19s<br>\n",
    "Wall time: 10min 30s<br><br>\n",
    "\n",
    "-----\n",
    "- Outlier detection (on target)\n",
    "- labeling\n",
    "- 100,000 training set\n",
    "- 2,000 test size -> 0.837339 0.008455\n",
    "```python\n",
    "params = {'colsample_bytree': 0.19308899372753213, 'learning_rate': 0.010499495078595792,\n",
    "          'max_depth': 16, 'min_child_samples': 29, 'n_estimators': 998,\n",
    "          'num_leaves': 74, 'reg_alpha': 0.09898689568161717, \n",
    "          'reg_lambda': 0.061882969295189987, 'subsample': 0.3066138036111073}\n",
    "```"
   ]
  },
  {
   "cell_type": "markdown",
   "metadata": {},
   "source": [
    "### Trial 7\n",
    "- HyperOpt Summary\n",
    "----\n",
    "```python\n",
    "# possible values of parameters\n",
    "space={'n_estimators'     : hp.quniform('n_estimators', 100, 1000, 1),\n",
    "       'max_depth'        : hp.quniform('max_depth', 2, 60, 1),\n",
    "       'learning_rate'    : hp.loguniform('learning_rate', -5, 0),\n",
    "       'reg_lambda'       : hp.loguniform('reg_lambda', -5, 1),\n",
    "       'reg_alpha'        : hp.loguniform('reg_alpha', -5, 1),\n",
    "       'num_leaves'       : hp.quniform('num_leaves', 31, 150, 1),\n",
    "       'min_data_in_leaf' : hp.quniform('min_data_in_leaf', 5, 30, 1),\n",
    "       'subsample'        : hp.uniform('subsample', 0, 1),\n",
    "       'colsample_bytree' : hp.uniform('colsample_bytree', 0, 1),\n",
    "      }\n",
    "```\n",
    "----\n",
    "100%|██████████| 1000/1000 [2:09:22<00:00,  7.76s/trial, best loss: 0.8413273248440909] <br>\n",
    "[LightGBM] [Warning] Accuracy may be bad since you didn't explicitly set num_leaves OR 2^max_depth > num_leaves. (num_leaves=31).\n",
    "Best MSE 0.84133 params {'colsample_bytree': 0.18933481518883086, 'learning_rate': 0.021833601579879187, 'max_depth': 40.0, 'min_data_in_leaf': 22.0, 'n_estimators': 999.0, 'num_leaves': 60.0, 'reg_alpha': 2.3020147629507846, 'reg_lambda': 0.02814622327390729, 'subsample': 0.49378031804432754} <br>\n",
    "CPU times: user 3min 33s, sys: 14.3 s, total: 3min 47s <br>\n",
    "Wall time: 2h 9min 36s <br> <br>\n",
    "\n",
    "-----\n",
    "- Outlier detection (on target)\n",
    "- labeling\n",
    "- 120,000 training set\n",
    "- 2,000 test size -> 0.838006 0.010427\n",
    "```python\n",
    "params = {'colsample_bytree': 0.18933481518883086, 'learning_rate': 0.021833601579879187, \n",
    "          'max_depth': 40, 'min_child_samples': 22, 'n_estimators': 999, \n",
    "          'num_leaves': 60, 'reg_alpha': 2.3020147629507846, \n",
    "          'reg_lambda': 0.02814622327390729, 'subsample': 0.49378031804432754}\n",
    "```"
   ]
  },
  {
   "cell_type": "markdown",
   "metadata": {},
   "source": [
    "### Trial 8\n",
    "- HyperOpt Summary\n",
    "----\n",
    "```python\n",
    "# possible values of parameters\n",
    "space={'n_estimators'     : hp.quniform('n_estimators', 1000, 2000, 1),\n",
    "       'max_depth'        : hp.quniform('max_depth', 2, 60, 1),\n",
    "       'learning_rate'    : hp.loguniform('learning_rate', -5, 0),\n",
    "       'reg_lambda'       : hp.loguniform('reg_lambda', -5, 1),\n",
    "       'reg_alpha'        : hp.loguniform('reg_alpha', -5, 1),\n",
    "       'num_leaves'       : hp.quniform('num_leaves', 31, 150, 1),\n",
    "       'min_data_in_leaf' : hp.quniform('min_data_in_leaf', 5, 30, 1),\n",
    "       'subsample'        : hp.uniform('subsample', 0, 1),\n",
    "       'colsample_bytree' : hp.uniform('colsample_bytree', 0, 1),\n",
    "      }\n",
    "```\n",
    "----\n",
    "100%|██████████| 500/500 [2:11:36<00:00, 15.79s/trial, best loss: 0.8405452483687094] <br> \n",
    "[LightGBM] [Warning] Accuracy may be bad since you didn't explicitly set num_leaves OR 2^max_depth > num_leaves. (num_leaves=31).<br>\n",
    "Best MSE 0.84055 params {'colsample_bytree': 0.22876399920867524, 'learning_rate': 0.018672086995304846, 'max_depth': 21.0, 'min_data_in_leaf': 16.0, 'n_estimators': 1107.0, 'num_leaves': 55.0, 'reg_alpha': 2.2614137917648516, 'reg_lambda': 0.03690844262153787, 'subsample': 0.16174281439412969}<br>\n",
    "CPU times: user 1min 58s, sys: 8.47 s, total: 2min 6s<br>\n",
    "Wall time: 2h 11min 55s<br><br>\n",
    "\n",
    "-----\n",
    "- Outlier detection (on target)\n",
    "- labeling\n",
    "- 150,000 training set\n",
    "- 5,000 test size -> 0.836022 0.007318\n",
    "```python\n",
    "params = {'colsample_bytree': 0.22876399920867524, 'learning_rate': 0.018672086995304846,\n",
    "          'max_depth': 21, 'min_child_samples': 16, 'n_estimators': 1107,\n",
    "          'num_leaves': 55, 'reg_alpha': 2.2614137917648516, \n",
    "          'reg_lambda': 0.03690844262153787, 'subsample': 0.16174281439412969}\n",
    "```"
   ]
  },
  {
   "cell_type": "markdown",
   "metadata": {},
   "source": [
    "### Trial 9\n",
    "- HyperOpt Summary\n",
    "----\n",
    "```python\n",
    "# possible values of parameters\n",
    "space={'n_estimators'     : hp.quniform('n_estimators', 500, 1500, 1),\n",
    "       'max_depth'        : hp.quniform('max_depth', 2, 60, 1),\n",
    "       'learning_rate'    : hp.loguniform('learning_rate', -5, 0),\n",
    "       'reg_lambda'       : hp.loguniform('reg_lambda', -5, 1),\n",
    "       'reg_alpha'        : hp.loguniform('reg_alpha', -5, 1),\n",
    "       'num_leaves'       : hp.quniform('num_leaves', 31, 100, 1),\n",
    "       'min_data_in_leaf' : hp.quniform('min_data_in_leaf', 5, 30, 1),\n",
    "       'subsample'        : hp.uniform('subsample', 0, 1),\n",
    "       'colsample_bytree' : hp.uniform('colsample_bytree', 0, 1),\n",
    "      }\n",
    "```\n",
    "----\n",
    "100%|██████████| 1000/1000 [4:53:27<00:00, 17.61s/trial, best loss: 0.8389699315378036] <br>\n",
    "[LightGBM] [Warning] Accuracy may be bad since you didn't explicitly set num_leaves OR 2^max_depth > num_leaves. (num_leaves=31).<br>\n",
    "Best MSE 0.83897 params {'colsample_bytree': 0.20649580746482601, 'learning_rate': 0.014557653231650912, 'max_depth': 21.0, 'min_data_in_leaf': 8.0, 'n_estimators': 1499.0, 'num_leaves': 64.0, 'reg_alpha': 1.9101930497563555, 'reg_lambda': 0.035354628609059344, 'subsample': 0.2355497548249499}<br>\n",
    "CPU times: user 4min 5s, sys: 20.6 s, total: 4min 25s<br>\n",
    "Wall time: 4h 53min 59s<br><br>\n",
    "\n",
    "-----\n",
    "- Outlier detection (on target)\n",
    "- labeling\n",
    "- 180,000 training set\n",
    "- 2,000 test size -> 0.836943 0.010106\n",
    "```python\n",
    "params = {'colsample_bytree': 0.20649580746482601, 'learning_rate': 0.014557653231650912, \n",
    "          'max_depth': 21, 'min_child_samples': 8, 'n_estimators': 1499, \n",
    "          'num_leaves': 64, 'reg_alpha': 1.9101930497563555, 'reg_lambda': 0.035354628609059344, \n",
    "          'subsample': 0.2355497548249499}\n",
    "```"
   ]
  },
  {
   "cell_type": "markdown",
   "metadata": {},
   "source": [
    "### Trial 10\n",
    "- HyperOpt Summary\n",
    "----\n",
    "```python\n",
    "# possible values of parameters\n",
    "space={'n_estimators'     : hp.quniform('n_estimators', 3000, 5001, 1),\n",
    "       'max_depth'        : hp.quniform('max_depth', 2, 60, 1),\n",
    "       'learning_rate'    : hp.loguniform('learning_rate', -5, 0),\n",
    "       'reg_lambda'       : hp.loguniform('reg_lambda', -5, 1),\n",
    "       'reg_alpha'        : hp.loguniform('reg_alpha', -5, 1),\n",
    "       'num_leaves'       : hp.quniform('num_leaves', 31, 100, 1),\n",
    "       'min_data_in_leaf' : hp.quniform('min_data_in_leaf', 5, 30, 1),\n",
    "       'subsample'        : hp.uniform('subsample', 0, 1),\n",
    "       'colsample_bytree' : hp.uniform('colsample_bytree', 0, 1),\n",
    "      }\n",
    "```\n",
    "----\n",
    "100%|██████████| 50/50 [1:12:58<00:00, 87.57s/trial, best loss: 0.8374116284172376]<br>\n",
    "[LightGBM] [Warning] Accuracy may be bad since you didn't explicitly set num_leaves OR 2^max_depth > num_leaves. (num_leaves=31).<br>\n",
    "Best MSE 0.83741 params {'colsample_bytree': 0.20960685817160332, 'learning_rate': 0.009345211157774008, 'max_depth': 17.0, 'min_data_in_leaf': 12.0, 'n_estimators': 3903.0, 'num_leaves': 99.0, 'reg_alpha': 2.513813203771358, 'reg_lambda': 0.03397821313697652, 'subsample': 0.7447271582115403}<br>\n",
    "CPU times: user 5min 15s, sys: 1.93 s, total: 5min 17s<br>\n",
    "Wall time: 1h 15min 25s<br><br>\n",
    "\n",
    "-----\n",
    "- Outlier detection (on target)\n",
    "- labeling\n",
    "- 280,000 training set\n",
    "- 1,000 test size ->\n",
    "```python\n",
    "params = {'colsample_bytree': 0.20960685817160332, 'learning_rate': 0.009345211157774008,\n",
    "          'max_depth': 17., 'min_child_samples': 12, 'n_estimators': 3903, \n",
    "          'num_leaves': 99, 'reg_alpha': 2.513813203771358, \n",
    "          'reg_lambda': 0.03397821313697652, 'subsample': 0.7447271582115403}\n",
    "```"
   ]
  },
  {
   "cell_type": "code",
   "execution_count": 40,
   "metadata": {
    "scrolled": false
   },
   "outputs": [
    {
     "data": {
      "text/plain": [
       "LGBMRegressor(colsample_bytree=0.20960685817160332,\n",
       "              learning_rate=0.009345211157774008, max_depth=17,\n",
       "              min_child_samples=12, n_estimators=3903, num_leaves=99,\n",
       "              reg_alpha=2.513813203771358, reg_lambda=0.03397821313697652,\n",
       "              subsample=0.7447271582115403)"
      ]
     },
     "execution_count": 40,
     "metadata": {},
     "output_type": "execute_result"
    }
   ],
   "source": [
    "rmse_list = []\n",
    "params = {'colsample_bytree': 0.20960685817160332, 'learning_rate': 0.009345211157774008,\n",
    "        'max_depth': 17, 'min_child_samples': 12, 'n_estimators': 3903, \n",
    "        'num_leaves': 99, 'reg_alpha': 2.513813203771358, \n",
    "        'reg_lambda': 0.03397821313697652, 'subsample': 0.7447271582115403}\n",
    "\n",
    "lgbm_reg = LGBMRegressor(**params)\n",
    "lgbm_reg.fit(X_train_p, y_train_p)"
   ]
  },
  {
   "cell_type": "code",
   "execution_count": 42,
   "metadata": {},
   "outputs": [
    {
     "ename": "ValueError",
     "evalue": "Found array with 0 sample(s) (shape=(0, 24)) while a minimum of 1 is required.",
     "output_type": "error",
     "traceback": [
      "\u001b[0;31m---------------------------------------------------------------------------\u001b[0m",
      "\u001b[0;31mValueError\u001b[0m                                Traceback (most recent call last)",
      "\u001b[0;32m<ipython-input-42-4eda3bffbfcb>\u001b[0m in \u001b[0;36m<module>\u001b[0;34m\u001b[0m\n\u001b[1;32m      1\u001b[0m \u001b[0;32mfor\u001b[0m \u001b[0mi\u001b[0m \u001b[0;32min\u001b[0m \u001b[0mrange\u001b[0m\u001b[0;34m(\u001b[0m\u001b[0;36m3\u001b[0m\u001b[0;34m)\u001b[0m\u001b[0;34m:\u001b[0m\u001b[0;34m\u001b[0m\u001b[0;34m\u001b[0m\u001b[0m\n\u001b[0;32m----> 2\u001b[0;31m     \u001b[0mpred\u001b[0m \u001b[0;34m=\u001b[0m \u001b[0mlgbm_reg\u001b[0m\u001b[0;34m.\u001b[0m\u001b[0mpredict\u001b[0m\u001b[0;34m(\u001b[0m\u001b[0mX_test_list\u001b[0m\u001b[0;34m[\u001b[0m\u001b[0mi\u001b[0m\u001b[0;34m]\u001b[0m\u001b[0;34m)\u001b[0m\u001b[0;34m\u001b[0m\u001b[0;34m\u001b[0m\u001b[0m\n\u001b[0m\u001b[1;32m      3\u001b[0m     \u001b[0mscore\u001b[0m \u001b[0;34m=\u001b[0m \u001b[0mrmse\u001b[0m\u001b[0;34m(\u001b[0m\u001b[0my_test_list\u001b[0m\u001b[0;34m[\u001b[0m\u001b[0mi\u001b[0m\u001b[0;34m]\u001b[0m\u001b[0;34m,\u001b[0m \u001b[0mpred\u001b[0m\u001b[0;34m)\u001b[0m\u001b[0;34m\u001b[0m\u001b[0;34m\u001b[0m\u001b[0m\n\u001b[1;32m      4\u001b[0m     \u001b[0mrmse_list\u001b[0m\u001b[0;34m.\u001b[0m\u001b[0mappend\u001b[0m\u001b[0;34m(\u001b[0m\u001b[0mscore\u001b[0m\u001b[0;34m)\u001b[0m\u001b[0;34m\u001b[0m\u001b[0;34m\u001b[0m\u001b[0m\n\u001b[1;32m      5\u001b[0m     \u001b[0mprint\u001b[0m\u001b[0;34m(\u001b[0m\u001b[0mnp\u001b[0m\u001b[0;34m.\u001b[0m\u001b[0mround\u001b[0m\u001b[0;34m(\u001b[0m\u001b[0mscore\u001b[0m\u001b[0;34m,\u001b[0m\u001b[0;36m4\u001b[0m\u001b[0;34m)\u001b[0m\u001b[0;34m)\u001b[0m\u001b[0;34m\u001b[0m\u001b[0;34m\u001b[0m\u001b[0m\n",
      "\u001b[0;32m/usr/local/lib/python3.6/dist-packages/lightgbm/sklearn.py\u001b[0m in \u001b[0;36mpredict\u001b[0;34m(self, X, raw_score, start_iteration, num_iteration, pred_leaf, pred_contrib, **kwargs)\u001b[0m\n\u001b[1;32m    678\u001b[0m             \u001b[0;32mraise\u001b[0m \u001b[0mLGBMNotFittedError\u001b[0m\u001b[0;34m(\u001b[0m\u001b[0;34m\"Estimator not fitted, call `fit` before exploiting the model.\"\u001b[0m\u001b[0;34m)\u001b[0m\u001b[0;34m\u001b[0m\u001b[0;34m\u001b[0m\u001b[0m\n\u001b[1;32m    679\u001b[0m         \u001b[0;32mif\u001b[0m \u001b[0;32mnot\u001b[0m \u001b[0misinstance\u001b[0m\u001b[0;34m(\u001b[0m\u001b[0mX\u001b[0m\u001b[0;34m,\u001b[0m \u001b[0;34m(\u001b[0m\u001b[0mDataFrame\u001b[0m\u001b[0;34m,\u001b[0m \u001b[0mDataTable\u001b[0m\u001b[0;34m)\u001b[0m\u001b[0;34m)\u001b[0m\u001b[0;34m:\u001b[0m\u001b[0;34m\u001b[0m\u001b[0;34m\u001b[0m\u001b[0m\n\u001b[0;32m--> 680\u001b[0;31m             \u001b[0mX\u001b[0m \u001b[0;34m=\u001b[0m \u001b[0m_LGBMCheckArray\u001b[0m\u001b[0;34m(\u001b[0m\u001b[0mX\u001b[0m\u001b[0;34m,\u001b[0m \u001b[0maccept_sparse\u001b[0m\u001b[0;34m=\u001b[0m\u001b[0;32mTrue\u001b[0m\u001b[0;34m,\u001b[0m \u001b[0mforce_all_finite\u001b[0m\u001b[0;34m=\u001b[0m\u001b[0;32mFalse\u001b[0m\u001b[0;34m)\u001b[0m\u001b[0;34m\u001b[0m\u001b[0;34m\u001b[0m\u001b[0m\n\u001b[0m\u001b[1;32m    681\u001b[0m         \u001b[0mn_features\u001b[0m \u001b[0;34m=\u001b[0m \u001b[0mX\u001b[0m\u001b[0;34m.\u001b[0m\u001b[0mshape\u001b[0m\u001b[0;34m[\u001b[0m\u001b[0;36m1\u001b[0m\u001b[0;34m]\u001b[0m\u001b[0;34m\u001b[0m\u001b[0;34m\u001b[0m\u001b[0m\n\u001b[1;32m    682\u001b[0m         \u001b[0;32mif\u001b[0m \u001b[0mself\u001b[0m\u001b[0;34m.\u001b[0m\u001b[0m_n_features\u001b[0m \u001b[0;34m!=\u001b[0m \u001b[0mn_features\u001b[0m\u001b[0;34m:\u001b[0m\u001b[0;34m\u001b[0m\u001b[0;34m\u001b[0m\u001b[0m\n",
      "\u001b[0;32m/usr/local/lib/python3.6/dist-packages/sklearn/utils/validation.py\u001b[0m in \u001b[0;36minner_f\u001b[0;34m(*args, **kwargs)\u001b[0m\n\u001b[1;32m     61\u001b[0m             \u001b[0mextra_args\u001b[0m \u001b[0;34m=\u001b[0m \u001b[0mlen\u001b[0m\u001b[0;34m(\u001b[0m\u001b[0margs\u001b[0m\u001b[0;34m)\u001b[0m \u001b[0;34m-\u001b[0m \u001b[0mlen\u001b[0m\u001b[0;34m(\u001b[0m\u001b[0mall_args\u001b[0m\u001b[0;34m)\u001b[0m\u001b[0;34m\u001b[0m\u001b[0;34m\u001b[0m\u001b[0m\n\u001b[1;32m     62\u001b[0m             \u001b[0;32mif\u001b[0m \u001b[0mextra_args\u001b[0m \u001b[0;34m<=\u001b[0m \u001b[0;36m0\u001b[0m\u001b[0;34m:\u001b[0m\u001b[0;34m\u001b[0m\u001b[0;34m\u001b[0m\u001b[0m\n\u001b[0;32m---> 63\u001b[0;31m                 \u001b[0;32mreturn\u001b[0m \u001b[0mf\u001b[0m\u001b[0;34m(\u001b[0m\u001b[0;34m*\u001b[0m\u001b[0margs\u001b[0m\u001b[0;34m,\u001b[0m \u001b[0;34m**\u001b[0m\u001b[0mkwargs\u001b[0m\u001b[0;34m)\u001b[0m\u001b[0;34m\u001b[0m\u001b[0;34m\u001b[0m\u001b[0m\n\u001b[0m\u001b[1;32m     64\u001b[0m \u001b[0;34m\u001b[0m\u001b[0m\n\u001b[1;32m     65\u001b[0m             \u001b[0;31m# extra_args > 0\u001b[0m\u001b[0;34m\u001b[0m\u001b[0;34m\u001b[0m\u001b[0;34m\u001b[0m\u001b[0m\n",
      "\u001b[0;32m/usr/local/lib/python3.6/dist-packages/sklearn/utils/validation.py\u001b[0m in \u001b[0;36mcheck_array\u001b[0;34m(array, accept_sparse, accept_large_sparse, dtype, order, copy, force_all_finite, ensure_2d, allow_nd, ensure_min_samples, ensure_min_features, estimator)\u001b[0m\n\u001b[1;32m    670\u001b[0m                              \u001b[0;34m\" minimum of %d is required%s.\"\u001b[0m\u001b[0;34m\u001b[0m\u001b[0;34m\u001b[0m\u001b[0m\n\u001b[1;32m    671\u001b[0m                              % (n_samples, array.shape, ensure_min_samples,\n\u001b[0;32m--> 672\u001b[0;31m                                 context))\n\u001b[0m\u001b[1;32m    673\u001b[0m \u001b[0;34m\u001b[0m\u001b[0m\n\u001b[1;32m    674\u001b[0m     \u001b[0;32mif\u001b[0m \u001b[0mensure_min_features\u001b[0m \u001b[0;34m>\u001b[0m \u001b[0;36m0\u001b[0m \u001b[0;32mand\u001b[0m \u001b[0marray\u001b[0m\u001b[0;34m.\u001b[0m\u001b[0mndim\u001b[0m \u001b[0;34m==\u001b[0m \u001b[0;36m2\u001b[0m\u001b[0;34m:\u001b[0m\u001b[0;34m\u001b[0m\u001b[0;34m\u001b[0m\u001b[0m\n",
      "\u001b[0;31mValueError\u001b[0m: Found array with 0 sample(s) (shape=(0, 24)) while a minimum of 1 is required."
     ]
    }
   ],
   "source": [
    "for i in range(3):\n",
    "    pred = lgbm_reg.predict(X_test_list[i])\n",
    "    score = rmse(y_test_list[i], pred)\n",
    "    rmse_list.append(score)\n",
    "    print(np.round(score,4))"
   ]
  },
  {
   "cell_type": "code",
   "execution_count": 33,
   "metadata": {},
   "outputs": [
    {
     "name": "stdout",
     "output_type": "stream",
     "text": [
      "0.836943 0.010106\n"
     ]
    }
   ],
   "source": [
    "print(np.round(np.mean(rmse_list),6), np.round(np.std(rmse_list),6))"
   ]
  },
  {
   "cell_type": "code",
   "execution_count": null,
   "metadata": {},
   "outputs": [],
   "source": []
  },
  {
   "cell_type": "markdown",
   "metadata": {},
   "source": [
    "----------------"
   ]
  },
  {
   "cell_type": "code",
   "execution_count": 227,
   "metadata": {},
   "outputs": [],
   "source": [
    "from hyperopt import hp\n",
    "import numpy as np\n",
    "from sklearn.metrics import mean_squared_error"
   ]
  },
  {
   "cell_type": "code",
   "execution_count": 228,
   "metadata": {},
   "outputs": [],
   "source": [
    "# LightGBM parameters\n",
    "lgb_reg_params = {\n",
    "    'learning_rate':    hp.choice('learning_rate',    np.arange(0.05, 0.31, 0.05)),\n",
    "    'max_depth':        hp.choice('max_depth',        np.arange(5, 16, 1, dtype=int)),\n",
    "    'min_child_weight': hp.choice('min_child_weight', np.arange(1, 8, 1, dtype=int)),\n",
    "    'colsample_bytree': hp.choice('colsample_bytree', np.arange(0.3, 0.8, 0.1)),\n",
    "    'subsample':        hp.uniform('subsample', 0.8, 1),\n",
    "    'n_estimators':     100,\n",
    "}\n",
    "lgb_fit_params = {\n",
    "    'eval_metric': 'l2',\n",
    "    'early_stopping_rounds': 10,\n",
    "    'verbose': False\n",
    "}\n",
    "lgb_para = dict()\n",
    "lgb_para['reg_params'] = lgb_reg_params\n",
    "lgb_para['fit_params'] = lgb_fit_params\n",
    "lgb_para['loss_func' ] = lambda y, pred: np.sqrt(mean_squared_error(y, pred))"
   ]
  },
  {
   "cell_type": "code",
   "execution_count": 229,
   "metadata": {},
   "outputs": [],
   "source": [
    "import lightgbm as lgb\n",
    "import xgboost as xgb\n",
    "import catboost as ctb\n",
    "from hyperopt import fmin, tpe, STATUS_OK, STATUS_FAIL, Trials\n",
    "\n",
    "\n",
    "class HPOpt(object):\n",
    "\n",
    "    def __init__(self, x_train, x_test, y_train, y_test):\n",
    "        self.x_train = x_train\n",
    "        self.x_test  = x_test\n",
    "        self.y_train = y_train\n",
    "        self.y_test  = y_test\n",
    "\n",
    "    def process(self, fn_name, space, trials, algo, max_evals):\n",
    "        fn = getattr(self, fn_name)\n",
    "        try:\n",
    "            result = fmin(fn=fn, space=space, algo=algo, max_evals=max_evals, trials=trials)\n",
    "        except Exception as e:\n",
    "            return {'status': STATUS_FAIL,\n",
    "                    'exception': str(e)}\n",
    "        return result, trials\n",
    "\n",
    "    def xgb_reg(self, para):\n",
    "        reg = xgb.XGBRegressor(**para['reg_params'])\n",
    "        return self.train_reg(reg, para)\n",
    "\n",
    "    def lgb_reg(self, para):\n",
    "        reg = lgb.LGBMRegressor(**para['reg_params'])\n",
    "        return self.train_reg(reg, para)\n",
    "\n",
    "    def ctb_reg(self, para):\n",
    "        reg = ctb.CatBoostRegressor(**para['reg_params'])\n",
    "        return self.train_reg(reg, para)\n",
    "\n",
    "    def train_reg(self, reg, para):\n",
    "        reg.fit(self.x_train, self.y_train,\n",
    "                eval_set=[(self.x_train, self.y_train), (self.x_test, self.y_test)],\n",
    "                **para['fit_params'])\n",
    "        pred = reg.predict(self.x_test)\n",
    "        loss = para['loss_func'](self.y_test, pred)\n",
    "        return {'loss': loss, 'status': STATUS_OK}"
   ]
  },
  {
   "cell_type": "code",
   "execution_count": null,
   "metadata": {},
   "outputs": [],
   "source": [
    "obj = HPOpt(X_train_p, X_test, y_train_p, y_test)\n",
    "lgb_opt = obj.process(fn_name='lgb_reg', space=lgb_para, trials=Trials(), algo=tpe.suggest, max_evals=100)"
   ]
  },
  {
   "cell_type": "markdown",
   "metadata": {},
   "source": [
    "## 3.3. Predictions"
   ]
  },
  {
   "cell_type": "code",
   "execution_count": 43,
   "metadata": {},
   "outputs": [],
   "source": [
    "predictions = lgbm_reg.predict(test_scaled)"
   ]
  },
  {
   "cell_type": "markdown",
   "metadata": {},
   "source": [
    "--------------"
   ]
  },
  {
   "cell_type": "markdown",
   "metadata": {},
   "source": [
    "# Submit"
   ]
  },
  {
   "cell_type": "code",
   "execution_count": 44,
   "metadata": {},
   "outputs": [
    {
     "name": "stdout",
     "output_type": "stream",
     "text": [
      "(200000, 2)\n"
     ]
    },
    {
     "data": {
      "text/html": [
       "<div>\n",
       "<style scoped>\n",
       "    .dataframe tbody tr th:only-of-type {\n",
       "        vertical-align: middle;\n",
       "    }\n",
       "\n",
       "    .dataframe tbody tr th {\n",
       "        vertical-align: top;\n",
       "    }\n",
       "\n",
       "    .dataframe thead th {\n",
       "        text-align: right;\n",
       "    }\n",
       "</style>\n",
       "<table border=\"1\" class=\"dataframe\">\n",
       "  <thead>\n",
       "    <tr style=\"text-align: right;\">\n",
       "      <th></th>\n",
       "      <th>id</th>\n",
       "      <th>target</th>\n",
       "    </tr>\n",
       "  </thead>\n",
       "  <tbody>\n",
       "    <tr>\n",
       "      <th>0</th>\n",
       "      <td>0</td>\n",
       "      <td>7.624497</td>\n",
       "    </tr>\n",
       "    <tr>\n",
       "      <th>1</th>\n",
       "      <td>5</td>\n",
       "      <td>7.764095</td>\n",
       "    </tr>\n",
       "    <tr>\n",
       "      <th>2</th>\n",
       "      <td>15</td>\n",
       "      <td>7.599630</td>\n",
       "    </tr>\n",
       "    <tr>\n",
       "      <th>3</th>\n",
       "      <td>16</td>\n",
       "      <td>7.533666</td>\n",
       "    </tr>\n",
       "    <tr>\n",
       "      <th>4</th>\n",
       "      <td>17</td>\n",
       "      <td>7.234053</td>\n",
       "    </tr>\n",
       "  </tbody>\n",
       "</table>\n",
       "</div>"
      ],
      "text/plain": [
       "   id    target\n",
       "0   0  7.624497\n",
       "1   5  7.764095\n",
       "2  15  7.599630\n",
       "3  16  7.533666\n",
       "4  17  7.234053"
      ]
     },
     "execution_count": 44,
     "metadata": {},
     "output_type": "execute_result"
    }
   ],
   "source": [
    "submission = pd.read_csv(\"./input/sample_submission.csv\")\n",
    "submission[\"target\"] = predictions\n",
    "\n",
    "print(submission.shape)\n",
    "submission.head()"
   ]
  },
  {
   "cell_type": "code",
   "execution_count": 45,
   "metadata": {},
   "outputs": [],
   "source": [
    "submission.to_csv(\"./score_submission_02212021_ver13_lgbm_hyperopt_0.83741.csv\", index=False)"
   ]
  },
  {
   "cell_type": "code",
   "execution_count": null,
   "metadata": {},
   "outputs": [],
   "source": []
  }
 ],
 "metadata": {
  "kernelspec": {
   "display_name": "Python 3",
   "language": "python",
   "name": "python3"
  },
  "language_info": {
   "codemirror_mode": {
    "name": "ipython",
    "version": 3
   },
   "file_extension": ".py",
   "mimetype": "text/x-python",
   "name": "python",
   "nbconvert_exporter": "python",
   "pygments_lexer": "ipython3",
   "version": "3.6.9"
  }
 },
 "nbformat": 4,
 "nbformat_minor": 2
}
