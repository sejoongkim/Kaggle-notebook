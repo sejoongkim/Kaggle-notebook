{
 "cells": [
  {
   "cell_type": "markdown",
   "metadata": {},
   "source": [
    "https://analyticsindiamag.com/pseudo-labelling-a-guide-to-semi-supervised-learning/"
   ]
  },
  {
   "cell_type": "code",
   "execution_count": 1,
   "metadata": {},
   "outputs": [],
   "source": [
    "import numpy as np\n",
    "import pandas as pd\n",
    "import matplotlib.pyplot as plt\n",
    "import matplotlib\n",
    "from datetime import datetime\n",
    "from contextlib import contextmanager\n",
    "import time\n",
    "import os\n",
    "import sys\n",
    "import math\n",
    "import time\n",
    "import pickle\n",
    "import psutil\n",
    "import random\n",
    "from pathlib import Path\n",
    "\n",
    "\n",
    "from sklearn.preprocessing import StandardScaler, LabelEncoder, OneHotEncoder\n",
    "from sklearn.ensemble import RandomForestClassifier, AdaBoostClassifier, GradientBoostingClassifier, ExtraTreesClassifier, VotingClassifier\n",
    "from sklearn.model_selection import train_test_split, cross_val_score, learning_curve,  KFold\n",
    "from sklearn.tree import DecisionTreeClassifier\n",
    "from sklearn.linear_model import LogisticRegression\n",
    "from lightgbm import LGBMClassifier\n",
    "from xgboost import XGBClassifier\n",
    "from catboost import CatBoostClassifier\n",
    "from sklearn.neighbors import KNeighborsClassifier\n",
    "from sklearn.svm import SVC\n",
    "from sklearn.neural_network import MLPClassifier\n",
    "from sklearn.metrics import accuracy_score, roc_auc_score\n",
    "\n",
    "import missingno\n",
    "\n",
    "import seaborn as sns\n",
    "\n",
    "\n",
    "import sys\n",
    "import warnings\n",
    "\n",
    "import warnings\n",
    "warnings.filterwarnings('ignore')\n",
    "\n",
    "sns.set(style='white', context='notebook', palette='deep')"
   ]
  },
  {
   "cell_type": "code",
   "execution_count": 2,
   "metadata": {},
   "outputs": [],
   "source": [
    "# ------------------------------------------------------------------------------\n",
    "# Utilities\n",
    "# ------------------------------------------------------------------------------\n",
    "@contextmanager\n",
    "def timer(name: str):\n",
    "    t0 = time.time()\n",
    "    p = psutil.Process(os.getpid())\n",
    "    m0 = p.memory_info()[0] / 2. ** 30\n",
    "    try:\n",
    "        yield\n",
    "    finally:\n",
    "        m1 = p.memory_info()[0] / 2. ** 30\n",
    "        delta = m1 - m0\n",
    "        sign = '+' if delta >= 0 else '-'\n",
    "        delta = math.fabs(delta)\n",
    "        print(f\"[{m1:.1f}GB({sign}{delta:.1f}GB): {time.time() - t0:.3f}sec] {name}\", file=sys.stderr)\n",
    "\n",
    "\n",
    "def set_seed(seed=42):\n",
    "    random.seed(seed)\n",
    "    os.environ[\"PYTHONHASHSEED\"] = str(seed)\n",
    "    np.random.seed(seed)\n",
    "\n",
    "\n",
    "def score_log(df: pd.DataFrame, seed: int, num_fold: int, model_name: str, cv: float):\n",
    "    score_dict = {'date': datetime.now(), 'seed': seed, 'fold': num_fold, 'model': model_name, 'cv': cv}\n",
    "    # noinspection PyTypeChecker\n",
    "    df = pd.concat([df, pd.DataFrame.from_dict([score_dict])])\n",
    "    df.to_csv(LOG_PATH / f\"model_score_{model_name}.csv\", index=False)\n",
    "    return df"
   ]
  },
  {
   "cell_type": "code",
   "execution_count": 3,
   "metadata": {},
   "outputs": [],
   "source": [
    "def plot_learning_curve(estimator, title, X, y, ylim=None, cv=None,\n",
    "                        n_jobs=-1, train_sizes=np.linspace(.1, 1.0, 5)):\n",
    "    \"\"\"Generate a simple plot of the test and training learning curve\"\"\"\n",
    "    plt.figure()\n",
    "    plt.title(title)\n",
    "    if ylim is not None:\n",
    "        plt.ylim(*ylim)\n",
    "    plt.xlabel(\"Training examples\")\n",
    "    plt.ylabel(\"Score\")\n",
    "    train_sizes, train_scores, test_scores = learning_curve(\n",
    "        estimator, X, y, cv=cv, n_jobs=n_jobs, train_sizes=train_sizes, scoring=\"roc_auc\")\n",
    "    train_scores_mean = np.mean(train_scores, axis=1)\n",
    "    train_scores_std = np.std(train_scores, axis=1)\n",
    "    test_scores_mean = np.mean(test_scores, axis=1)\n",
    "    test_scores_std = np.std(test_scores, axis=1)\n",
    "    plt.grid()\n",
    "\n",
    "    plt.fill_between(train_sizes, train_scores_mean - train_scores_std,\n",
    "                     train_scores_mean + train_scores_std, alpha=0.1,\n",
    "                     color=\"r\")\n",
    "    plt.fill_between(train_sizes, test_scores_mean - test_scores_std,\n",
    "                     test_scores_mean + test_scores_std, alpha=0.1, color=\"g\")\n",
    "    plt.plot(train_sizes, train_scores_mean, 'o-', color=\"r\",\n",
    "             label=\"Training score\")\n",
    "    plt.plot(train_sizes, test_scores_mean, 'o-', color=\"g\",\n",
    "             label=\"Cross-validation score\")\n",
    "\n",
    "    plt.legend(loc=\"best\")\n",
    "    plt.show()\n",
    "    return plt"
   ]
  },
  {
   "cell_type": "code",
   "execution_count": 4,
   "metadata": {},
   "outputs": [],
   "source": [
    "def SingleTraining(classifier, features, target,  title=None, test_size=0.2, random_state=0):\n",
    "    \n",
    "    with timer(title):\n",
    "        X_train, X_test, y_train, y_test = train_test_split(features, target, \n",
    "                                                        test_size=test_size, \n",
    "                                                        random_state=random_state)\n",
    "        classifier.fit(X_train, y_train)\n",
    "        preds = classifier.predict_proba(X_test)[:, 1]\n",
    "        score = roc_auc_score(y_test, preds)\n",
    "        print(\"AUC: {0:.8f}\".format(score))\n",
    "        \n",
    "        return score, preds\n",
    "        \n",
    "def cross_validation(classifier, X_train, y_train, title=None, cv=10, n_jobs=-1):\n",
    "    with timer(title):\n",
    "        scores = cross_val_score(classifier, X_train, y_train, cv=cv, scoring=\"roc_auc\", n_jobs=n_jobs)\n",
    "        print(\"AUC Mean: {0:.8f} / Std: {1:.8f}\".format(scores.mean(), scores.std()))\n",
    "        \n",
    "        return scores"
   ]
  },
  {
   "cell_type": "markdown",
   "metadata": {},
   "source": [
    "# Loading Train and Test Data"
   ]
  },
  {
   "cell_type": "code",
   "execution_count": 5,
   "metadata": {},
   "outputs": [],
   "source": [
    "train = pd.read_csv(\"./input/train.csv\", index_col='id')\n",
    "test = pd.read_csv('./input/test.csv', index_col='id')"
   ]
  },
  {
   "cell_type": "code",
   "execution_count": 6,
   "metadata": {},
   "outputs": [],
   "source": [
    "cat_cols = ['cat'+str(i) for i in range(19)]\n",
    "cont_cols = ['cont'+str(i) for i in range(11)]\n",
    "features = cat_cols + cont_cols"
   ]
  },
  {
   "cell_type": "markdown",
   "metadata": {},
   "source": [
    "# Categorical Feature LabelEncoding"
   ]
  },
  {
   "cell_type": "code",
   "execution_count": 7,
   "metadata": {},
   "outputs": [],
   "source": [
    "data = pd.concat([train, test])"
   ]
  },
  {
   "cell_type": "code",
   "execution_count": 8,
   "metadata": {},
   "outputs": [],
   "source": [
    "for cat in cat_cols:\n",
    "    data[cat] = pd.factorize(data[cat])[0]"
   ]
  },
  {
   "cell_type": "code",
   "execution_count": 9,
   "metadata": {},
   "outputs": [],
   "source": [
    "test = data[data['target'].isnull()]\n",
    "train = data[~data['target'].isnull()]"
   ]
  },
  {
   "cell_type": "markdown",
   "metadata": {},
   "source": [
    "# Features and Target separation"
   ]
  },
  {
   "cell_type": "code",
   "execution_count": 10,
   "metadata": {},
   "outputs": [],
   "source": [
    "train['target'] = train['target'].astype('int64')\n",
    "target = train.pop('target')"
   ]
  },
  {
   "cell_type": "markdown",
   "metadata": {},
   "source": [
    "# Model : LightGBM (default)"
   ]
  },
  {
   "cell_type": "code",
   "execution_count": 11,
   "metadata": {},
   "outputs": [],
   "source": [
    "clf_cv_list = {}"
   ]
  },
  {
   "cell_type": "code",
   "execution_count": 22,
   "metadata": {},
   "outputs": [
    {
     "data": {
      "text/plain": [
       "{'lgbm_clf': array([0.89075255, 0.88942784, 0.89036058, 0.88838181, 0.89071987,\n",
       "        0.88913751, 0.88597703, 0.88814562, 0.89039929, 0.88594597]),\n",
       " 'cb_clf': array([0.89408289, 0.89410621, 0.89418404, 0.89271492, 0.89432617,\n",
       "        0.8928168 , 0.89067053, 0.8920148 , 0.89460149, 0.89046103]),\n",
       " 'rf_clf': array([0.88407571, 0.88399151, 0.88533596, 0.88365678, 0.88592181,\n",
       "        0.8841951 , 0.88076462, 0.88439553, 0.88453123, 0.88141661])}"
      ]
     },
     "execution_count": 22,
     "metadata": {},
     "output_type": "execute_result"
    }
   ],
   "source": [
    "clf_cv_list"
   ]
  },
  {
   "cell_type": "code",
   "execution_count": 22,
   "metadata": {},
   "outputs": [
    {
     "name": "stdout",
     "output_type": "stream",
     "text": [
      "AUC: 0.88695314\n"
     ]
    },
    {
     "name": "stderr",
     "output_type": "stream",
     "text": [
      "[0.7GB(+0.1GB): 16.468sec] LGBM\n"
     ]
    }
   ],
   "source": [
    "lgbm_clf = LGBMClassifier()\n",
    "score, preds = SingleTraining(lgbm_clf, train, target,  title='LGBM', test_size=0.2, random_state=0)"
   ]
  },
  {
   "cell_type": "code",
   "execution_count": 12,
   "metadata": {},
   "outputs": [
    {
     "name": "stdout",
     "output_type": "stream",
     "text": [
      "AUC Mean: 0.88892481 / Std: 0.00171935\n"
     ]
    },
    {
     "name": "stderr",
     "output_type": "stream",
     "text": [
      "[0.5GB(+0.0GB): 10.731sec] LGBM\n"
     ]
    }
   ],
   "source": [
    "lgbm_clf = LGBMClassifier()\n",
    "lgbm_scores = cross_validation(lgbm_clf, train, target, title='LGBM', cv=10)"
   ]
  },
  {
   "cell_type": "code",
   "execution_count": 13,
   "metadata": {},
   "outputs": [],
   "source": [
    "clf_cv_list[\"lgbm_clf\"] = lgbm_scores"
   ]
  },
  {
   "cell_type": "code",
   "execution_count": 24,
   "metadata": {},
   "outputs": [
    {
     "data": {
      "image/png": "[encoded data removed]",
      "text/plain": [
       "<Figure size 432x288 with 1 Axes>"
      ]
     },
     "metadata": {
      "needs_background": "light"
     },
     "output_type": "display_data"
    },
    {
     "name": "stderr",
     "output_type": "stream",
     "text": [
      "[0.6GB(+0.0GB): 28.895sec] Light GBM (default)\n"
     ]
    }
   ],
   "source": [
    "with timer(\"Light GBM (default)\"):\n",
    "    X_train, y_train = train, target\n",
    "    plot_learning_curve(lgbm_clf, 'Light GBM', X_train, y_train, cv=5, n_jobs=-1, \n",
    "                        train_sizes=np.linspace(.1, 1.0, 10))"
   ]
  },
  {
   "cell_type": "markdown",
   "metadata": {},
   "source": [
    "## 2. CatBoost"
   ]
  },
  {
   "cell_type": "code",
   "execution_count": 17,
   "metadata": {},
   "outputs": [
    {
     "name": "stdout",
     "output_type": "stream",
     "text": [
      "Learning rate set to 0.106975\n",
      "0:\tlearn: 0.6226569\ttotal: 85.2ms\tremaining: 1m 25s\n",
      "1:\tlearn: 0.5662697\ttotal: 114ms\tremaining: 56.8s\n",
      "2:\tlearn: 0.5257482\ttotal: 139ms\tremaining: 46.2s\n",
      "3:\tlearn: 0.4952675\ttotal: 158ms\tremaining: 39.3s\n",
      "4:\tlearn: 0.4714173\ttotal: 179ms\tremaining: 35.6s\n",
      "5:\tlearn: 0.4535853\ttotal: 204ms\tremaining: 33.8s\n",
      "6:\tlearn: 0.4376939\ttotal: 242ms\tremaining: 34.3s\n",
      "7:\tlearn: 0.4266865\ttotal: 272ms\tremaining: 33.8s\n",
      "8:\tlearn: 0.4170071\ttotal: 300ms\tremaining: 33.1s\n",
      "9:\tlearn: 0.4098802\ttotal: 323ms\tremaining: 32s\n",
      "10:\tlearn: 0.4040619\ttotal: 350ms\tremaining: 31.5s\n",
      "11:\tlearn: 0.4002557\ttotal: 369ms\tremaining: 30.4s\n",
      "12:\tlearn: 0.3958632\ttotal: 390ms\tremaining: 29.6s\n",
      "13:\tlearn: 0.3924076\ttotal: 415ms\tremaining: 29.3s\n",
      "14:\tlearn: 0.3890790\ttotal: 448ms\tremaining: 29.4s\n",
      "15:\tlearn: 0.3866434\ttotal: 476ms\tremaining: 29.3s\n",
      "16:\tlearn: 0.3846816\ttotal: 498ms\tremaining: 28.8s\n",
      "17:\tlearn: 0.3827952\ttotal: 528ms\tremaining: 28.8s\n",
      "18:\tlearn: 0.3811524\ttotal: 559ms\tremaining: 28.9s\n",
      "19:\tlearn: 0.3795189\ttotal: 587ms\tremaining: 28.8s\n",
      "20:\tlearn: 0.3783462\ttotal: 616ms\tremaining: 28.7s\n",
      "21:\tlearn: 0.3772810\ttotal: 646ms\tremaining: 28.7s\n",
      "22:\tlearn: 0.3762136\ttotal: 681ms\tremaining: 28.9s\n",
      "23:\tlearn: 0.3752083\ttotal: 708ms\tremaining: 28.8s\n",
      "24:\tlearn: 0.3745955\ttotal: 731ms\tremaining: 28.5s\n",
      "25:\tlearn: 0.3736757\ttotal: 753ms\tremaining: 28.2s\n",
      "26:\tlearn: 0.3730176\ttotal: 781ms\tremaining: 28.1s\n",
      "27:\tlearn: 0.3723632\ttotal: 807ms\tremaining: 28s\n",
      "28:\tlearn: 0.3718454\ttotal: 840ms\tremaining: 28.1s\n",
      "29:\tlearn: 0.3711611\ttotal: 872ms\tremaining: 28.2s\n",
      "30:\tlearn: 0.3706533\ttotal: 900ms\tremaining: 28.1s\n",
      "31:\tlearn: 0.3701165\ttotal: 921ms\tremaining: 27.9s\n",
      "32:\tlearn: 0.3697191\ttotal: 949ms\tremaining: 27.8s\n",
      "33:\tlearn: 0.3692262\ttotal: 977ms\tremaining: 27.7s\n",
      "34:\tlearn: 0.3688185\ttotal: 1s\tremaining: 27.7s\n",
      "35:\tlearn: 0.3685050\ttotal: 1.03s\tremaining: 27.5s\n",
      "36:\tlearn: 0.3681013\ttotal: 1.06s\tremaining: 27.6s\n",
      "37:\tlearn: 0.3676817\ttotal: 1.09s\tremaining: 27.6s\n",
      "38:\tlearn: 0.3673356\ttotal: 1.12s\tremaining: 27.6s\n",
      "39:\tlearn: 0.3670286\ttotal: 1.15s\tremaining: 27.5s\n",
      "40:\tlearn: 0.3667082\ttotal: 1.17s\tremaining: 27.5s\n",
      "41:\tlearn: 0.3664348\ttotal: 1.2s\tremaining: 27.3s\n",
      "42:\tlearn: 0.3661429\ttotal: 1.22s\tremaining: 27.2s\n",
      "43:\tlearn: 0.3659253\ttotal: 1.25s\tremaining: 27.1s\n",
      "44:\tlearn: 0.3655582\ttotal: 1.27s\tremaining: 27s\n",
      "45:\tlearn: 0.3652251\ttotal: 1.31s\tremaining: 27.1s\n",
      "46:\tlearn: 0.3650341\ttotal: 1.34s\tremaining: 27.1s\n",
      "47:\tlearn: 0.3647680\ttotal: 1.36s\tremaining: 27s\n",
      "48:\tlearn: 0.3645121\ttotal: 1.38s\tremaining: 26.8s\n",
      "49:\tlearn: 0.3643065\ttotal: 1.41s\tremaining: 26.7s\n",
      "50:\tlearn: 0.3639945\ttotal: 1.43s\tremaining: 26.6s\n",
      "51:\tlearn: 0.3637835\ttotal: 1.45s\tremaining: 26.5s\n",
      "52:\tlearn: 0.3636338\ttotal: 1.47s\tremaining: 26.3s\n",
      "53:\tlearn: 0.3634017\ttotal: 1.5s\tremaining: 26.3s\n",
      "54:\tlearn: 0.3632345\ttotal: 1.53s\tremaining: 26.4s\n",
      "55:\tlearn: 0.3629912\ttotal: 1.56s\tremaining: 26.3s\n",
      "56:\tlearn: 0.3628947\ttotal: 1.58s\tremaining: 26.2s\n",
      "57:\tlearn: 0.3627201\ttotal: 1.6s\tremaining: 26s\n",
      "58:\tlearn: 0.3625299\ttotal: 1.62s\tremaining: 25.9s\n",
      "59:\tlearn: 0.3623681\ttotal: 1.66s\tremaining: 26s\n",
      "60:\tlearn: 0.3621425\ttotal: 1.69s\tremaining: 26s\n",
      "61:\tlearn: 0.3620359\ttotal: 1.72s\tremaining: 26s\n",
      "62:\tlearn: 0.3618439\ttotal: 1.75s\tremaining: 26s\n",
      "63:\tlearn: 0.3615822\ttotal: 1.77s\tremaining: 25.9s\n",
      "64:\tlearn: 0.3614185\ttotal: 1.79s\tremaining: 25.8s\n",
      "65:\tlearn: 0.3612384\ttotal: 1.82s\tremaining: 25.8s\n",
      "66:\tlearn: 0.3611135\ttotal: 1.85s\tremaining: 25.8s\n",
      "67:\tlearn: 0.3609560\ttotal: 1.88s\tremaining: 25.8s\n",
      "68:\tlearn: 0.3608221\ttotal: 1.91s\tremaining: 25.7s\n",
      "69:\tlearn: 0.3606946\ttotal: 1.93s\tremaining: 25.7s\n",
      "70:\tlearn: 0.3605964\ttotal: 1.96s\tremaining: 25.6s\n",
      "71:\tlearn: 0.3604405\ttotal: 1.98s\tremaining: 25.6s\n",
      "72:\tlearn: 0.3602589\ttotal: 2s\tremaining: 25.5s\n",
      "73:\tlearn: 0.3600929\ttotal: 2.03s\tremaining: 25.4s\n",
      "74:\tlearn: 0.3599128\ttotal: 2.05s\tremaining: 25.3s\n",
      "75:\tlearn: 0.3597672\ttotal: 2.07s\tremaining: 25.1s\n",
      "76:\tlearn: 0.3596631\ttotal: 2.09s\tremaining: 25s\n",
      "77:\tlearn: 0.3595332\ttotal: 2.11s\tremaining: 25s\n",
      "78:\tlearn: 0.3593119\ttotal: 2.14s\tremaining: 25s\n",
      "79:\tlearn: 0.3591454\ttotal: 2.18s\tremaining: 25.1s\n",
      "80:\tlearn: 0.3590006\ttotal: 2.21s\tremaining: 25s\n",
      "81:\tlearn: 0.3588370\ttotal: 2.23s\tremaining: 25s\n",
      "82:\tlearn: 0.3586400\ttotal: 2.26s\tremaining: 25s\n",
      "83:\tlearn: 0.3585026\ttotal: 2.29s\tremaining: 24.9s\n",
      "84:\tlearn: 0.3583921\ttotal: 2.31s\tremaining: 24.9s\n",
      "85:\tlearn: 0.3582519\ttotal: 2.34s\tremaining: 24.9s\n",
      "86:\tlearn: 0.3581290\ttotal: 2.38s\tremaining: 24.9s\n",
      "87:\tlearn: 0.3580083\ttotal: 2.41s\tremaining: 24.9s\n",
      "88:\tlearn: 0.3578769\ttotal: 2.44s\tremaining: 24.9s\n",
      "89:\tlearn: 0.3577833\ttotal: 2.46s\tremaining: 24.9s\n",
      "90:\tlearn: 0.3576592\ttotal: 2.49s\tremaining: 24.8s\n",
      "91:\tlearn: 0.3574665\ttotal: 2.51s\tremaining: 24.7s\n",
      "92:\tlearn: 0.3573541\ttotal: 2.53s\tremaining: 24.7s\n",
      "93:\tlearn: 0.3572267\ttotal: 2.56s\tremaining: 24.7s\n",
      "94:\tlearn: 0.3570652\ttotal: 2.59s\tremaining: 24.6s\n",
      "95:\tlearn: 0.3569227\ttotal: 2.62s\tremaining: 24.6s\n",
      "96:\tlearn: 0.3567958\ttotal: 2.64s\tremaining: 24.6s\n",
      "97:\tlearn: 0.3566804\ttotal: 2.67s\tremaining: 24.6s\n",
      "98:\tlearn: 0.3565849\ttotal: 2.7s\tremaining: 24.6s\n",
      "99:\tlearn: 0.3564672\ttotal: 2.72s\tremaining: 24.5s\n",
      "100:\tlearn: 0.3563397\ttotal: 2.75s\tremaining: 24.5s\n",
      "101:\tlearn: 0.3562161\ttotal: 2.77s\tremaining: 24.4s\n",
      "102:\tlearn: 0.3560790\ttotal: 2.8s\tremaining: 24.4s\n",
      "103:\tlearn: 0.3559674\ttotal: 2.84s\tremaining: 24.4s\n",
      "104:\tlearn: 0.3558226\ttotal: 2.86s\tremaining: 24.4s\n",
      "105:\tlearn: 0.3557139\ttotal: 2.89s\tremaining: 24.4s\n",
      "106:\tlearn: 0.3556262\ttotal: 2.91s\tremaining: 24.3s\n",
      "107:\tlearn: 0.3555346\ttotal: 2.94s\tremaining: 24.3s\n",
      "108:\tlearn: 0.3554229\ttotal: 2.96s\tremaining: 24.2s\n",
      "109:\tlearn: 0.3552397\ttotal: 2.98s\tremaining: 24.1s\n",
      "110:\tlearn: 0.3551181\ttotal: 3.01s\tremaining: 24.1s\n",
      "111:\tlearn: 0.3550158\ttotal: 3.04s\tremaining: 24.1s\n",
      "112:\tlearn: 0.3549174\ttotal: 3.07s\tremaining: 24.1s\n",
      "113:\tlearn: 0.3548089\ttotal: 3.11s\tremaining: 24.2s\n",
      "114:\tlearn: 0.3547061\ttotal: 3.14s\tremaining: 24.1s\n",
      "115:\tlearn: 0.3546149\ttotal: 3.16s\tremaining: 24.1s\n",
      "116:\tlearn: 0.3545098\ttotal: 3.18s\tremaining: 24s\n",
      "117:\tlearn: 0.3543994\ttotal: 3.21s\tremaining: 24s\n",
      "118:\tlearn: 0.3543136\ttotal: 3.24s\tremaining: 24s\n",
      "119:\tlearn: 0.3541964\ttotal: 3.27s\tremaining: 24s\n",
      "120:\tlearn: 0.3541085\ttotal: 3.28s\tremaining: 23.9s\n",
      "121:\tlearn: 0.3539887\ttotal: 3.3s\tremaining: 23.8s\n",
      "122:\tlearn: 0.3538699\ttotal: 3.32s\tremaining: 23.7s\n",
      "123:\tlearn: 0.3537821\ttotal: 3.35s\tremaining: 23.7s\n",
      "124:\tlearn: 0.3536542\ttotal: 3.37s\tremaining: 23.6s\n",
      "125:\tlearn: 0.3535473\ttotal: 3.39s\tremaining: 23.5s\n",
      "126:\tlearn: 0.3534576\ttotal: 3.42s\tremaining: 23.5s\n",
      "127:\tlearn: 0.3533509\ttotal: 3.45s\tremaining: 23.5s\n",
      "128:\tlearn: 0.3532335\ttotal: 3.48s\tremaining: 23.5s\n",
      "129:\tlearn: 0.3531293\ttotal: 3.5s\tremaining: 23.4s\n",
      "130:\tlearn: 0.3530380\ttotal: 3.52s\tremaining: 23.4s\n",
      "131:\tlearn: 0.3529277\ttotal: 3.55s\tremaining: 23.3s\n",
      "132:\tlearn: 0.3528473\ttotal: 3.57s\tremaining: 23.2s\n",
      "133:\tlearn: 0.3527159\ttotal: 3.59s\tremaining: 23.2s\n",
      "134:\tlearn: 0.3526299\ttotal: 3.61s\tremaining: 23.1s\n",
      "135:\tlearn: 0.3525113\ttotal: 3.64s\tremaining: 23.1s\n",
      "136:\tlearn: 0.3524269\ttotal: 3.67s\tremaining: 23.1s\n",
      "137:\tlearn: 0.3523418\ttotal: 3.69s\tremaining: 23.1s\n",
      "138:\tlearn: 0.3522263\ttotal: 3.72s\tremaining: 23s\n",
      "139:\tlearn: 0.3521315\ttotal: 3.74s\tremaining: 23s\n",
      "140:\tlearn: 0.3520449\ttotal: 3.76s\tremaining: 22.9s\n",
      "141:\tlearn: 0.3519458\ttotal: 3.78s\tremaining: 22.9s\n",
      "142:\tlearn: 0.3518235\ttotal: 3.8s\tremaining: 22.8s\n",
      "143:\tlearn: 0.3517369\ttotal: 3.82s\tremaining: 22.7s\n",
      "144:\tlearn: 0.3516662\ttotal: 3.85s\tremaining: 22.7s\n",
      "145:\tlearn: 0.3515844\ttotal: 3.88s\tremaining: 22.7s\n",
      "146:\tlearn: 0.3514740\ttotal: 3.91s\tremaining: 22.7s\n",
      "147:\tlearn: 0.3513780\ttotal: 3.93s\tremaining: 22.6s\n",
      "148:\tlearn: 0.3512893\ttotal: 3.95s\tremaining: 22.6s\n",
      "149:\tlearn: 0.3512115\ttotal: 3.98s\tremaining: 22.6s\n",
      "150:\tlearn: 0.3511401\ttotal: 4.01s\tremaining: 22.5s\n",
      "151:\tlearn: 0.3510924\ttotal: 4.04s\tremaining: 22.5s\n",
      "152:\tlearn: 0.3510072\ttotal: 4.06s\tremaining: 22.5s\n",
      "153:\tlearn: 0.3509347\ttotal: 4.09s\tremaining: 22.5s\n",
      "154:\tlearn: 0.3508208\ttotal: 4.12s\tremaining: 22.4s\n",
      "155:\tlearn: 0.3507323\ttotal: 4.14s\tremaining: 22.4s\n",
      "156:\tlearn: 0.3506524\ttotal: 4.17s\tremaining: 22.4s\n",
      "157:\tlearn: 0.3505913\ttotal: 4.19s\tremaining: 22.3s\n",
      "158:\tlearn: 0.3505129\ttotal: 4.21s\tremaining: 22.3s\n",
      "159:\tlearn: 0.3504192\ttotal: 4.25s\tremaining: 22.3s\n",
      "160:\tlearn: 0.3503495\ttotal: 4.28s\tremaining: 22.3s\n",
      "161:\tlearn: 0.3502665\ttotal: 4.3s\tremaining: 22.3s\n",
      "162:\tlearn: 0.3501959\ttotal: 4.33s\tremaining: 22.2s\n",
      "163:\tlearn: 0.3501042\ttotal: 4.35s\tremaining: 22.2s\n",
      "164:\tlearn: 0.3500137\ttotal: 4.37s\tremaining: 22.1s\n",
      "165:\tlearn: 0.3499290\ttotal: 4.4s\tremaining: 22.1s\n",
      "166:\tlearn: 0.3498356\ttotal: 4.42s\tremaining: 22s\n",
      "167:\tlearn: 0.3497742\ttotal: 4.44s\tremaining: 22s\n",
      "168:\tlearn: 0.3496670\ttotal: 4.47s\tremaining: 22s\n"
     ]
    },
    {
     "name": "stdout",
     "output_type": "stream",
     "text": [
      "169:\tlearn: 0.3495934\ttotal: 4.52s\tremaining: 22.1s\n",
      "170:\tlearn: 0.3495188\ttotal: 4.55s\tremaining: 22.1s\n",
      "171:\tlearn: 0.3494446\ttotal: 4.57s\tremaining: 22s\n",
      "172:\tlearn: 0.3493409\ttotal: 4.59s\tremaining: 22s\n",
      "173:\tlearn: 0.3492580\ttotal: 4.62s\tremaining: 21.9s\n",
      "174:\tlearn: 0.3491934\ttotal: 4.64s\tremaining: 21.9s\n",
      "175:\tlearn: 0.3491109\ttotal: 4.66s\tremaining: 21.8s\n",
      "176:\tlearn: 0.3490589\ttotal: 4.68s\tremaining: 21.8s\n",
      "177:\tlearn: 0.3489725\ttotal: 4.7s\tremaining: 21.7s\n",
      "178:\tlearn: 0.3488717\ttotal: 4.72s\tremaining: 21.7s\n",
      "179:\tlearn: 0.3488029\ttotal: 4.77s\tremaining: 21.7s\n",
      "180:\tlearn: 0.3487319\ttotal: 4.79s\tremaining: 21.7s\n",
      "181:\tlearn: 0.3486201\ttotal: 4.82s\tremaining: 21.7s\n",
      "182:\tlearn: 0.3485527\ttotal: 4.85s\tremaining: 21.7s\n",
      "183:\tlearn: 0.3484586\ttotal: 4.88s\tremaining: 21.6s\n",
      "184:\tlearn: 0.3483735\ttotal: 4.9s\tremaining: 21.6s\n",
      "185:\tlearn: 0.3482964\ttotal: 4.92s\tremaining: 21.5s\n",
      "186:\tlearn: 0.3482147\ttotal: 4.94s\tremaining: 21.5s\n",
      "187:\tlearn: 0.3481472\ttotal: 4.97s\tremaining: 21.5s\n",
      "188:\tlearn: 0.3480938\ttotal: 5s\tremaining: 21.5s\n",
      "189:\tlearn: 0.3479976\ttotal: 5.04s\tremaining: 21.5s\n",
      "190:\tlearn: 0.3479105\ttotal: 5.06s\tremaining: 21.4s\n",
      "191:\tlearn: 0.3478240\ttotal: 5.08s\tremaining: 21.4s\n",
      "192:\tlearn: 0.3477611\ttotal: 5.1s\tremaining: 21.3s\n",
      "193:\tlearn: 0.3476928\ttotal: 5.12s\tremaining: 21.3s\n",
      "194:\tlearn: 0.3476247\ttotal: 5.15s\tremaining: 21.3s\n",
      "195:\tlearn: 0.3475567\ttotal: 5.17s\tremaining: 21.2s\n",
      "196:\tlearn: 0.3475009\ttotal: 5.2s\tremaining: 21.2s\n",
      "197:\tlearn: 0.3474189\ttotal: 5.23s\tremaining: 21.2s\n",
      "198:\tlearn: 0.3473694\ttotal: 5.25s\tremaining: 21.1s\n",
      "199:\tlearn: 0.3473092\ttotal: 5.28s\tremaining: 21.1s\n",
      "200:\tlearn: 0.3472094\ttotal: 5.29s\tremaining: 21s\n",
      "201:\tlearn: 0.3471079\ttotal: 5.32s\tremaining: 21s\n",
      "202:\tlearn: 0.3470347\ttotal: 5.34s\tremaining: 21s\n",
      "203:\tlearn: 0.3469667\ttotal: 5.37s\tremaining: 21s\n",
      "204:\tlearn: 0.3469194\ttotal: 5.4s\tremaining: 20.9s\n",
      "205:\tlearn: 0.3468543\ttotal: 5.43s\tremaining: 20.9s\n",
      "206:\tlearn: 0.3467760\ttotal: 5.46s\tremaining: 20.9s\n",
      "207:\tlearn: 0.3466911\ttotal: 5.48s\tremaining: 20.9s\n",
      "208:\tlearn: 0.3465938\ttotal: 5.5s\tremaining: 20.8s\n",
      "209:\tlearn: 0.3465047\ttotal: 5.52s\tremaining: 20.8s\n",
      "210:\tlearn: 0.3464514\ttotal: 5.56s\tremaining: 20.8s\n",
      "211:\tlearn: 0.3463949\ttotal: 5.58s\tremaining: 20.7s\n",
      "212:\tlearn: 0.3463432\ttotal: 5.6s\tremaining: 20.7s\n",
      "213:\tlearn: 0.3462784\ttotal: 5.63s\tremaining: 20.7s\n",
      "214:\tlearn: 0.3462196\ttotal: 5.65s\tremaining: 20.6s\n",
      "215:\tlearn: 0.3461591\ttotal: 5.68s\tremaining: 20.6s\n",
      "216:\tlearn: 0.3461039\ttotal: 5.7s\tremaining: 20.6s\n",
      "217:\tlearn: 0.3460392\ttotal: 5.72s\tremaining: 20.5s\n",
      "218:\tlearn: 0.3459559\ttotal: 5.74s\tremaining: 20.5s\n",
      "219:\tlearn: 0.3458836\ttotal: 5.76s\tremaining: 20.4s\n",
      "220:\tlearn: 0.3458066\ttotal: 5.79s\tremaining: 20.4s\n",
      "221:\tlearn: 0.3457415\ttotal: 5.81s\tremaining: 20.4s\n",
      "222:\tlearn: 0.3456830\ttotal: 5.84s\tremaining: 20.4s\n",
      "223:\tlearn: 0.3456105\ttotal: 5.87s\tremaining: 20.3s\n",
      "224:\tlearn: 0.3455330\ttotal: 5.88s\tremaining: 20.3s\n",
      "225:\tlearn: 0.3454697\ttotal: 5.91s\tremaining: 20.2s\n",
      "226:\tlearn: 0.3454017\ttotal: 5.93s\tremaining: 20.2s\n",
      "227:\tlearn: 0.3453286\ttotal: 5.95s\tremaining: 20.2s\n",
      "228:\tlearn: 0.3452744\ttotal: 5.97s\tremaining: 20.1s\n",
      "229:\tlearn: 0.3452176\ttotal: 6s\tremaining: 20.1s\n",
      "230:\tlearn: 0.3451598\ttotal: 6.03s\tremaining: 20.1s\n",
      "231:\tlearn: 0.3450901\ttotal: 6.06s\tremaining: 20.1s\n",
      "232:\tlearn: 0.3450418\ttotal: 6.09s\tremaining: 20.1s\n",
      "233:\tlearn: 0.3449853\ttotal: 6.12s\tremaining: 20s\n",
      "234:\tlearn: 0.3449121\ttotal: 6.15s\tremaining: 20s\n",
      "235:\tlearn: 0.3448293\ttotal: 6.17s\tremaining: 20s\n",
      "236:\tlearn: 0.3447563\ttotal: 6.19s\tremaining: 19.9s\n",
      "237:\tlearn: 0.3446810\ttotal: 6.23s\tremaining: 19.9s\n",
      "238:\tlearn: 0.3446002\ttotal: 6.26s\tremaining: 19.9s\n",
      "239:\tlearn: 0.3445628\ttotal: 6.28s\tremaining: 19.9s\n",
      "240:\tlearn: 0.3445051\ttotal: 6.29s\tremaining: 19.8s\n",
      "241:\tlearn: 0.3444648\ttotal: 6.31s\tremaining: 19.8s\n",
      "242:\tlearn: 0.3443825\ttotal: 6.34s\tremaining: 19.8s\n",
      "243:\tlearn: 0.3443283\ttotal: 6.36s\tremaining: 19.7s\n",
      "244:\tlearn: 0.3442660\ttotal: 6.38s\tremaining: 19.7s\n",
      "245:\tlearn: 0.3441886\ttotal: 6.41s\tremaining: 19.6s\n",
      "246:\tlearn: 0.3441236\ttotal: 6.44s\tremaining: 19.6s\n",
      "247:\tlearn: 0.3440413\ttotal: 6.47s\tremaining: 19.6s\n",
      "248:\tlearn: 0.3439819\ttotal: 6.49s\tremaining: 19.6s\n",
      "249:\tlearn: 0.3439193\ttotal: 6.51s\tremaining: 19.5s\n",
      "250:\tlearn: 0.3438862\ttotal: 6.54s\tremaining: 19.5s\n",
      "251:\tlearn: 0.3438378\ttotal: 6.57s\tremaining: 19.5s\n",
      "252:\tlearn: 0.3438004\ttotal: 6.59s\tremaining: 19.5s\n",
      "253:\tlearn: 0.3437320\ttotal: 6.61s\tremaining: 19.4s\n",
      "254:\tlearn: 0.3436262\ttotal: 6.64s\tremaining: 19.4s\n",
      "255:\tlearn: 0.3435566\ttotal: 6.67s\tremaining: 19.4s\n",
      "256:\tlearn: 0.3434883\ttotal: 6.69s\tremaining: 19.4s\n",
      "257:\tlearn: 0.3434212\ttotal: 6.72s\tremaining: 19.3s\n",
      "258:\tlearn: 0.3433616\ttotal: 6.75s\tremaining: 19.3s\n",
      "259:\tlearn: 0.3432907\ttotal: 6.77s\tremaining: 19.3s\n",
      "260:\tlearn: 0.3432373\ttotal: 6.79s\tremaining: 19.2s\n",
      "261:\tlearn: 0.3431769\ttotal: 6.81s\tremaining: 19.2s\n",
      "262:\tlearn: 0.3431183\ttotal: 6.83s\tremaining: 19.2s\n",
      "263:\tlearn: 0.3430531\ttotal: 6.87s\tremaining: 19.1s\n",
      "264:\tlearn: 0.3429872\ttotal: 6.89s\tremaining: 19.1s\n",
      "265:\tlearn: 0.3429378\ttotal: 6.92s\tremaining: 19.1s\n",
      "266:\tlearn: 0.3428697\ttotal: 6.93s\tremaining: 19s\n",
      "267:\tlearn: 0.3428243\ttotal: 6.96s\tremaining: 19s\n",
      "268:\tlearn: 0.3427676\ttotal: 6.98s\tremaining: 19s\n",
      "269:\tlearn: 0.3427182\ttotal: 7s\tremaining: 18.9s\n",
      "270:\tlearn: 0.3426543\ttotal: 7.02s\tremaining: 18.9s\n",
      "271:\tlearn: 0.3425959\ttotal: 7.04s\tremaining: 18.9s\n",
      "272:\tlearn: 0.3425368\ttotal: 7.06s\tremaining: 18.8s\n",
      "273:\tlearn: 0.3424773\ttotal: 7.1s\tremaining: 18.8s\n",
      "274:\tlearn: 0.3424143\ttotal: 7.13s\tremaining: 18.8s\n",
      "275:\tlearn: 0.3423685\ttotal: 7.16s\tremaining: 18.8s\n",
      "276:\tlearn: 0.3423125\ttotal: 7.18s\tremaining: 18.8s\n",
      "277:\tlearn: 0.3422481\ttotal: 7.21s\tremaining: 18.7s\n",
      "278:\tlearn: 0.3422023\ttotal: 7.23s\tremaining: 18.7s\n",
      "279:\tlearn: 0.3421566\ttotal: 7.25s\tremaining: 18.7s\n",
      "280:\tlearn: 0.3420880\ttotal: 7.27s\tremaining: 18.6s\n",
      "281:\tlearn: 0.3420273\ttotal: 7.29s\tremaining: 18.6s\n",
      "282:\tlearn: 0.3419579\ttotal: 7.33s\tremaining: 18.6s\n",
      "283:\tlearn: 0.3419005\ttotal: 7.36s\tremaining: 18.6s\n",
      "284:\tlearn: 0.3418531\ttotal: 7.39s\tremaining: 18.5s\n",
      "285:\tlearn: 0.3417953\ttotal: 7.42s\tremaining: 18.5s\n",
      "286:\tlearn: 0.3417529\ttotal: 7.44s\tremaining: 18.5s\n",
      "287:\tlearn: 0.3416733\ttotal: 7.47s\tremaining: 18.5s\n",
      "288:\tlearn: 0.3416348\ttotal: 7.49s\tremaining: 18.4s\n",
      "289:\tlearn: 0.3415606\ttotal: 7.51s\tremaining: 18.4s\n",
      "290:\tlearn: 0.3415054\ttotal: 7.54s\tremaining: 18.4s\n",
      "291:\tlearn: 0.3414579\ttotal: 7.57s\tremaining: 18.4s\n",
      "292:\tlearn: 0.3413994\ttotal: 7.6s\tremaining: 18.3s\n",
      "293:\tlearn: 0.3413433\ttotal: 7.63s\tremaining: 18.3s\n",
      "294:\tlearn: 0.3412857\ttotal: 7.65s\tremaining: 18.3s\n",
      "295:\tlearn: 0.3412242\ttotal: 7.68s\tremaining: 18.3s\n",
      "296:\tlearn: 0.3411686\ttotal: 7.7s\tremaining: 18.2s\n",
      "297:\tlearn: 0.3411134\ttotal: 7.72s\tremaining: 18.2s\n",
      "298:\tlearn: 0.3410726\ttotal: 7.74s\tremaining: 18.1s\n",
      "299:\tlearn: 0.3410196\ttotal: 7.77s\tremaining: 18.1s\n",
      "300:\tlearn: 0.3409506\ttotal: 7.8s\tremaining: 18.1s\n",
      "301:\tlearn: 0.3409081\ttotal: 7.82s\tremaining: 18.1s\n",
      "302:\tlearn: 0.3408526\ttotal: 7.85s\tremaining: 18.1s\n",
      "303:\tlearn: 0.3408117\ttotal: 7.87s\tremaining: 18s\n",
      "304:\tlearn: 0.3407531\ttotal: 7.89s\tremaining: 18s\n",
      "305:\tlearn: 0.3407058\ttotal: 7.91s\tremaining: 17.9s\n",
      "306:\tlearn: 0.3406380\ttotal: 7.93s\tremaining: 17.9s\n",
      "307:\tlearn: 0.3405770\ttotal: 7.96s\tremaining: 17.9s\n",
      "308:\tlearn: 0.3405367\ttotal: 7.98s\tremaining: 17.9s\n",
      "309:\tlearn: 0.3404878\ttotal: 8.01s\tremaining: 17.8s\n",
      "310:\tlearn: 0.3404321\ttotal: 8.04s\tremaining: 17.8s\n",
      "311:\tlearn: 0.3403922\ttotal: 8.06s\tremaining: 17.8s\n",
      "312:\tlearn: 0.3403338\ttotal: 8.08s\tremaining: 17.7s\n",
      "313:\tlearn: 0.3402794\ttotal: 8.1s\tremaining: 17.7s\n",
      "314:\tlearn: 0.3402072\ttotal: 8.13s\tremaining: 17.7s\n",
      "315:\tlearn: 0.3401570\ttotal: 8.16s\tremaining: 17.7s\n",
      "316:\tlearn: 0.3401002\ttotal: 8.18s\tremaining: 17.6s\n",
      "317:\tlearn: 0.3400426\ttotal: 8.21s\tremaining: 17.6s\n",
      "318:\tlearn: 0.3400007\ttotal: 8.24s\tremaining: 17.6s\n",
      "319:\tlearn: 0.3399512\ttotal: 8.27s\tremaining: 17.6s\n",
      "320:\tlearn: 0.3399079\ttotal: 8.29s\tremaining: 17.5s\n",
      "321:\tlearn: 0.3398353\ttotal: 8.31s\tremaining: 17.5s\n",
      "322:\tlearn: 0.3397921\ttotal: 8.34s\tremaining: 17.5s\n",
      "323:\tlearn: 0.3397439\ttotal: 8.36s\tremaining: 17.4s\n",
      "324:\tlearn: 0.3396822\ttotal: 8.38s\tremaining: 17.4s\n",
      "325:\tlearn: 0.3396052\ttotal: 8.41s\tremaining: 17.4s\n",
      "326:\tlearn: 0.3395709\ttotal: 8.44s\tremaining: 17.4s\n",
      "327:\tlearn: 0.3395123\ttotal: 8.46s\tremaining: 17.3s\n",
      "328:\tlearn: 0.3394469\ttotal: 8.49s\tremaining: 17.3s\n",
      "329:\tlearn: 0.3394011\ttotal: 8.51s\tremaining: 17.3s\n",
      "330:\tlearn: 0.3393528\ttotal: 8.53s\tremaining: 17.2s\n",
      "331:\tlearn: 0.3392936\ttotal: 8.55s\tremaining: 17.2s\n",
      "332:\tlearn: 0.3392560\ttotal: 8.57s\tremaining: 17.2s\n",
      "333:\tlearn: 0.3392058\ttotal: 8.6s\tremaining: 17.1s\n"
     ]
    },
    {
     "name": "stdout",
     "output_type": "stream",
     "text": [
      "334:\tlearn: 0.3391734\ttotal: 8.62s\tremaining: 17.1s\n",
      "335:\tlearn: 0.3391224\ttotal: 8.65s\tremaining: 17.1s\n",
      "336:\tlearn: 0.3390639\ttotal: 8.68s\tremaining: 17.1s\n",
      "337:\tlearn: 0.3390087\ttotal: 8.71s\tremaining: 17.1s\n",
      "338:\tlearn: 0.3389821\ttotal: 8.73s\tremaining: 17s\n",
      "339:\tlearn: 0.3389309\ttotal: 8.75s\tremaining: 17s\n",
      "340:\tlearn: 0.3388798\ttotal: 8.77s\tremaining: 17s\n",
      "341:\tlearn: 0.3388299\ttotal: 8.79s\tremaining: 16.9s\n",
      "342:\tlearn: 0.3387843\ttotal: 8.82s\tremaining: 16.9s\n",
      "343:\tlearn: 0.3387346\ttotal: 8.85s\tremaining: 16.9s\n",
      "344:\tlearn: 0.3386738\ttotal: 8.87s\tremaining: 16.8s\n",
      "345:\tlearn: 0.3386278\ttotal: 8.89s\tremaining: 16.8s\n",
      "346:\tlearn: 0.3385746\ttotal: 8.92s\tremaining: 16.8s\n",
      "347:\tlearn: 0.3385064\ttotal: 8.94s\tremaining: 16.7s\n",
      "348:\tlearn: 0.3384498\ttotal: 8.96s\tremaining: 16.7s\n",
      "349:\tlearn: 0.3384093\ttotal: 8.99s\tremaining: 16.7s\n",
      "350:\tlearn: 0.3383630\ttotal: 9.01s\tremaining: 16.7s\n",
      "351:\tlearn: 0.3383022\ttotal: 9.04s\tremaining: 16.6s\n",
      "352:\tlearn: 0.3382177\ttotal: 9.07s\tremaining: 16.6s\n",
      "353:\tlearn: 0.3381675\ttotal: 9.09s\tremaining: 16.6s\n",
      "354:\tlearn: 0.3381143\ttotal: 9.11s\tremaining: 16.6s\n",
      "355:\tlearn: 0.3380554\ttotal: 9.14s\tremaining: 16.5s\n",
      "356:\tlearn: 0.3379978\ttotal: 9.16s\tremaining: 16.5s\n",
      "357:\tlearn: 0.3379566\ttotal: 9.18s\tremaining: 16.5s\n",
      "358:\tlearn: 0.3379153\ttotal: 9.21s\tremaining: 16.4s\n",
      "359:\tlearn: 0.3378770\ttotal: 9.24s\tremaining: 16.4s\n",
      "360:\tlearn: 0.3378216\ttotal: 9.28s\tremaining: 16.4s\n",
      "361:\tlearn: 0.3377670\ttotal: 9.3s\tremaining: 16.4s\n",
      "362:\tlearn: 0.3377182\ttotal: 9.33s\tremaining: 16.4s\n",
      "363:\tlearn: 0.3376589\ttotal: 9.36s\tremaining: 16.4s\n",
      "364:\tlearn: 0.3376065\ttotal: 9.38s\tremaining: 16.3s\n",
      "365:\tlearn: 0.3375441\ttotal: 9.41s\tremaining: 16.3s\n",
      "366:\tlearn: 0.3375004\ttotal: 9.43s\tremaining: 16.3s\n",
      "367:\tlearn: 0.3374589\ttotal: 9.46s\tremaining: 16.2s\n",
      "368:\tlearn: 0.3373995\ttotal: 9.48s\tremaining: 16.2s\n",
      "369:\tlearn: 0.3373374\ttotal: 9.51s\tremaining: 16.2s\n",
      "370:\tlearn: 0.3372941\ttotal: 9.54s\tremaining: 16.2s\n",
      "371:\tlearn: 0.3372482\ttotal: 9.56s\tremaining: 16.1s\n",
      "372:\tlearn: 0.3372053\ttotal: 9.59s\tremaining: 16.1s\n",
      "373:\tlearn: 0.3371528\ttotal: 9.62s\tremaining: 16.1s\n",
      "374:\tlearn: 0.3371149\ttotal: 9.64s\tremaining: 16.1s\n",
      "375:\tlearn: 0.3370813\ttotal: 9.66s\tremaining: 16s\n",
      "376:\tlearn: 0.3370197\ttotal: 9.69s\tremaining: 16s\n",
      "377:\tlearn: 0.3369720\ttotal: 9.71s\tremaining: 16s\n",
      "378:\tlearn: 0.3369326\ttotal: 9.75s\tremaining: 16s\n",
      "379:\tlearn: 0.3368788\ttotal: 9.78s\tremaining: 16s\n",
      "380:\tlearn: 0.3368289\ttotal: 9.8s\tremaining: 15.9s\n",
      "381:\tlearn: 0.3367871\ttotal: 9.83s\tremaining: 15.9s\n",
      "382:\tlearn: 0.3367266\ttotal: 9.85s\tremaining: 15.9s\n",
      "383:\tlearn: 0.3366846\ttotal: 9.87s\tremaining: 15.8s\n",
      "384:\tlearn: 0.3366297\ttotal: 9.9s\tremaining: 15.8s\n",
      "385:\tlearn: 0.3365943\ttotal: 9.92s\tremaining: 15.8s\n",
      "386:\tlearn: 0.3365387\ttotal: 9.95s\tremaining: 15.8s\n",
      "387:\tlearn: 0.3364955\ttotal: 9.97s\tremaining: 15.7s\n",
      "388:\tlearn: 0.3364604\ttotal: 9.99s\tremaining: 15.7s\n",
      "389:\tlearn: 0.3364243\ttotal: 10s\tremaining: 15.7s\n",
      "390:\tlearn: 0.3363835\ttotal: 10s\tremaining: 15.6s\n",
      "391:\tlearn: 0.3363347\ttotal: 10.1s\tremaining: 15.6s\n",
      "392:\tlearn: 0.3362908\ttotal: 10.1s\tremaining: 15.6s\n",
      "393:\tlearn: 0.3362328\ttotal: 10.1s\tremaining: 15.5s\n",
      "394:\tlearn: 0.3361969\ttotal: 10.1s\tremaining: 15.5s\n",
      "395:\tlearn: 0.3361352\ttotal: 10.2s\tremaining: 15.5s\n",
      "396:\tlearn: 0.3361014\ttotal: 10.2s\tremaining: 15.5s\n",
      "397:\tlearn: 0.3360730\ttotal: 10.2s\tremaining: 15.4s\n",
      "398:\tlearn: 0.3360293\ttotal: 10.2s\tremaining: 15.4s\n",
      "399:\tlearn: 0.3359831\ttotal: 10.3s\tremaining: 15.4s\n",
      "400:\tlearn: 0.3359300\ttotal: 10.3s\tremaining: 15.4s\n",
      "401:\tlearn: 0.3358682\ttotal: 10.3s\tremaining: 15.3s\n",
      "402:\tlearn: 0.3358116\ttotal: 10.3s\tremaining: 15.3s\n",
      "403:\tlearn: 0.3357495\ttotal: 10.4s\tremaining: 15.3s\n",
      "404:\tlearn: 0.3356934\ttotal: 10.4s\tremaining: 15.3s\n",
      "405:\tlearn: 0.3356493\ttotal: 10.4s\tremaining: 15.2s\n",
      "406:\tlearn: 0.3355980\ttotal: 10.4s\tremaining: 15.2s\n",
      "407:\tlearn: 0.3355434\ttotal: 10.5s\tremaining: 15.2s\n",
      "408:\tlearn: 0.3354976\ttotal: 10.5s\tremaining: 15.1s\n",
      "409:\tlearn: 0.3354581\ttotal: 10.5s\tremaining: 15.1s\n",
      "410:\tlearn: 0.3354022\ttotal: 10.5s\tremaining: 15.1s\n",
      "411:\tlearn: 0.3353408\ttotal: 10.6s\tremaining: 15.1s\n",
      "412:\tlearn: 0.3352838\ttotal: 10.6s\tremaining: 15s\n",
      "413:\tlearn: 0.3352474\ttotal: 10.6s\tremaining: 15s\n",
      "414:\tlearn: 0.3352008\ttotal: 10.6s\tremaining: 15s\n",
      "415:\tlearn: 0.3351650\ttotal: 10.6s\tremaining: 14.9s\n",
      "416:\tlearn: 0.3351203\ttotal: 10.7s\tremaining: 14.9s\n",
      "417:\tlearn: 0.3350831\ttotal: 10.7s\tremaining: 14.9s\n",
      "418:\tlearn: 0.3350286\ttotal: 10.7s\tremaining: 14.8s\n",
      "419:\tlearn: 0.3349729\ttotal: 10.7s\tremaining: 14.8s\n",
      "420:\tlearn: 0.3349290\ttotal: 10.8s\tremaining: 14.8s\n",
      "421:\tlearn: 0.3348875\ttotal: 10.8s\tremaining: 14.8s\n",
      "422:\tlearn: 0.3348433\ttotal: 10.8s\tremaining: 14.7s\n",
      "423:\tlearn: 0.3347820\ttotal: 10.8s\tremaining: 14.7s\n",
      "424:\tlearn: 0.3347382\ttotal: 10.9s\tremaining: 14.7s\n",
      "425:\tlearn: 0.3346971\ttotal: 10.9s\tremaining: 14.7s\n",
      "426:\tlearn: 0.3346554\ttotal: 10.9s\tremaining: 14.6s\n",
      "427:\tlearn: 0.3346069\ttotal: 10.9s\tremaining: 14.6s\n",
      "428:\tlearn: 0.3345638\ttotal: 10.9s\tremaining: 14.6s\n",
      "429:\tlearn: 0.3345080\ttotal: 11s\tremaining: 14.6s\n",
      "430:\tlearn: 0.3344539\ttotal: 11s\tremaining: 14.5s\n",
      "431:\tlearn: 0.3344251\ttotal: 11s\tremaining: 14.5s\n",
      "432:\tlearn: 0.3343807\ttotal: 11s\tremaining: 14.5s\n",
      "433:\tlearn: 0.3343388\ttotal: 11.1s\tremaining: 14.4s\n",
      "434:\tlearn: 0.3342957\ttotal: 11.1s\tremaining: 14.4s\n",
      "435:\tlearn: 0.3342548\ttotal: 11.1s\tremaining: 14.4s\n",
      "436:\tlearn: 0.3342051\ttotal: 11.1s\tremaining: 14.3s\n",
      "437:\tlearn: 0.3341679\ttotal: 11.2s\tremaining: 14.3s\n",
      "438:\tlearn: 0.3341219\ttotal: 11.2s\tremaining: 14.3s\n",
      "439:\tlearn: 0.3340853\ttotal: 11.2s\tremaining: 14.3s\n",
      "440:\tlearn: 0.3340444\ttotal: 11.2s\tremaining: 14.2s\n",
      "441:\tlearn: 0.3339967\ttotal: 11.3s\tremaining: 14.2s\n",
      "442:\tlearn: 0.3339622\ttotal: 11.3s\tremaining: 14.2s\n",
      "443:\tlearn: 0.3339135\ttotal: 11.3s\tremaining: 14.2s\n",
      "444:\tlearn: 0.3338633\ttotal: 11.3s\tremaining: 14.1s\n",
      "445:\tlearn: 0.3338078\ttotal: 11.4s\tremaining: 14.1s\n",
      "446:\tlearn: 0.3337569\ttotal: 11.4s\tremaining: 14.1s\n",
      "447:\tlearn: 0.3337207\ttotal: 11.4s\tremaining: 14.1s\n",
      "448:\tlearn: 0.3336795\ttotal: 11.4s\tremaining: 14s\n",
      "449:\tlearn: 0.3336484\ttotal: 11.5s\tremaining: 14s\n",
      "450:\tlearn: 0.3336080\ttotal: 11.5s\tremaining: 14s\n",
      "451:\tlearn: 0.3335664\ttotal: 11.5s\tremaining: 13.9s\n",
      "452:\tlearn: 0.3335180\ttotal: 11.5s\tremaining: 13.9s\n",
      "453:\tlearn: 0.3334569\ttotal: 11.6s\tremaining: 13.9s\n",
      "454:\tlearn: 0.3334189\ttotal: 11.6s\tremaining: 13.9s\n",
      "455:\tlearn: 0.3333793\ttotal: 11.6s\tremaining: 13.8s\n",
      "456:\tlearn: 0.3333470\ttotal: 11.6s\tremaining: 13.8s\n",
      "457:\tlearn: 0.3332990\ttotal: 11.7s\tremaining: 13.8s\n",
      "458:\tlearn: 0.3332682\ttotal: 11.7s\tremaining: 13.8s\n",
      "459:\tlearn: 0.3332263\ttotal: 11.7s\tremaining: 13.7s\n",
      "460:\tlearn: 0.3331608\ttotal: 11.7s\tremaining: 13.7s\n",
      "461:\tlearn: 0.3331268\ttotal: 11.7s\tremaining: 13.7s\n",
      "462:\tlearn: 0.3331034\ttotal: 11.8s\tremaining: 13.6s\n",
      "463:\tlearn: 0.3330642\ttotal: 11.8s\tremaining: 13.6s\n",
      "464:\tlearn: 0.3330064\ttotal: 11.8s\tremaining: 13.6s\n",
      "465:\tlearn: 0.3329670\ttotal: 11.8s\tremaining: 13.6s\n",
      "466:\tlearn: 0.3329209\ttotal: 11.9s\tremaining: 13.5s\n",
      "467:\tlearn: 0.3328845\ttotal: 11.9s\tremaining: 13.5s\n",
      "468:\tlearn: 0.3328463\ttotal: 11.9s\tremaining: 13.5s\n",
      "469:\tlearn: 0.3328129\ttotal: 11.9s\tremaining: 13.5s\n",
      "470:\tlearn: 0.3327645\ttotal: 12s\tremaining: 13.4s\n",
      "471:\tlearn: 0.3327298\ttotal: 12s\tremaining: 13.4s\n",
      "472:\tlearn: 0.3326821\ttotal: 12s\tremaining: 13.4s\n",
      "473:\tlearn: 0.3326289\ttotal: 12s\tremaining: 13.4s\n",
      "474:\tlearn: 0.3325858\ttotal: 12.1s\tremaining: 13.3s\n",
      "475:\tlearn: 0.3325423\ttotal: 12.1s\tremaining: 13.3s\n",
      "476:\tlearn: 0.3325069\ttotal: 12.1s\tremaining: 13.3s\n",
      "477:\tlearn: 0.3324721\ttotal: 12.1s\tremaining: 13.3s\n",
      "478:\tlearn: 0.3324212\ttotal: 12.2s\tremaining: 13.2s\n",
      "479:\tlearn: 0.3323737\ttotal: 12.2s\tremaining: 13.2s\n",
      "480:\tlearn: 0.3323179\ttotal: 12.2s\tremaining: 13.2s\n",
      "481:\tlearn: 0.3322670\ttotal: 12.2s\tremaining: 13.1s\n",
      "482:\tlearn: 0.3322256\ttotal: 12.3s\tremaining: 13.1s\n",
      "483:\tlearn: 0.3321981\ttotal: 12.3s\tremaining: 13.1s\n",
      "484:\tlearn: 0.3321435\ttotal: 12.3s\tremaining: 13.1s\n",
      "485:\tlearn: 0.3320932\ttotal: 12.4s\tremaining: 13.1s\n",
      "486:\tlearn: 0.3320400\ttotal: 12.4s\tremaining: 13s\n",
      "487:\tlearn: 0.3320050\ttotal: 12.4s\tremaining: 13s\n",
      "488:\tlearn: 0.3319571\ttotal: 12.5s\tremaining: 13s\n",
      "489:\tlearn: 0.3319144\ttotal: 12.5s\tremaining: 13s\n",
      "490:\tlearn: 0.3318745\ttotal: 12.5s\tremaining: 13s\n",
      "491:\tlearn: 0.3318362\ttotal: 12.6s\tremaining: 13s\n",
      "492:\tlearn: 0.3317934\ttotal: 12.6s\tremaining: 12.9s\n",
      "493:\tlearn: 0.3317382\ttotal: 12.6s\tremaining: 12.9s\n"
     ]
    },
    {
     "name": "stdout",
     "output_type": "stream",
     "text": [
      "494:\tlearn: 0.3317049\ttotal: 12.6s\tremaining: 12.9s\n",
      "495:\tlearn: 0.3316515\ttotal: 12.7s\tremaining: 12.9s\n",
      "496:\tlearn: 0.3316042\ttotal: 12.7s\tremaining: 12.8s\n",
      "497:\tlearn: 0.3315734\ttotal: 12.7s\tremaining: 12.8s\n",
      "498:\tlearn: 0.3315325\ttotal: 12.7s\tremaining: 12.8s\n",
      "499:\tlearn: 0.3315078\ttotal: 12.8s\tremaining: 12.8s\n",
      "500:\tlearn: 0.3314684\ttotal: 12.8s\tremaining: 12.7s\n",
      "501:\tlearn: 0.3314324\ttotal: 12.8s\tremaining: 12.7s\n",
      "502:\tlearn: 0.3314002\ttotal: 12.8s\tremaining: 12.7s\n",
      "503:\tlearn: 0.3313614\ttotal: 12.8s\tremaining: 12.6s\n",
      "504:\tlearn: 0.3313116\ttotal: 12.9s\tremaining: 12.6s\n",
      "505:\tlearn: 0.3312599\ttotal: 12.9s\tremaining: 12.6s\n",
      "506:\tlearn: 0.3312087\ttotal: 12.9s\tremaining: 12.6s\n",
      "507:\tlearn: 0.3311673\ttotal: 13s\tremaining: 12.5s\n",
      "508:\tlearn: 0.3311310\ttotal: 13s\tremaining: 12.5s\n",
      "509:\tlearn: 0.3310930\ttotal: 13s\tremaining: 12.5s\n",
      "510:\tlearn: 0.3310536\ttotal: 13s\tremaining: 12.5s\n",
      "511:\tlearn: 0.3310091\ttotal: 13s\tremaining: 12.4s\n",
      "512:\tlearn: 0.3309802\ttotal: 13.1s\tremaining: 12.4s\n",
      "513:\tlearn: 0.3309457\ttotal: 13.1s\tremaining: 12.4s\n",
      "514:\tlearn: 0.3309205\ttotal: 13.1s\tremaining: 12.4s\n",
      "515:\tlearn: 0.3308849\ttotal: 13.1s\tremaining: 12.3s\n",
      "516:\tlearn: 0.3308458\ttotal: 13.2s\tremaining: 12.3s\n",
      "517:\tlearn: 0.3307992\ttotal: 13.2s\tremaining: 12.3s\n",
      "518:\tlearn: 0.3307526\ttotal: 13.2s\tremaining: 12.2s\n",
      "519:\tlearn: 0.3307069\ttotal: 13.2s\tremaining: 12.2s\n",
      "520:\tlearn: 0.3306833\ttotal: 13.3s\tremaining: 12.2s\n",
      "521:\tlearn: 0.3306631\ttotal: 13.3s\tremaining: 12.2s\n",
      "522:\tlearn: 0.3306262\ttotal: 13.3s\tremaining: 12.1s\n",
      "523:\tlearn: 0.3305959\ttotal: 13.3s\tremaining: 12.1s\n",
      "524:\tlearn: 0.3305486\ttotal: 13.4s\tremaining: 12.1s\n",
      "525:\tlearn: 0.3305062\ttotal: 13.4s\tremaining: 12.1s\n",
      "526:\tlearn: 0.3304588\ttotal: 13.4s\tremaining: 12s\n",
      "527:\tlearn: 0.3304159\ttotal: 13.4s\tremaining: 12s\n",
      "528:\tlearn: 0.3303604\ttotal: 13.5s\tremaining: 12s\n",
      "529:\tlearn: 0.3303156\ttotal: 13.5s\tremaining: 12s\n",
      "530:\tlearn: 0.3302755\ttotal: 13.5s\tremaining: 11.9s\n",
      "531:\tlearn: 0.3302276\ttotal: 13.5s\tremaining: 11.9s\n",
      "532:\tlearn: 0.3301870\ttotal: 13.6s\tremaining: 11.9s\n",
      "533:\tlearn: 0.3301479\ttotal: 13.6s\tremaining: 11.9s\n",
      "534:\tlearn: 0.3301103\ttotal: 13.6s\tremaining: 11.8s\n",
      "535:\tlearn: 0.3300788\ttotal: 13.6s\tremaining: 11.8s\n",
      "536:\tlearn: 0.3300352\ttotal: 13.7s\tremaining: 11.8s\n",
      "537:\tlearn: 0.3299967\ttotal: 13.7s\tremaining: 11.7s\n",
      "538:\tlearn: 0.3299491\ttotal: 13.7s\tremaining: 11.7s\n",
      "539:\tlearn: 0.3299219\ttotal: 13.7s\tremaining: 11.7s\n",
      "540:\tlearn: 0.3298775\ttotal: 13.8s\tremaining: 11.7s\n",
      "541:\tlearn: 0.3298419\ttotal: 13.8s\tremaining: 11.6s\n",
      "542:\tlearn: 0.3298031\ttotal: 13.8s\tremaining: 11.6s\n",
      "543:\tlearn: 0.3297671\ttotal: 13.8s\tremaining: 11.6s\n",
      "544:\tlearn: 0.3297159\ttotal: 13.8s\tremaining: 11.6s\n",
      "545:\tlearn: 0.3296860\ttotal: 13.9s\tremaining: 11.5s\n",
      "546:\tlearn: 0.3296370\ttotal: 13.9s\tremaining: 11.5s\n",
      "547:\tlearn: 0.3295953\ttotal: 13.9s\tremaining: 11.5s\n",
      "548:\tlearn: 0.3295545\ttotal: 13.9s\tremaining: 11.4s\n",
      "549:\tlearn: 0.3295093\ttotal: 14s\tremaining: 11.4s\n",
      "550:\tlearn: 0.3294698\ttotal: 14s\tremaining: 11.4s\n",
      "551:\tlearn: 0.3294179\ttotal: 14s\tremaining: 11.4s\n",
      "552:\tlearn: 0.3293744\ttotal: 14s\tremaining: 11.3s\n",
      "553:\tlearn: 0.3293266\ttotal: 14.1s\tremaining: 11.3s\n",
      "554:\tlearn: 0.3292822\ttotal: 14.1s\tremaining: 11.3s\n",
      "555:\tlearn: 0.3292388\ttotal: 14.1s\tremaining: 11.3s\n",
      "556:\tlearn: 0.3292045\ttotal: 14.1s\tremaining: 11.2s\n",
      "557:\tlearn: 0.3291620\ttotal: 14.2s\tremaining: 11.2s\n",
      "558:\tlearn: 0.3291186\ttotal: 14.2s\tremaining: 11.2s\n",
      "559:\tlearn: 0.3290691\ttotal: 14.2s\tremaining: 11.2s\n",
      "560:\tlearn: 0.3290196\ttotal: 14.2s\tremaining: 11.1s\n",
      "561:\tlearn: 0.3289840\ttotal: 14.2s\tremaining: 11.1s\n",
      "562:\tlearn: 0.3289494\ttotal: 14.3s\tremaining: 11.1s\n",
      "563:\tlearn: 0.3289104\ttotal: 14.3s\tremaining: 11s\n",
      "564:\tlearn: 0.3288736\ttotal: 14.3s\tremaining: 11s\n",
      "565:\tlearn: 0.3288275\ttotal: 14.3s\tremaining: 11s\n",
      "566:\tlearn: 0.3287831\ttotal: 14.4s\tremaining: 11s\n",
      "567:\tlearn: 0.3287507\ttotal: 14.4s\tremaining: 11s\n",
      "568:\tlearn: 0.3287041\ttotal: 14.4s\tremaining: 10.9s\n",
      "569:\tlearn: 0.3286626\ttotal: 14.5s\tremaining: 10.9s\n",
      "570:\tlearn: 0.3286275\ttotal: 14.5s\tremaining: 10.9s\n",
      "571:\tlearn: 0.3285898\ttotal: 14.5s\tremaining: 10.9s\n",
      "572:\tlearn: 0.3285427\ttotal: 14.6s\tremaining: 10.8s\n",
      "573:\tlearn: 0.3285174\ttotal: 14.6s\tremaining: 10.8s\n",
      "574:\tlearn: 0.3284788\ttotal: 14.6s\tremaining: 10.8s\n",
      "575:\tlearn: 0.3284407\ttotal: 14.6s\tremaining: 10.8s\n",
      "576:\tlearn: 0.3284095\ttotal: 14.6s\tremaining: 10.7s\n",
      "577:\tlearn: 0.3283726\ttotal: 14.7s\tremaining: 10.7s\n",
      "578:\tlearn: 0.3283481\ttotal: 14.7s\tremaining: 10.7s\n",
      "579:\tlearn: 0.3283124\ttotal: 14.7s\tremaining: 10.6s\n",
      "580:\tlearn: 0.3282686\ttotal: 14.7s\tremaining: 10.6s\n",
      "581:\tlearn: 0.3282270\ttotal: 14.8s\tremaining: 10.6s\n",
      "582:\tlearn: 0.3281903\ttotal: 14.8s\tremaining: 10.6s\n",
      "583:\tlearn: 0.3281343\ttotal: 14.8s\tremaining: 10.6s\n",
      "584:\tlearn: 0.3280993\ttotal: 14.8s\tremaining: 10.5s\n",
      "585:\tlearn: 0.3280648\ttotal: 14.9s\tremaining: 10.5s\n",
      "586:\tlearn: 0.3280174\ttotal: 14.9s\tremaining: 10.5s\n",
      "587:\tlearn: 0.3279727\ttotal: 14.9s\tremaining: 10.5s\n",
      "588:\tlearn: 0.3279374\ttotal: 15s\tremaining: 10.4s\n",
      "589:\tlearn: 0.3279022\ttotal: 15s\tremaining: 10.4s\n",
      "590:\tlearn: 0.3278560\ttotal: 15s\tremaining: 10.4s\n",
      "591:\tlearn: 0.3278209\ttotal: 15s\tremaining: 10.4s\n",
      "592:\tlearn: 0.3277822\ttotal: 15.1s\tremaining: 10.3s\n",
      "593:\tlearn: 0.3277341\ttotal: 15.1s\tremaining: 10.3s\n",
      "594:\tlearn: 0.3276999\ttotal: 15.1s\tremaining: 10.3s\n",
      "595:\tlearn: 0.3276422\ttotal: 15.1s\tremaining: 10.3s\n",
      "596:\tlearn: 0.3276031\ttotal: 15.2s\tremaining: 10.2s\n",
      "597:\tlearn: 0.3275732\ttotal: 15.2s\tremaining: 10.2s\n",
      "598:\tlearn: 0.3275249\ttotal: 15.2s\tremaining: 10.2s\n",
      "599:\tlearn: 0.3274814\ttotal: 15.2s\tremaining: 10.2s\n",
      "600:\tlearn: 0.3274381\ttotal: 15.3s\tremaining: 10.1s\n",
      "601:\tlearn: 0.3274129\ttotal: 15.3s\tremaining: 10.1s\n",
      "602:\tlearn: 0.3273629\ttotal: 15.3s\tremaining: 10.1s\n",
      "603:\tlearn: 0.3273307\ttotal: 15.3s\tremaining: 10.1s\n",
      "604:\tlearn: 0.3272989\ttotal: 15.4s\tremaining: 10s\n",
      "605:\tlearn: 0.3272673\ttotal: 15.4s\tremaining: 10s\n",
      "606:\tlearn: 0.3272307\ttotal: 15.4s\tremaining: 9.98s\n",
      "607:\tlearn: 0.3271938\ttotal: 15.4s\tremaining: 9.95s\n",
      "608:\tlearn: 0.3271564\ttotal: 15.5s\tremaining: 9.92s\n",
      "609:\tlearn: 0.3271235\ttotal: 15.5s\tremaining: 9.9s\n",
      "610:\tlearn: 0.3270841\ttotal: 15.5s\tremaining: 9.87s\n",
      "611:\tlearn: 0.3270435\ttotal: 15.5s\tremaining: 9.85s\n",
      "612:\tlearn: 0.3269949\ttotal: 15.6s\tremaining: 9.82s\n",
      "613:\tlearn: 0.3269806\ttotal: 15.6s\tremaining: 9.8s\n",
      "614:\tlearn: 0.3269382\ttotal: 15.6s\tremaining: 9.77s\n",
      "615:\tlearn: 0.3268957\ttotal: 15.6s\tremaining: 9.75s\n",
      "616:\tlearn: 0.3268650\ttotal: 15.7s\tremaining: 9.72s\n",
      "617:\tlearn: 0.3268217\ttotal: 15.7s\tremaining: 9.69s\n",
      "618:\tlearn: 0.3267808\ttotal: 15.7s\tremaining: 9.67s\n",
      "619:\tlearn: 0.3267471\ttotal: 15.7s\tremaining: 9.64s\n",
      "620:\tlearn: 0.3266943\ttotal: 15.7s\tremaining: 9.61s\n",
      "621:\tlearn: 0.3266546\ttotal: 15.8s\tremaining: 9.58s\n",
      "622:\tlearn: 0.3266184\ttotal: 15.8s\tremaining: 9.55s\n",
      "623:\tlearn: 0.3265799\ttotal: 15.8s\tremaining: 9.53s\n",
      "624:\tlearn: 0.3265338\ttotal: 15.8s\tremaining: 9.51s\n",
      "625:\tlearn: 0.3264858\ttotal: 15.9s\tremaining: 9.48s\n",
      "626:\tlearn: 0.3264517\ttotal: 15.9s\tremaining: 9.45s\n",
      "627:\tlearn: 0.3264141\ttotal: 15.9s\tremaining: 9.42s\n",
      "628:\tlearn: 0.3263776\ttotal: 15.9s\tremaining: 9.4s\n",
      "629:\tlearn: 0.3263463\ttotal: 16s\tremaining: 9.37s\n",
      "630:\tlearn: 0.3263022\ttotal: 16s\tremaining: 9.35s\n",
      "631:\tlearn: 0.3262533\ttotal: 16s\tremaining: 9.32s\n",
      "632:\tlearn: 0.3262204\ttotal: 16s\tremaining: 9.3s\n",
      "633:\tlearn: 0.3261659\ttotal: 16.1s\tremaining: 9.27s\n",
      "634:\tlearn: 0.3261161\ttotal: 16.1s\tremaining: 9.25s\n",
      "635:\tlearn: 0.3260808\ttotal: 16.1s\tremaining: 9.22s\n",
      "636:\tlearn: 0.3260328\ttotal: 16.1s\tremaining: 9.2s\n",
      "637:\tlearn: 0.3259963\ttotal: 16.2s\tremaining: 9.18s\n",
      "638:\tlearn: 0.3259589\ttotal: 16.2s\tremaining: 9.15s\n",
      "639:\tlearn: 0.3259290\ttotal: 16.2s\tremaining: 9.12s\n",
      "640:\tlearn: 0.3258807\ttotal: 16.2s\tremaining: 9.1s\n",
      "641:\tlearn: 0.3258390\ttotal: 16.3s\tremaining: 9.07s\n",
      "642:\tlearn: 0.3258053\ttotal: 16.3s\tremaining: 9.05s\n",
      "643:\tlearn: 0.3257743\ttotal: 16.3s\tremaining: 9.02s\n",
      "644:\tlearn: 0.3257408\ttotal: 16.3s\tremaining: 8.99s\n",
      "645:\tlearn: 0.3256998\ttotal: 16.4s\tremaining: 8.96s\n",
      "646:\tlearn: 0.3256749\ttotal: 16.4s\tremaining: 8.94s\n",
      "647:\tlearn: 0.3256318\ttotal: 16.4s\tremaining: 8.91s\n",
      "648:\tlearn: 0.3255841\ttotal: 16.4s\tremaining: 8.88s\n",
      "649:\tlearn: 0.3255476\ttotal: 16.5s\tremaining: 8.86s\n",
      "650:\tlearn: 0.3255062\ttotal: 16.5s\tremaining: 8.84s\n",
      "651:\tlearn: 0.3254626\ttotal: 16.5s\tremaining: 8.81s\n",
      "652:\tlearn: 0.3254277\ttotal: 16.5s\tremaining: 8.79s\n",
      "653:\tlearn: 0.3253885\ttotal: 16.6s\tremaining: 8.76s\n",
      "654:\tlearn: 0.3253609\ttotal: 16.6s\tremaining: 8.73s\n",
      "655:\tlearn: 0.3253251\ttotal: 16.6s\tremaining: 8.71s\n",
      "656:\tlearn: 0.3252993\ttotal: 16.6s\tremaining: 8.68s\n",
      "657:\tlearn: 0.3252666\ttotal: 16.7s\tremaining: 8.65s\n"
     ]
    },
    {
     "name": "stdout",
     "output_type": "stream",
     "text": [
      "658:\tlearn: 0.3252290\ttotal: 16.7s\tremaining: 8.63s\n",
      "659:\tlearn: 0.3252046\ttotal: 16.7s\tremaining: 8.6s\n",
      "660:\tlearn: 0.3251739\ttotal: 16.7s\tremaining: 8.58s\n",
      "661:\tlearn: 0.3251333\ttotal: 16.8s\tremaining: 8.55s\n",
      "662:\tlearn: 0.3250913\ttotal: 16.8s\tremaining: 8.53s\n",
      "663:\tlearn: 0.3250638\ttotal: 16.8s\tremaining: 8.5s\n",
      "664:\tlearn: 0.3250273\ttotal: 16.8s\tremaining: 8.47s\n",
      "665:\tlearn: 0.3249985\ttotal: 16.8s\tremaining: 8.44s\n",
      "666:\tlearn: 0.3249730\ttotal: 16.9s\tremaining: 8.41s\n",
      "667:\tlearn: 0.3249324\ttotal: 16.9s\tremaining: 8.39s\n",
      "668:\tlearn: 0.3248861\ttotal: 16.9s\tremaining: 8.36s\n",
      "669:\tlearn: 0.3248468\ttotal: 16.9s\tremaining: 8.34s\n",
      "670:\tlearn: 0.3248050\ttotal: 17s\tremaining: 8.31s\n",
      "671:\tlearn: 0.3247807\ttotal: 17s\tremaining: 8.28s\n",
      "672:\tlearn: 0.3247370\ttotal: 17s\tremaining: 8.26s\n",
      "673:\tlearn: 0.3246865\ttotal: 17s\tremaining: 8.23s\n",
      "674:\tlearn: 0.3246368\ttotal: 17s\tremaining: 8.2s\n",
      "675:\tlearn: 0.3245975\ttotal: 17.1s\tremaining: 8.18s\n",
      "676:\tlearn: 0.3245597\ttotal: 17.1s\tremaining: 8.15s\n",
      "677:\tlearn: 0.3245119\ttotal: 17.1s\tremaining: 8.13s\n",
      "678:\tlearn: 0.3244704\ttotal: 17.1s\tremaining: 8.1s\n",
      "679:\tlearn: 0.3244317\ttotal: 17.2s\tremaining: 8.08s\n",
      "680:\tlearn: 0.3243915\ttotal: 17.2s\tremaining: 8.05s\n",
      "681:\tlearn: 0.3243674\ttotal: 17.2s\tremaining: 8.02s\n",
      "682:\tlearn: 0.3243288\ttotal: 17.2s\tremaining: 8s\n",
      "683:\tlearn: 0.3242876\ttotal: 17.3s\tremaining: 7.97s\n",
      "684:\tlearn: 0.3242661\ttotal: 17.3s\tremaining: 7.94s\n",
      "685:\tlearn: 0.3242223\ttotal: 17.3s\tremaining: 7.92s\n",
      "686:\tlearn: 0.3241818\ttotal: 17.3s\tremaining: 7.89s\n",
      "687:\tlearn: 0.3241351\ttotal: 17.4s\tremaining: 7.87s\n",
      "688:\tlearn: 0.3241003\ttotal: 17.4s\tremaining: 7.85s\n",
      "689:\tlearn: 0.3240574\ttotal: 17.4s\tremaining: 7.82s\n",
      "690:\tlearn: 0.3240165\ttotal: 17.4s\tremaining: 7.8s\n",
      "691:\tlearn: 0.3239864\ttotal: 17.5s\tremaining: 7.77s\n",
      "692:\tlearn: 0.3239326\ttotal: 17.5s\tremaining: 7.74s\n",
      "693:\tlearn: 0.3238972\ttotal: 17.5s\tremaining: 7.71s\n",
      "694:\tlearn: 0.3238698\ttotal: 17.5s\tremaining: 7.69s\n",
      "695:\tlearn: 0.3238253\ttotal: 17.5s\tremaining: 7.66s\n",
      "696:\tlearn: 0.3237775\ttotal: 17.6s\tremaining: 7.64s\n",
      "697:\tlearn: 0.3237417\ttotal: 17.6s\tremaining: 7.61s\n",
      "698:\tlearn: 0.3237045\ttotal: 17.6s\tremaining: 7.59s\n",
      "699:\tlearn: 0.3236605\ttotal: 17.6s\tremaining: 7.56s\n",
      "700:\tlearn: 0.3236166\ttotal: 17.7s\tremaining: 7.54s\n",
      "701:\tlearn: 0.3235744\ttotal: 17.7s\tremaining: 7.51s\n",
      "702:\tlearn: 0.3235358\ttotal: 17.7s\tremaining: 7.48s\n",
      "703:\tlearn: 0.3235075\ttotal: 17.7s\tremaining: 7.46s\n",
      "704:\tlearn: 0.3234722\ttotal: 17.8s\tremaining: 7.43s\n",
      "705:\tlearn: 0.3234415\ttotal: 17.8s\tremaining: 7.41s\n",
      "706:\tlearn: 0.3234005\ttotal: 17.8s\tremaining: 7.38s\n",
      "707:\tlearn: 0.3233670\ttotal: 17.8s\tremaining: 7.36s\n",
      "708:\tlearn: 0.3233362\ttotal: 17.9s\tremaining: 7.33s\n",
      "709:\tlearn: 0.3233002\ttotal: 17.9s\tremaining: 7.3s\n",
      "710:\tlearn: 0.3232664\ttotal: 17.9s\tremaining: 7.28s\n",
      "711:\tlearn: 0.3232295\ttotal: 17.9s\tremaining: 7.25s\n",
      "712:\tlearn: 0.3231925\ttotal: 18s\tremaining: 7.23s\n",
      "713:\tlearn: 0.3231576\ttotal: 18s\tremaining: 7.2s\n",
      "714:\tlearn: 0.3231218\ttotal: 18s\tremaining: 7.17s\n",
      "715:\tlearn: 0.3230901\ttotal: 18s\tremaining: 7.15s\n",
      "716:\tlearn: 0.3230544\ttotal: 18s\tremaining: 7.12s\n",
      "717:\tlearn: 0.3230231\ttotal: 18.1s\tremaining: 7.1s\n",
      "718:\tlearn: 0.3229900\ttotal: 18.1s\tremaining: 7.07s\n",
      "719:\tlearn: 0.3229512\ttotal: 18.1s\tremaining: 7.04s\n",
      "720:\tlearn: 0.3229100\ttotal: 18.1s\tremaining: 7.02s\n",
      "721:\tlearn: 0.3228745\ttotal: 18.2s\tremaining: 6.99s\n",
      "722:\tlearn: 0.3228355\ttotal: 18.2s\tremaining: 6.97s\n",
      "723:\tlearn: 0.3227913\ttotal: 18.2s\tremaining: 6.94s\n",
      "724:\tlearn: 0.3227545\ttotal: 18.2s\tremaining: 6.92s\n",
      "725:\tlearn: 0.3227235\ttotal: 18.3s\tremaining: 6.89s\n",
      "726:\tlearn: 0.3226861\ttotal: 18.3s\tremaining: 6.87s\n",
      "727:\tlearn: 0.3226472\ttotal: 18.3s\tremaining: 6.84s\n",
      "728:\tlearn: 0.3226161\ttotal: 18.3s\tremaining: 6.82s\n",
      "729:\tlearn: 0.3225718\ttotal: 18.4s\tremaining: 6.79s\n",
      "730:\tlearn: 0.3225336\ttotal: 18.4s\tremaining: 6.76s\n",
      "731:\tlearn: 0.3225000\ttotal: 18.4s\tremaining: 6.74s\n",
      "732:\tlearn: 0.3224635\ttotal: 18.4s\tremaining: 6.71s\n",
      "733:\tlearn: 0.3224435\ttotal: 18.5s\tremaining: 6.69s\n",
      "734:\tlearn: 0.3224092\ttotal: 18.5s\tremaining: 6.66s\n",
      "735:\tlearn: 0.3223696\ttotal: 18.5s\tremaining: 6.64s\n",
      "736:\tlearn: 0.3223366\ttotal: 18.5s\tremaining: 6.61s\n",
      "737:\tlearn: 0.3222998\ttotal: 18.6s\tremaining: 6.58s\n",
      "738:\tlearn: 0.3222580\ttotal: 18.6s\tremaining: 6.56s\n",
      "739:\tlearn: 0.3222228\ttotal: 18.6s\tremaining: 6.53s\n",
      "740:\tlearn: 0.3221863\ttotal: 18.6s\tremaining: 6.51s\n",
      "741:\tlearn: 0.3221431\ttotal: 18.6s\tremaining: 6.48s\n",
      "742:\tlearn: 0.3221001\ttotal: 18.7s\tremaining: 6.46s\n",
      "743:\tlearn: 0.3220593\ttotal: 18.7s\tremaining: 6.43s\n",
      "744:\tlearn: 0.3220277\ttotal: 18.7s\tremaining: 6.41s\n",
      "745:\tlearn: 0.3219982\ttotal: 18.7s\tremaining: 6.38s\n",
      "746:\tlearn: 0.3219659\ttotal: 18.8s\tremaining: 6.36s\n",
      "747:\tlearn: 0.3219472\ttotal: 18.8s\tremaining: 6.33s\n",
      "748:\tlearn: 0.3219093\ttotal: 18.8s\tremaining: 6.3s\n",
      "749:\tlearn: 0.3218754\ttotal: 18.8s\tremaining: 6.28s\n",
      "750:\tlearn: 0.3218471\ttotal: 18.9s\tremaining: 6.25s\n",
      "751:\tlearn: 0.3218226\ttotal: 18.9s\tremaining: 6.23s\n",
      "752:\tlearn: 0.3217868\ttotal: 18.9s\tremaining: 6.2s\n",
      "753:\tlearn: 0.3217396\ttotal: 18.9s\tremaining: 6.17s\n",
      "754:\tlearn: 0.3217019\ttotal: 18.9s\tremaining: 6.15s\n",
      "755:\tlearn: 0.3216656\ttotal: 19s\tremaining: 6.12s\n",
      "756:\tlearn: 0.3216370\ttotal: 19s\tremaining: 6.09s\n",
      "757:\tlearn: 0.3215992\ttotal: 19s\tremaining: 6.07s\n",
      "758:\tlearn: 0.3215650\ttotal: 19s\tremaining: 6.04s\n",
      "759:\tlearn: 0.3215285\ttotal: 19.1s\tremaining: 6.02s\n",
      "760:\tlearn: 0.3214973\ttotal: 19.1s\tremaining: 5.99s\n",
      "761:\tlearn: 0.3214562\ttotal: 19.1s\tremaining: 5.97s\n",
      "762:\tlearn: 0.3214110\ttotal: 19.1s\tremaining: 5.95s\n",
      "763:\tlearn: 0.3213869\ttotal: 19.2s\tremaining: 5.92s\n",
      "764:\tlearn: 0.3213494\ttotal: 19.2s\tremaining: 5.89s\n",
      "765:\tlearn: 0.3213139\ttotal: 19.2s\tremaining: 5.87s\n",
      "766:\tlearn: 0.3212745\ttotal: 19.2s\tremaining: 5.84s\n",
      "767:\tlearn: 0.3212285\ttotal: 19.3s\tremaining: 5.82s\n",
      "768:\tlearn: 0.3211958\ttotal: 19.3s\tremaining: 5.79s\n",
      "769:\tlearn: 0.3211654\ttotal: 19.3s\tremaining: 5.77s\n",
      "770:\tlearn: 0.3211319\ttotal: 19.3s\tremaining: 5.74s\n",
      "771:\tlearn: 0.3211096\ttotal: 19.4s\tremaining: 5.72s\n",
      "772:\tlearn: 0.3210799\ttotal: 19.4s\tremaining: 5.69s\n",
      "773:\tlearn: 0.3210599\ttotal: 19.4s\tremaining: 5.67s\n",
      "774:\tlearn: 0.3210207\ttotal: 19.4s\tremaining: 5.64s\n",
      "775:\tlearn: 0.3209818\ttotal: 19.4s\tremaining: 5.61s\n",
      "776:\tlearn: 0.3209350\ttotal: 19.5s\tremaining: 5.59s\n",
      "777:\tlearn: 0.3208875\ttotal: 19.5s\tremaining: 5.56s\n",
      "778:\tlearn: 0.3208508\ttotal: 19.5s\tremaining: 5.54s\n",
      "779:\tlearn: 0.3208186\ttotal: 19.5s\tremaining: 5.51s\n",
      "780:\tlearn: 0.3207827\ttotal: 19.6s\tremaining: 5.49s\n",
      "781:\tlearn: 0.3207607\ttotal: 19.6s\tremaining: 5.46s\n",
      "782:\tlearn: 0.3207252\ttotal: 19.6s\tremaining: 5.43s\n",
      "783:\tlearn: 0.3206917\ttotal: 19.6s\tremaining: 5.41s\n",
      "784:\tlearn: 0.3206662\ttotal: 19.7s\tremaining: 5.38s\n",
      "785:\tlearn: 0.3206305\ttotal: 19.7s\tremaining: 5.36s\n",
      "786:\tlearn: 0.3205941\ttotal: 19.7s\tremaining: 5.34s\n",
      "787:\tlearn: 0.3205579\ttotal: 19.8s\tremaining: 5.31s\n",
      "788:\tlearn: 0.3205293\ttotal: 19.8s\tremaining: 5.29s\n",
      "789:\tlearn: 0.3204909\ttotal: 19.8s\tremaining: 5.26s\n",
      "790:\tlearn: 0.3204588\ttotal: 19.8s\tremaining: 5.24s\n",
      "791:\tlearn: 0.3204313\ttotal: 19.8s\tremaining: 5.21s\n",
      "792:\tlearn: 0.3203893\ttotal: 19.9s\tremaining: 5.19s\n",
      "793:\tlearn: 0.3203509\ttotal: 19.9s\tremaining: 5.16s\n",
      "794:\tlearn: 0.3203263\ttotal: 19.9s\tremaining: 5.14s\n",
      "795:\tlearn: 0.3203007\ttotal: 19.9s\tremaining: 5.11s\n",
      "796:\tlearn: 0.3202641\ttotal: 20s\tremaining: 5.09s\n",
      "797:\tlearn: 0.3202265\ttotal: 20s\tremaining: 5.06s\n",
      "798:\tlearn: 0.3201952\ttotal: 20s\tremaining: 5.03s\n",
      "799:\tlearn: 0.3201595\ttotal: 20s\tremaining: 5.01s\n",
      "800:\tlearn: 0.3201226\ttotal: 20.1s\tremaining: 4.98s\n",
      "801:\tlearn: 0.3200701\ttotal: 20.1s\tremaining: 4.96s\n",
      "802:\tlearn: 0.3200335\ttotal: 20.1s\tremaining: 4.93s\n",
      "803:\tlearn: 0.3200071\ttotal: 20.1s\tremaining: 4.91s\n",
      "804:\tlearn: 0.3199707\ttotal: 20.2s\tremaining: 4.88s\n",
      "805:\tlearn: 0.3199452\ttotal: 20.2s\tremaining: 4.86s\n",
      "806:\tlearn: 0.3199134\ttotal: 20.2s\tremaining: 4.83s\n",
      "807:\tlearn: 0.3198844\ttotal: 20.2s\tremaining: 4.81s\n",
      "808:\tlearn: 0.3198475\ttotal: 20.3s\tremaining: 4.78s\n",
      "809:\tlearn: 0.3198133\ttotal: 20.3s\tremaining: 4.76s\n",
      "810:\tlearn: 0.3197725\ttotal: 20.3s\tremaining: 4.74s\n",
      "811:\tlearn: 0.3197300\ttotal: 20.4s\tremaining: 4.71s\n",
      "812:\tlearn: 0.3196942\ttotal: 20.4s\tremaining: 4.69s\n",
      "813:\tlearn: 0.3196554\ttotal: 20.4s\tremaining: 4.66s\n",
      "814:\tlearn: 0.3196330\ttotal: 20.4s\tremaining: 4.64s\n",
      "815:\tlearn: 0.3196042\ttotal: 20.5s\tremaining: 4.61s\n",
      "816:\tlearn: 0.3195736\ttotal: 20.5s\tremaining: 4.59s\n",
      "817:\tlearn: 0.3195408\ttotal: 20.5s\tremaining: 4.56s\n"
     ]
    },
    {
     "name": "stdout",
     "output_type": "stream",
     "text": [
      "818:\tlearn: 0.3195033\ttotal: 20.5s\tremaining: 4.54s\n",
      "819:\tlearn: 0.3194669\ttotal: 20.6s\tremaining: 4.51s\n",
      "820:\tlearn: 0.3194432\ttotal: 20.6s\tremaining: 4.49s\n",
      "821:\tlearn: 0.3194068\ttotal: 20.6s\tremaining: 4.46s\n",
      "822:\tlearn: 0.3193713\ttotal: 20.6s\tremaining: 4.44s\n",
      "823:\tlearn: 0.3193484\ttotal: 20.6s\tremaining: 4.41s\n",
      "824:\tlearn: 0.3193015\ttotal: 20.7s\tremaining: 4.38s\n",
      "825:\tlearn: 0.3192672\ttotal: 20.7s\tremaining: 4.36s\n",
      "826:\tlearn: 0.3192227\ttotal: 20.7s\tremaining: 4.33s\n",
      "827:\tlearn: 0.3191879\ttotal: 20.7s\tremaining: 4.31s\n",
      "828:\tlearn: 0.3191704\ttotal: 20.8s\tremaining: 4.28s\n",
      "829:\tlearn: 0.3191330\ttotal: 20.8s\tremaining: 4.26s\n",
      "830:\tlearn: 0.3191134\ttotal: 20.8s\tremaining: 4.24s\n",
      "831:\tlearn: 0.3190783\ttotal: 20.8s\tremaining: 4.21s\n",
      "832:\tlearn: 0.3190472\ttotal: 20.9s\tremaining: 4.18s\n",
      "833:\tlearn: 0.3190173\ttotal: 20.9s\tremaining: 4.16s\n",
      "834:\tlearn: 0.3189861\ttotal: 20.9s\tremaining: 4.13s\n",
      "835:\tlearn: 0.3189482\ttotal: 21s\tremaining: 4.11s\n",
      "836:\tlearn: 0.3189100\ttotal: 21s\tremaining: 4.09s\n",
      "837:\tlearn: 0.3188710\ttotal: 21s\tremaining: 4.06s\n",
      "838:\tlearn: 0.3188299\ttotal: 21s\tremaining: 4.04s\n",
      "839:\tlearn: 0.3187948\ttotal: 21.1s\tremaining: 4.01s\n",
      "840:\tlearn: 0.3187619\ttotal: 21.1s\tremaining: 3.98s\n",
      "841:\tlearn: 0.3187154\ttotal: 21.1s\tremaining: 3.96s\n",
      "842:\tlearn: 0.3186893\ttotal: 21.1s\tremaining: 3.93s\n",
      "843:\tlearn: 0.3186468\ttotal: 21.1s\tremaining: 3.91s\n",
      "844:\tlearn: 0.3186243\ttotal: 21.2s\tremaining: 3.88s\n",
      "845:\tlearn: 0.3185949\ttotal: 21.2s\tremaining: 3.86s\n",
      "846:\tlearn: 0.3185686\ttotal: 21.2s\tremaining: 3.83s\n",
      "847:\tlearn: 0.3185409\ttotal: 21.3s\tremaining: 3.81s\n",
      "848:\tlearn: 0.3185112\ttotal: 21.3s\tremaining: 3.78s\n",
      "849:\tlearn: 0.3184699\ttotal: 21.3s\tremaining: 3.76s\n",
      "850:\tlearn: 0.3184384\ttotal: 21.3s\tremaining: 3.73s\n",
      "851:\tlearn: 0.3184062\ttotal: 21.3s\tremaining: 3.71s\n",
      "852:\tlearn: 0.3183661\ttotal: 21.4s\tremaining: 3.68s\n",
      "853:\tlearn: 0.3183345\ttotal: 21.4s\tremaining: 3.66s\n",
      "854:\tlearn: 0.3183050\ttotal: 21.4s\tremaining: 3.63s\n",
      "855:\tlearn: 0.3182737\ttotal: 21.4s\tremaining: 3.61s\n",
      "856:\tlearn: 0.3182357\ttotal: 21.5s\tremaining: 3.58s\n",
      "857:\tlearn: 0.3182136\ttotal: 21.5s\tremaining: 3.56s\n",
      "858:\tlearn: 0.3181735\ttotal: 21.5s\tremaining: 3.53s\n",
      "859:\tlearn: 0.3181340\ttotal: 21.5s\tremaining: 3.51s\n",
      "860:\tlearn: 0.3181152\ttotal: 21.6s\tremaining: 3.48s\n",
      "861:\tlearn: 0.3180740\ttotal: 21.6s\tremaining: 3.46s\n",
      "862:\tlearn: 0.3180424\ttotal: 21.6s\tremaining: 3.43s\n",
      "863:\tlearn: 0.3180100\ttotal: 21.6s\tremaining: 3.41s\n",
      "864:\tlearn: 0.3179780\ttotal: 21.7s\tremaining: 3.38s\n",
      "865:\tlearn: 0.3179502\ttotal: 21.7s\tremaining: 3.36s\n",
      "866:\tlearn: 0.3179214\ttotal: 21.7s\tremaining: 3.33s\n",
      "867:\tlearn: 0.3178888\ttotal: 21.7s\tremaining: 3.31s\n",
      "868:\tlearn: 0.3178516\ttotal: 21.8s\tremaining: 3.28s\n",
      "869:\tlearn: 0.3178162\ttotal: 21.8s\tremaining: 3.25s\n",
      "870:\tlearn: 0.3177837\ttotal: 21.8s\tremaining: 3.23s\n",
      "871:\tlearn: 0.3177495\ttotal: 21.8s\tremaining: 3.21s\n",
      "872:\tlearn: 0.3177181\ttotal: 21.9s\tremaining: 3.18s\n",
      "873:\tlearn: 0.3176939\ttotal: 21.9s\tremaining: 3.16s\n",
      "874:\tlearn: 0.3176687\ttotal: 21.9s\tremaining: 3.13s\n",
      "875:\tlearn: 0.3176316\ttotal: 21.9s\tremaining: 3.11s\n",
      "876:\tlearn: 0.3176051\ttotal: 22s\tremaining: 3.08s\n",
      "877:\tlearn: 0.3175667\ttotal: 22s\tremaining: 3.06s\n",
      "878:\tlearn: 0.3175396\ttotal: 22s\tremaining: 3.03s\n",
      "879:\tlearn: 0.3175032\ttotal: 22s\tremaining: 3s\n",
      "880:\tlearn: 0.3174574\ttotal: 22.1s\tremaining: 2.98s\n",
      "881:\tlearn: 0.3174233\ttotal: 22.1s\tremaining: 2.96s\n",
      "882:\tlearn: 0.3173923\ttotal: 22.1s\tremaining: 2.93s\n",
      "883:\tlearn: 0.3173650\ttotal: 22.2s\tremaining: 2.91s\n",
      "884:\tlearn: 0.3173319\ttotal: 22.2s\tremaining: 2.88s\n",
      "885:\tlearn: 0.3172945\ttotal: 22.2s\tremaining: 2.86s\n",
      "886:\tlearn: 0.3172601\ttotal: 22.2s\tremaining: 2.83s\n",
      "887:\tlearn: 0.3172294\ttotal: 22.3s\tremaining: 2.81s\n",
      "888:\tlearn: 0.3172016\ttotal: 22.3s\tremaining: 2.78s\n",
      "889:\tlearn: 0.3171659\ttotal: 22.3s\tremaining: 2.76s\n",
      "890:\tlearn: 0.3171299\ttotal: 22.3s\tremaining: 2.73s\n",
      "891:\tlearn: 0.3170893\ttotal: 22.4s\tremaining: 2.71s\n",
      "892:\tlearn: 0.3170541\ttotal: 22.4s\tremaining: 2.68s\n",
      "893:\tlearn: 0.3170349\ttotal: 22.4s\tremaining: 2.66s\n",
      "894:\tlearn: 0.3170071\ttotal: 22.4s\tremaining: 2.63s\n",
      "895:\tlearn: 0.3169663\ttotal: 22.5s\tremaining: 2.61s\n",
      "896:\tlearn: 0.3169330\ttotal: 22.5s\tremaining: 2.58s\n",
      "897:\tlearn: 0.3168954\ttotal: 22.5s\tremaining: 2.56s\n",
      "898:\tlearn: 0.3168652\ttotal: 22.5s\tremaining: 2.53s\n",
      "899:\tlearn: 0.3168392\ttotal: 22.6s\tremaining: 2.51s\n",
      "900:\tlearn: 0.3167960\ttotal: 22.6s\tremaining: 2.48s\n",
      "901:\tlearn: 0.3167635\ttotal: 22.6s\tremaining: 2.46s\n",
      "902:\tlearn: 0.3167224\ttotal: 22.6s\tremaining: 2.43s\n",
      "903:\tlearn: 0.3166934\ttotal: 22.6s\tremaining: 2.4s\n",
      "904:\tlearn: 0.3166608\ttotal: 22.7s\tremaining: 2.38s\n",
      "905:\tlearn: 0.3166203\ttotal: 22.7s\tremaining: 2.35s\n",
      "906:\tlearn: 0.3165952\ttotal: 22.7s\tremaining: 2.33s\n",
      "907:\tlearn: 0.3165578\ttotal: 22.8s\tremaining: 2.31s\n",
      "908:\tlearn: 0.3165248\ttotal: 22.8s\tremaining: 2.28s\n",
      "909:\tlearn: 0.3165003\ttotal: 22.8s\tremaining: 2.25s\n",
      "910:\tlearn: 0.3164753\ttotal: 22.8s\tremaining: 2.23s\n",
      "911:\tlearn: 0.3164517\ttotal: 22.9s\tremaining: 2.2s\n",
      "912:\tlearn: 0.3164177\ttotal: 22.9s\tremaining: 2.18s\n",
      "913:\tlearn: 0.3163823\ttotal: 22.9s\tremaining: 2.15s\n",
      "914:\tlearn: 0.3163404\ttotal: 22.9s\tremaining: 2.13s\n",
      "915:\tlearn: 0.3162939\ttotal: 23s\tremaining: 2.1s\n",
      "916:\tlearn: 0.3162594\ttotal: 23s\tremaining: 2.08s\n",
      "917:\tlearn: 0.3162323\ttotal: 23s\tremaining: 2.05s\n",
      "918:\tlearn: 0.3162002\ttotal: 23s\tremaining: 2.03s\n",
      "919:\tlearn: 0.3161641\ttotal: 23.1s\tremaining: 2s\n",
      "920:\tlearn: 0.3161302\ttotal: 23.1s\tremaining: 1.98s\n",
      "921:\tlearn: 0.3160965\ttotal: 23.1s\tremaining: 1.95s\n",
      "922:\tlearn: 0.3160589\ttotal: 23.1s\tremaining: 1.93s\n",
      "923:\tlearn: 0.3160323\ttotal: 23.1s\tremaining: 1.9s\n",
      "924:\tlearn: 0.3160120\ttotal: 23.2s\tremaining: 1.88s\n",
      "925:\tlearn: 0.3159726\ttotal: 23.2s\tremaining: 1.85s\n",
      "926:\tlearn: 0.3159310\ttotal: 23.2s\tremaining: 1.83s\n",
      "927:\tlearn: 0.3158964\ttotal: 23.2s\tremaining: 1.8s\n",
      "928:\tlearn: 0.3158707\ttotal: 23.3s\tremaining: 1.78s\n",
      "929:\tlearn: 0.3158468\ttotal: 23.3s\tremaining: 1.75s\n",
      "930:\tlearn: 0.3158083\ttotal: 23.3s\tremaining: 1.73s\n",
      "931:\tlearn: 0.3157790\ttotal: 23.3s\tremaining: 1.7s\n",
      "932:\tlearn: 0.3157382\ttotal: 23.4s\tremaining: 1.68s\n",
      "933:\tlearn: 0.3157076\ttotal: 23.4s\tremaining: 1.65s\n",
      "934:\tlearn: 0.3156696\ttotal: 23.4s\tremaining: 1.63s\n",
      "935:\tlearn: 0.3156412\ttotal: 23.4s\tremaining: 1.6s\n",
      "936:\tlearn: 0.3156171\ttotal: 23.5s\tremaining: 1.58s\n",
      "937:\tlearn: 0.3155837\ttotal: 23.5s\tremaining: 1.55s\n",
      "938:\tlearn: 0.3155524\ttotal: 23.5s\tremaining: 1.53s\n",
      "939:\tlearn: 0.3155221\ttotal: 23.5s\tremaining: 1.5s\n",
      "940:\tlearn: 0.3154876\ttotal: 23.6s\tremaining: 1.48s\n",
      "941:\tlearn: 0.3154535\ttotal: 23.6s\tremaining: 1.45s\n",
      "942:\tlearn: 0.3154101\ttotal: 23.6s\tremaining: 1.43s\n",
      "943:\tlearn: 0.3153754\ttotal: 23.6s\tremaining: 1.4s\n",
      "944:\tlearn: 0.3153409\ttotal: 23.7s\tremaining: 1.38s\n",
      "945:\tlearn: 0.3153006\ttotal: 23.7s\tremaining: 1.35s\n",
      "946:\tlearn: 0.3152610\ttotal: 23.7s\tremaining: 1.33s\n",
      "947:\tlearn: 0.3152154\ttotal: 23.7s\tremaining: 1.3s\n",
      "948:\tlearn: 0.3151852\ttotal: 23.8s\tremaining: 1.28s\n",
      "949:\tlearn: 0.3151602\ttotal: 23.8s\tremaining: 1.25s\n",
      "950:\tlearn: 0.3151305\ttotal: 23.8s\tremaining: 1.23s\n",
      "951:\tlearn: 0.3151028\ttotal: 23.8s\tremaining: 1.2s\n",
      "952:\tlearn: 0.3150674\ttotal: 23.9s\tremaining: 1.18s\n",
      "953:\tlearn: 0.3150392\ttotal: 23.9s\tremaining: 1.15s\n",
      "954:\tlearn: 0.3150069\ttotal: 23.9s\tremaining: 1.13s\n",
      "955:\tlearn: 0.3149770\ttotal: 23.9s\tremaining: 1.1s\n",
      "956:\tlearn: 0.3149429\ttotal: 24s\tremaining: 1.08s\n",
      "957:\tlearn: 0.3149196\ttotal: 24s\tremaining: 1.05s\n",
      "958:\tlearn: 0.3148792\ttotal: 24s\tremaining: 1.03s\n",
      "959:\tlearn: 0.3148468\ttotal: 24s\tremaining: 1s\n",
      "960:\tlearn: 0.3148153\ttotal: 24.1s\tremaining: 976ms\n",
      "961:\tlearn: 0.3147749\ttotal: 24.1s\tremaining: 951ms\n",
      "962:\tlearn: 0.3147366\ttotal: 24.1s\tremaining: 926ms\n",
      "963:\tlearn: 0.3147059\ttotal: 24.1s\tremaining: 901ms\n",
      "964:\tlearn: 0.3146765\ttotal: 24.1s\tremaining: 876ms\n",
      "965:\tlearn: 0.3146324\ttotal: 24.2s\tremaining: 851ms\n",
      "966:\tlearn: 0.3146004\ttotal: 24.2s\tremaining: 826ms\n",
      "967:\tlearn: 0.3145700\ttotal: 24.2s\tremaining: 801ms\n",
      "968:\tlearn: 0.3145385\ttotal: 24.3s\tremaining: 776ms\n",
      "969:\tlearn: 0.3145089\ttotal: 24.3s\tremaining: 751ms\n",
      "970:\tlearn: 0.3144831\ttotal: 24.3s\tremaining: 726ms\n",
      "971:\tlearn: 0.3144463\ttotal: 24.3s\tremaining: 700ms\n",
      "972:\tlearn: 0.3144096\ttotal: 24.3s\tremaining: 675ms\n",
      "973:\tlearn: 0.3143841\ttotal: 24.4s\tremaining: 650ms\n",
      "974:\tlearn: 0.3143517\ttotal: 24.4s\tremaining: 625ms\n",
      "975:\tlearn: 0.3143176\ttotal: 24.4s\tremaining: 600ms\n",
      "976:\tlearn: 0.3142782\ttotal: 24.4s\tremaining: 575ms\n",
      "977:\tlearn: 0.3142471\ttotal: 24.5s\tremaining: 550ms\n",
      "978:\tlearn: 0.3142157\ttotal: 24.5s\tremaining: 525ms\n",
      "979:\tlearn: 0.3141921\ttotal: 24.5s\tremaining: 500ms\n",
      "980:\tlearn: 0.3141561\ttotal: 24.5s\tremaining: 475ms\n",
      "981:\tlearn: 0.3141251\ttotal: 24.6s\tremaining: 450ms\n",
      "982:\tlearn: 0.3140991\ttotal: 24.6s\tremaining: 425ms\n"
     ]
    },
    {
     "name": "stdout",
     "output_type": "stream",
     "text": [
      "983:\tlearn: 0.3140664\ttotal: 24.6s\tremaining: 400ms\n",
      "984:\tlearn: 0.3140320\ttotal: 24.6s\tremaining: 375ms\n",
      "985:\tlearn: 0.3139993\ttotal: 24.7s\tremaining: 350ms\n",
      "986:\tlearn: 0.3139670\ttotal: 24.7s\tremaining: 325ms\n",
      "987:\tlearn: 0.3139319\ttotal: 24.7s\tremaining: 300ms\n",
      "988:\tlearn: 0.3139099\ttotal: 24.7s\tremaining: 275ms\n",
      "989:\tlearn: 0.3138800\ttotal: 24.8s\tremaining: 250ms\n",
      "990:\tlearn: 0.3138418\ttotal: 24.8s\tremaining: 225ms\n",
      "991:\tlearn: 0.3138178\ttotal: 24.8s\tremaining: 200ms\n",
      "992:\tlearn: 0.3137830\ttotal: 24.8s\tremaining: 175ms\n",
      "993:\tlearn: 0.3137478\ttotal: 24.9s\tremaining: 150ms\n",
      "994:\tlearn: 0.3137230\ttotal: 24.9s\tremaining: 125ms\n",
      "995:\tlearn: 0.3136921\ttotal: 24.9s\tremaining: 100ms\n",
      "996:\tlearn: 0.3136673\ttotal: 24.9s\tremaining: 75ms\n",
      "997:\tlearn: 0.3136350\ttotal: 24.9s\tremaining: 50ms\n",
      "998:\tlearn: 0.3136051\ttotal: 25s\tremaining: 25ms\n",
      "999:\tlearn: 0.3135703\ttotal: 25s\tremaining: 0us\n",
      "AUC: 0.89120023\n"
     ]
    },
    {
     "name": "stderr",
     "output_type": "stream",
     "text": [
      "[0.6GB(+0.1GB): 25.489sec] CatBoost\n"
     ]
    }
   ],
   "source": [
    "cb_clf = CatBoostClassifier()\n",
    "score, preds = SingleTraining(cb_clf, train, target,  title='CatBoost', test_size=0.2, random_state=0)"
   ]
  },
  {
   "cell_type": "code",
   "execution_count": 14,
   "metadata": {},
   "outputs": [
    {
     "name": "stdout",
     "output_type": "stream",
     "text": [
      "AUC Mean: 0.89299789 / Std: 0.00145189\n"
     ]
    },
    {
     "name": "stderr",
     "output_type": "stream",
     "text": [
      "[0.5GB(+0.0GB): 287.476sec] CatBoost\n"
     ]
    }
   ],
   "source": [
    "cb_clf = CatBoostClassifier()\n",
    "cb_score = cross_validation(cb_clf, train, target, title='CatBoost', cv=10)"
   ]
  },
  {
   "cell_type": "code",
   "execution_count": 19,
   "metadata": {},
   "outputs": [],
   "source": [
    "clf_cv_list[\"cb_clf\"] = cb_score"
   ]
  },
  {
   "cell_type": "code",
   "execution_count": 19,
   "metadata": {},
   "outputs": [
    {
     "data": {
      "image/png": "[encoded data removed]",
      "text/plain": [
       "<Figure size 432x288 with 1 Axes>"
      ]
     },
     "metadata": {
      "needs_background": "light"
     },
     "output_type": "display_data"
    },
    {
     "name": "stderr",
     "output_type": "stream",
     "text": [
      "[0.6GB(+0.0GB): 896.091sec] CatBoost (default)\n"
     ]
    }
   ],
   "source": [
    "with timer(\"CatBoost (default)\"):\n",
    "    plot_learning_curve(cb_clf, 'CatBoost', train, target, cv=5, n_jobs=-1, \n",
    "                        train_sizes=np.linspace(.1, 1.0, 10))"
   ]
  },
  {
   "cell_type": "markdown",
   "metadata": {},
   "source": [
    "## 3. Random Forest"
   ]
  },
  {
   "cell_type": "code",
   "execution_count": 12,
   "metadata": {},
   "outputs": [
    {
     "name": "stdout",
     "output_type": "stream",
     "text": [
      "AUC: 0.88251609\n"
     ]
    },
    {
     "name": "stderr",
     "output_type": "stream",
     "text": [
      "[1.0GB(+0.5GB): 78.372sec] Random Forest\n"
     ]
    }
   ],
   "source": [
    "rf_clf = RandomForestClassifier()\n",
    "score, preds = SingleTraining(rf_clf, train, target,  title='Random Forest', test_size=0.2, random_state=0)"
   ]
  },
  {
   "cell_type": "code",
   "execution_count": 20,
   "metadata": {},
   "outputs": [
    {
     "name": "stdout",
     "output_type": "stream",
     "text": [
      "AUC Mean: 0.88382848 / Std: 0.00151413\n"
     ]
    },
    {
     "name": "stderr",
     "output_type": "stream",
     "text": [
      "[0.5GB(+0.0GB): 150.278sec] Random Forest\n"
     ]
    }
   ],
   "source": [
    "rf_clf = RandomForestClassifier()\n",
    "rf_score = cross_validation(rf_clf, train, target, title='Random Forest', cv=10)"
   ]
  },
  {
   "cell_type": "code",
   "execution_count": 21,
   "metadata": {},
   "outputs": [],
   "source": [
    "clf_cv_list[\"rf_clf\"] = rf_score"
   ]
  },
  {
   "cell_type": "code",
   "execution_count": 16,
   "metadata": {},
   "outputs": [
    {
     "data": {
      "image/png": "[encoded data removed]",
      "text/plain": [
       "<Figure size 432x288 with 1 Axes>"
      ]
     },
     "metadata": {
      "needs_background": "light"
     },
     "output_type": "display_data"
    },
    {
     "name": "stderr",
     "output_type": "stream",
     "text": [
      "[0.5GB(+0.0GB): 358.428sec] Random Forest (default)\n"
     ]
    }
   ],
   "source": [
    "with timer(\"Random Forest (default)\"):\n",
    "    plot_learning_curve(rf_clf, 'Random Forest', train, target, cv=5, n_jobs=-1, \n",
    "                        train_sizes=np.linspace(.1, 1.0, 10))"
   ]
  },
  {
   "cell_type": "markdown",
   "metadata": {},
   "source": [
    "## 4. XGBoost"
   ]
  },
  {
   "cell_type": "code",
   "execution_count": 26,
   "metadata": {},
   "outputs": [
    {
     "name": "stdout",
     "output_type": "stream",
     "text": [
      "[15:24:07] WARNING: ../src/learner.cc:1061: Starting in XGBoost 1.3.0, the default evaluation metric used with the objective 'binary:logistic' was changed from 'error' to 'logloss'. Explicitly set eval_metric if you'd like to restore the old behavior.\n",
      "AUC: 0.88759257\n"
     ]
    },
    {
     "name": "stderr",
     "output_type": "stream",
     "text": [
      "[0.7GB(+0.1GB): 11.505sec] XGBoost\n"
     ]
    }
   ],
   "source": [
    "xgb_clf = XGBClassifier()\n",
    "score, preds = SingleTraining(xgb_clf, train, target,  title='XGBoost', test_size=0.2, random_state=0)"
   ]
  },
  {
   "cell_type": "code",
   "execution_count": 23,
   "metadata": {},
   "outputs": [
    {
     "name": "stdout",
     "output_type": "stream",
     "text": [
      "AUC Mean: 0.88980441 / Std: 0.00153323\n"
     ]
    },
    {
     "name": "stderr",
     "output_type": "stream",
     "text": [
      "[0.5GB(+0.0GB): 192.927sec] XGBoost\n"
     ]
    }
   ],
   "source": [
    "xgb_clf = XGBClassifier()\n",
    "xgb_score = cross_validation(xgb_clf, train, target, title='XGBoost', cv=10)"
   ]
  },
  {
   "cell_type": "code",
   "execution_count": 24,
   "metadata": {},
   "outputs": [],
   "source": [
    "clf_cv_list[\"xgb_clf\"] = xgb_score"
   ]
  },
  {
   "cell_type": "code",
   "execution_count": 28,
   "metadata": {},
   "outputs": [
    {
     "data": {
      "image/png": "[encoded data removed]",
      "text/plain": [
       "<Figure size 432x288 with 1 Axes>"
      ]
     },
     "metadata": {
      "needs_background": "light"
     },
     "output_type": "display_data"
    },
    {
     "name": "stderr",
     "output_type": "stream",
     "text": [
      "[0.7GB(+0.0GB): 350.707sec] XGBoost (default)\n"
     ]
    }
   ],
   "source": [
    "with timer(\"XGBoost (default)\"):\n",
    "    plot_learning_curve(rf_clf, 'XGBoost', train, target, cv=5, n_jobs=-1, \n",
    "                        train_sizes=np.linspace(.1, 1.0, 10))"
   ]
  },
  {
   "cell_type": "markdown",
   "metadata": {},
   "source": [
    "## 5. Logistic Regression"
   ]
  },
  {
   "cell_type": "code",
   "execution_count": 31,
   "metadata": {},
   "outputs": [
    {
     "name": "stdout",
     "output_type": "stream",
     "text": [
      "AUC: 0.85039010\n"
     ]
    },
    {
     "name": "stderr",
     "output_type": "stream",
     "text": [
      "[0.9GB(+0.1GB): 3.187sec] Logistic Regression\n"
     ]
    }
   ],
   "source": [
    "lr_clf = LogisticRegression()\n",
    "score, preds = SingleTraining(lr_clf, train, target,  title='Logistic Regression', test_size=0.2, random_state=0)"
   ]
  },
  {
   "cell_type": "code",
   "execution_count": 25,
   "metadata": {},
   "outputs": [
    {
     "name": "stdout",
     "output_type": "stream",
     "text": [
      "AUC Mean: 0.85260018 / Std: 0.00296361\n"
     ]
    },
    {
     "name": "stderr",
     "output_type": "stream",
     "text": [
      "[0.5GB(+0.0GB): 9.764sec] Logistic Regression\n"
     ]
    }
   ],
   "source": [
    "lr_clf = LogisticRegression()\n",
    "lr_score = cross_validation(lr_clf, train, target, title='Logistic Regression', cv=10)"
   ]
  },
  {
   "cell_type": "code",
   "execution_count": 26,
   "metadata": {},
   "outputs": [],
   "source": [
    "clf_cv_list[\"lr_clf\"] = lr_score"
   ]
  },
  {
   "cell_type": "code",
   "execution_count": 34,
   "metadata": {},
   "outputs": [
    {
     "data": {
      "image/png": "[encoded data removed]",
      "text/plain": [
       "<Figure size 432x288 with 1 Axes>"
      ]
     },
     "metadata": {
      "needs_background": "light"
     },
     "output_type": "display_data"
    },
    {
     "name": "stderr",
     "output_type": "stream",
     "text": [
      "[0.9GB(+0.0GB): 23.247sec] Logistic Regression (default)\n"
     ]
    }
   ],
   "source": [
    "with timer(\"Logistic Regression (default)\"):\n",
    "    plot_learning_curve(lr_clf, 'Logistic Regression', train, target, cv=5, n_jobs=-1, \n",
    "                        train_sizes=np.linspace(.1, 1.0, 10))"
   ]
  },
  {
   "cell_type": "markdown",
   "metadata": {},
   "source": [
    "## 6. Decision Tree"
   ]
  },
  {
   "cell_type": "code",
   "execution_count": 35,
   "metadata": {},
   "outputs": [
    {
     "name": "stdout",
     "output_type": "stream",
     "text": [
      "AUC: 0.70545366\n"
     ]
    },
    {
     "name": "stderr",
     "output_type": "stream",
     "text": [
      "[0.9GB(+0.1GB): 7.390sec] Decision Tree\n"
     ]
    }
   ],
   "source": [
    "dt_clf = DecisionTreeClassifier()\n",
    "score, preds = SingleTraining(dt_clf, train, target,  title='Decision Tree', test_size=0.2, random_state=0)"
   ]
  },
  {
   "cell_type": "code",
   "execution_count": 27,
   "metadata": {},
   "outputs": [
    {
     "name": "stdout",
     "output_type": "stream",
     "text": [
      "AUC Mean: 0.70973076 / Std: 0.00244304\n"
     ]
    },
    {
     "name": "stderr",
     "output_type": "stream",
     "text": [
      "[0.5GB(+0.0GB): 12.209sec] Decision Tree\n"
     ]
    }
   ],
   "source": [
    "dt_clf = DecisionTreeClassifier()\n",
    "dt_score = cross_validation(dt_clf, train, target, title='Decision Tree', cv=10)"
   ]
  },
  {
   "cell_type": "code",
   "execution_count": 28,
   "metadata": {},
   "outputs": [],
   "source": [
    "clf_cv_list[\"dt_clf\"] = dt_score"
   ]
  },
  {
   "cell_type": "code",
   "execution_count": 38,
   "metadata": {},
   "outputs": [
    {
     "data": {
      "image/png": "[encoded data removed]",
      "text/plain": [
       "<Figure size 432x288 with 1 Axes>"
      ]
     },
     "metadata": {
      "needs_background": "light"
     },
     "output_type": "display_data"
    },
    {
     "name": "stderr",
     "output_type": "stream",
     "text": [
      "[0.8GB(+0.0GB): 28.244sec] Decision Tree (default)\n"
     ]
    }
   ],
   "source": [
    "with timer(\"Decision Tree (default)\"):\n",
    "    plot_learning_curve(dt_clf, 'Decision Tree', train, target, cv=5, n_jobs=-1, \n",
    "                        train_sizes=np.linspace(.1, 1.0, 10))"
   ]
  },
  {
   "cell_type": "markdown",
   "metadata": {},
   "source": [
    "## 7. Extra Trees"
   ]
  },
  {
   "cell_type": "code",
   "execution_count": 39,
   "metadata": {},
   "outputs": [
    {
     "name": "stdout",
     "output_type": "stream",
     "text": [
      "AUC: 0.88220436\n"
     ]
    },
    {
     "name": "stderr",
     "output_type": "stream",
     "text": [
      "[2.0GB(+1.2GB): 38.546sec] Extra Tree\n"
     ]
    }
   ],
   "source": [
    "ext_clf = ExtraTreesClassifier()\n",
    "score, preds = SingleTraining(ext_clf, train, target,  title='Extra Tree', test_size=0.2, random_state=0)"
   ]
  },
  {
   "cell_type": "code",
   "execution_count": 29,
   "metadata": {},
   "outputs": [
    {
     "name": "stdout",
     "output_type": "stream",
     "text": [
      "AUC Mean: 0.88336588 / Std: 0.00192378\n"
     ]
    },
    {
     "name": "stderr",
     "output_type": "stream",
     "text": [
      "[0.5GB(+0.0GB): 89.638sec] Extra Tree\n"
     ]
    }
   ],
   "source": [
    "ext_clf = ExtraTreesClassifier()\n",
    "ext_score = cross_validation(ext_clf, train, target, title='Extra Tree', cv=10)"
   ]
  },
  {
   "cell_type": "code",
   "execution_count": 30,
   "metadata": {},
   "outputs": [],
   "source": [
    "clf_cv_list[\"ext_clf\"] = ext_score"
   ]
  },
  {
   "cell_type": "code",
   "execution_count": 43,
   "metadata": {},
   "outputs": [
    {
     "data": {
      "image/png": "[encoded data removed]",
      "text/plain": [
       "<Figure size 432x288 with 1 Axes>"
      ]
     },
     "metadata": {
      "needs_background": "light"
     },
     "output_type": "display_data"
    },
    {
     "name": "stderr",
     "output_type": "stream",
     "text": [
      "[0.8GB(+0.0GB): 243.590sec] Extra Tree (default)\n"
     ]
    }
   ],
   "source": [
    "with timer(\"Extra Tree (default)\"):\n",
    "    plot_learning_curve(ext_clf, 'Extra Tree', train, target, cv=5, n_jobs=-1, \n",
    "                        train_sizes=np.linspace(.1, 1.0, 10))"
   ]
  },
  {
   "cell_type": "markdown",
   "metadata": {},
   "source": [
    "## 8. Gradient Boost"
   ]
  },
  {
   "cell_type": "code",
   "execution_count": 44,
   "metadata": {},
   "outputs": [
    {
     "name": "stdout",
     "output_type": "stream",
     "text": [
      "AUC: 0.87848729\n"
     ]
    },
    {
     "name": "stderr",
     "output_type": "stream",
     "text": [
      "[0.9GB(+0.1GB): 126.138sec] Gradient Boost\n"
     ]
    }
   ],
   "source": [
    "gb_clf = GradientBoostingClassifier()\n",
    "score, preds = SingleTraining(gb_clf, train, target,  title='Gradient Boost', test_size=0.2, random_state=0)"
   ]
  },
  {
   "cell_type": "code",
   "execution_count": 31,
   "metadata": {},
   "outputs": [
    {
     "name": "stdout",
     "output_type": "stream",
     "text": [
      "AUC Mean: 0.88018668 / Std: 0.00195933\n"
     ]
    },
    {
     "name": "stderr",
     "output_type": "stream",
     "text": [
      "[0.5GB(+0.0GB): 271.654sec] Gradient Boost\n"
     ]
    }
   ],
   "source": [
    "gb_clf = GradientBoostingClassifier()\n",
    "gb_score = cross_validation(gb_clf, train, target, title='Gradient Boost', cv=10)"
   ]
  },
  {
   "cell_type": "code",
   "execution_count": 32,
   "metadata": {},
   "outputs": [],
   "source": [
    "clf_cv_list[\"gb_clf\"] = gb_score"
   ]
  },
  {
   "cell_type": "code",
   "execution_count": 47,
   "metadata": {},
   "outputs": [
    {
     "data": {
      "image/png": "[encoded data removed]",
      "text/plain": [
       "<Figure size 432x288 with 1 Axes>"
      ]
     },
     "metadata": {
      "needs_background": "light"
     },
     "output_type": "display_data"
    },
    {
     "name": "stderr",
     "output_type": "stream",
     "text": [
      "[0.8GB(+0.0GB): 563.149sec] Gradient Boost (default)\n"
     ]
    }
   ],
   "source": [
    "with timer(\"Gradient Boost (default)\"):\n",
    "    plot_learning_curve(gb_clf, 'Gradient Boost', train, target, cv=5, n_jobs=-1, \n",
    "                        train_sizes=np.linspace(.1, 1.0, 10))"
   ]
  },
  {
   "cell_type": "markdown",
   "metadata": {},
   "source": [
    "## 9. AdaBoost"
   ]
  },
  {
   "cell_type": "code",
   "execution_count": 48,
   "metadata": {},
   "outputs": [
    {
     "name": "stdout",
     "output_type": "stream",
     "text": [
      "AUC: 0.87360216\n"
     ]
    },
    {
     "name": "stderr",
     "output_type": "stream",
     "text": [
      "[0.9GB(+0.1GB): 27.246sec] AdaBoost\n"
     ]
    }
   ],
   "source": [
    "adb_clf = AdaBoostClassifier()\n",
    "score, preds = SingleTraining(adb_clf, train, target,  title='AdaBoost', test_size=0.2, random_state=0)"
   ]
  },
  {
   "cell_type": "code",
   "execution_count": 33,
   "metadata": {},
   "outputs": [
    {
     "name": "stdout",
     "output_type": "stream",
     "text": [
      "AUC Mean: 0.87511212 / Std: 0.00197673\n"
     ]
    },
    {
     "name": "stderr",
     "output_type": "stream",
     "text": [
      "[0.5GB(+0.0GB): 56.899sec] AdaBoost\n"
     ]
    }
   ],
   "source": [
    "adb_clf = AdaBoostClassifier()\n",
    "adb_score = cross_validation(adb_clf, train, target, title='AdaBoost', cv=10)"
   ]
  },
  {
   "cell_type": "code",
   "execution_count": 34,
   "metadata": {},
   "outputs": [],
   "source": [
    "clf_cv_list[\"adb_clf\"] = adb_score"
   ]
  },
  {
   "cell_type": "code",
   "execution_count": 51,
   "metadata": {},
   "outputs": [
    {
     "data": {
      "image/png": "[encoded data removed]",
      "text/plain": [
       "<Figure size 432x288 with 1 Axes>"
      ]
     },
     "metadata": {
      "needs_background": "light"
     },
     "output_type": "display_data"
    },
    {
     "name": "stderr",
     "output_type": "stream",
     "text": [
      "[0.9GB(+0.0GB): 135.081sec] AdaBoost (default)\n"
     ]
    }
   ],
   "source": [
    "with timer(\"AdaBoost (default)\"):\n",
    "    plot_learning_curve(adb_clf, 'AdaBoost', train, target, cv=5, n_jobs=-1, \n",
    "                        train_sizes=np.linspace(.1, 1.0, 10))"
   ]
  },
  {
   "cell_type": "markdown",
   "metadata": {},
   "source": [
    "## 10. SVC"
   ]
  },
  {
   "cell_type": "code",
   "execution_count": null,
   "metadata": {},
   "outputs": [],
   "source": [
    "svc_clf = SVC(probability=True)\n",
    "score, preds = SingleTraining(svc_clf, train, target,  title='SVC', test_size=0.2, random_state=0)"
   ]
  },
  {
   "cell_type": "code",
   "execution_count": null,
   "metadata": {},
   "outputs": [],
   "source": [
    "svc_clf = SVC()\n",
    "svc_score = cross_validation(svc_clf, train, target, title='SVC', cv=10)"
   ]
  },
  {
   "cell_type": "code",
   "execution_count": null,
   "metadata": {},
   "outputs": [],
   "source": [
    "clf_cv_list[\"svc_clf\"] = svc_score"
   ]
  },
  {
   "cell_type": "code",
   "execution_count": null,
   "metadata": {},
   "outputs": [],
   "source": [
    "with timer(\"SVC (default)\"):\n",
    "    plot_learning_curve(svc_clf, 'SVC', train, target, cv=5, n_jobs=-1, \n",
    "                        train_sizes=np.linspace(.1, 1.0, 10))"
   ]
  },
  {
   "cell_type": "markdown",
   "metadata": {},
   "source": [
    "## 11. k-Nearest Neighbors"
   ]
  },
  {
   "cell_type": "code",
   "execution_count": 35,
   "metadata": {},
   "outputs": [
    {
     "name": "stdout",
     "output_type": "stream",
     "text": [
      "AUC: 0.79765775\n"
     ]
    },
    {
     "name": "stderr",
     "output_type": "stream",
     "text": [
      "[0.6GB(+0.1GB): 271.639sec] kNN\n"
     ]
    }
   ],
   "source": [
    "knn_clf = KNeighborsClassifier()\n",
    "score, preds = SingleTraining(knn_clf, train, target,  title='kNN', test_size=0.2, random_state=0)"
   ]
  },
  {
   "cell_type": "code",
   "execution_count": 36,
   "metadata": {},
   "outputs": [
    {
     "name": "stdout",
     "output_type": "stream",
     "text": [
      "AUC Mean: 0.80171285 / Std: 0.00197453\n"
     ]
    },
    {
     "name": "stderr",
     "output_type": "stream",
     "text": [
      "[0.5GB(-0.0GB): 483.593sec] kNN\n"
     ]
    }
   ],
   "source": [
    "knn_clf = KNeighborsClassifier()\n",
    "knn_score = cross_validation(knn_clf, train, target, title='kNN', cv=10)"
   ]
  },
  {
   "cell_type": "code",
   "execution_count": 37,
   "metadata": {},
   "outputs": [],
   "source": [
    "clf_cv_list[\"knn_clf\"] = knn_score"
   ]
  },
  {
   "cell_type": "code",
   "execution_count": null,
   "metadata": {},
   "outputs": [],
   "source": [
    "with timer(\"kNN (default)\"):\n",
    "    plot_learning_curve(knn_clf, 'kNN', train, target, cv=5, n_jobs=-1, \n",
    "                        train_sizes=np.linspace(.1, 1.0, 10))"
   ]
  },
  {
   "cell_type": "markdown",
   "metadata": {},
   "source": [
    "## 12. Multiple Layer Perceptron"
   ]
  },
  {
   "cell_type": "code",
   "execution_count": 38,
   "metadata": {},
   "outputs": [
    {
     "name": "stdout",
     "output_type": "stream",
     "text": [
      "AUC: 0.87673932\n"
     ]
    },
    {
     "name": "stderr",
     "output_type": "stream",
     "text": [
      "[0.6GB(+0.0GB): 167.346sec] MLP\n"
     ]
    }
   ],
   "source": [
    "mlp_clf = MLPClassifier()\n",
    "score, preds = SingleTraining(mlp_clf, train, target,  title='MLP', test_size=0.2, random_state=0)"
   ]
  },
  {
   "cell_type": "code",
   "execution_count": 40,
   "metadata": {},
   "outputs": [
    {
     "name": "stdout",
     "output_type": "stream",
     "text": [
      "AUC Mean: 0.87854848 / Std: 0.00165596\n"
     ]
    },
    {
     "name": "stderr",
     "output_type": "stream",
     "text": [
      "[0.5GB(+0.0GB): 227.152sec] MLP\n"
     ]
    }
   ],
   "source": [
    "mlp_clf = MLPClassifier()\n",
    "mlp_score = cross_validation(mlp_clf, train, target, title='MLP', cv=10)"
   ]
  },
  {
   "cell_type": "code",
   "execution_count": 41,
   "metadata": {},
   "outputs": [],
   "source": [
    "clf_cv_list[\"mlp_clf\"] = mlp_score"
   ]
  },
  {
   "cell_type": "code",
   "execution_count": 42,
   "metadata": {
    "scrolled": true
   },
   "outputs": [
    {
     "data": {
      "image/png": "[encoded data removed]",
      "text/plain": [
       "<Figure size 432x288 with 1 Axes>"
      ]
     },
     "metadata": {
      "needs_background": "light"
     },
     "output_type": "display_data"
    },
    {
     "name": "stderr",
     "output_type": "stream",
     "text": [
      "[0.5GB(+0.0GB): 634.825sec] MLP(default)\n"
     ]
    }
   ],
   "source": [
    "with timer(\"MLP(default)\"):\n",
    "    plot_learning_curve(mlp_clf, 'MLP', train, target, cv=5, n_jobs=-1, \n",
    "                        train_sizes=np.linspace(.1, 1.0, 10))"
   ]
  },
  {
   "cell_type": "markdown",
   "metadata": {},
   "source": [
    "## Summary"
   ]
  },
  {
   "cell_type": "code",
   "execution_count": 43,
   "metadata": {},
   "outputs": [
    {
     "data": {
      "text/plain": [
       "{'lgbm_clf': array([0.89075255, 0.88942784, 0.89036058, 0.88838181, 0.89071987,\n",
       "        0.88913751, 0.88597703, 0.88814562, 0.89039929, 0.88594597]),\n",
       " 'cb_clf': array([0.89408289, 0.89410621, 0.89418404, 0.89271492, 0.89432617,\n",
       "        0.8928168 , 0.89067053, 0.8920148 , 0.89460149, 0.89046103]),\n",
       " 'rf_clf': array([0.88407571, 0.88399151, 0.88533596, 0.88365678, 0.88592181,\n",
       "        0.8841951 , 0.88076462, 0.88439553, 0.88453123, 0.88141661]),\n",
       " 'xgb_clf': array([0.89067864, 0.8902589 , 0.89108866, 0.88997934, 0.89133019,\n",
       "        0.88977911, 0.88638014, 0.88961347, 0.89127614, 0.88765952]),\n",
       " 'lr_clf': array([0.85611222, 0.85653884, 0.85314008, 0.84772539, 0.84997613,\n",
       "        0.85160026, 0.84988356, 0.85452856, 0.85608587, 0.8504109 ]),\n",
       " 'dt_clf': array([0.707916  , 0.7070448 , 0.70594129, 0.70875673, 0.71350937,\n",
       "        0.70958215, 0.71262337, 0.7092106 , 0.71303654, 0.70968674]),\n",
       " 'ext_clf': array([0.8840974 , 0.88368962, 0.88533379, 0.88138177, 0.88554336,\n",
       "        0.88526012, 0.88014043, 0.88345418, 0.88436292, 0.8803952 ]),\n",
       " 'gb_clf': array([0.88326637, 0.88075704, 0.88136229, 0.87971971, 0.8819435 ,\n",
       "        0.8801431 , 0.87680053, 0.87947944, 0.88142984, 0.87696493]),\n",
       " 'adb_clf': array([0.87845515, 0.87586617, 0.8771748 , 0.87398502, 0.87577616,\n",
       "        0.87405914, 0.8720237 , 0.87491723, 0.87664027, 0.87222353]),\n",
       " 'knn_clf': array([0.80444487, 0.80512521, 0.80214374, 0.8021494 , 0.80330218,\n",
       "        0.80015435, 0.79888885, 0.8004599 , 0.80078033, 0.79967962]),\n",
       " 'mlp_clf': array([0.88034869, 0.8803512 , 0.87932304, 0.87697157, 0.88070396,\n",
       "        0.87776065, 0.87577811, 0.87875434, 0.87908353, 0.87640967])}"
      ]
     },
     "execution_count": 43,
     "metadata": {},
     "output_type": "execute_result"
    }
   ],
   "source": [
    "clf_cv_list"
   ]
  },
  {
   "cell_type": "code",
   "execution_count": 45,
   "metadata": {},
   "outputs": [],
   "source": [
    "from numpy import array\n",
    "clf_cv_list = {'lgbm_clf': array([0.89075255, 0.88942784, 0.89036058, 0.88838181, 0.89071987,\n",
    "                    0.88913751, 0.88597703, 0.88814562, 0.89039929, 0.88594597]),\n",
    "               'cb_clf': array([0.89408289, 0.89410621, 0.89418404, 0.89271492, 0.89432617,\n",
    "                    0.8928168 , 0.89067053, 0.8920148 , 0.89460149, 0.89046103]),\n",
    "               'rf_clf': array([0.88407571, 0.88399151, 0.88533596, 0.88365678, 0.88592181,\n",
    "                    0.8841951 , 0.88076462, 0.88439553, 0.88453123, 0.88141661]),\n",
    "               'xgb_clf': array([0.89067864, 0.8902589 , 0.89108866, 0.88997934, 0.89133019,\n",
    "                    0.88977911, 0.88638014, 0.88961347, 0.89127614, 0.88765952]),\n",
    "               'lr_clf': array([0.85611222, 0.85653884, 0.85314008, 0.84772539, 0.84997613,\n",
    "                    0.85160026, 0.84988356, 0.85452856, 0.85608587, 0.8504109 ]),\n",
    "               'dt_clf': array([0.707916  , 0.7070448 , 0.70594129, 0.70875673, 0.71350937,\n",
    "                    0.70958215, 0.71262337, 0.7092106 , 0.71303654, 0.70968674]),\n",
    "               'ext_clf': array([0.8840974 , 0.88368962, 0.88533379, 0.88138177, 0.88554336,\n",
    "                    0.88526012, 0.88014043, 0.88345418, 0.88436292, 0.8803952 ]),\n",
    "               'gb_clf': array([0.88326637, 0.88075704, 0.88136229, 0.87971971, 0.8819435 ,\n",
    "                    0.8801431 , 0.87680053, 0.87947944, 0.88142984, 0.87696493]),\n",
    "               'adb_clf': array([0.87845515, 0.87586617, 0.8771748 , 0.87398502, 0.87577616,\n",
    "                    0.87405914, 0.8720237 , 0.87491723, 0.87664027, 0.87222353]),\n",
    "               'knn_clf': array([0.80444487, 0.80512521, 0.80214374, 0.8021494 , 0.80330218,\n",
    "                    0.80015435, 0.79888885, 0.8004599 , 0.80078033, 0.79967962]),\n",
    "               'mlp_clf': array([0.88034869, 0.8803512 , 0.87932304, 0.87697157, 0.88070396,\n",
    "                    0.87776065, 0.87577811, 0.87875434, 0.87908353, 0.87640967])}"
   ]
  },
  {
   "cell_type": "code",
   "execution_count": 47,
   "metadata": {},
   "outputs": [
    {
     "name": "stdout",
     "output_type": "stream",
     "text": [
      "Light GBM                :[0.891 0.889 0.89  0.888 0.891 0.889 0.886 0.888 0.89  0.886] > 0.889, 0.00172\n",
      "CatBoost                 :[0.894 0.894 0.894 0.893 0.894 0.893 0.891 0.892 0.895 0.89 ] > 0.893, 0.00145\n",
      "Random Forest            :[0.884 0.884 0.885 0.884 0.886 0.884 0.881 0.884 0.885 0.881] > 0.884, 0.00151\n",
      "XGBoost                  :[0.891 0.89  0.891 0.89  0.891 0.89  0.886 0.89  0.891 0.888] > 0.890, 0.00153\n",
      "Logistic Regression      :[0.856 0.857 0.853 0.848 0.85  0.852 0.85  0.855 0.856 0.85 ] > 0.853, 0.00296\n",
      "Decision Tree            :[0.708 0.707 0.706 0.709 0.714 0.71  0.713 0.709 0.713 0.71 ] > 0.710, 0.00244\n",
      "Extra Tree               :[0.884 0.884 0.885 0.881 0.886 0.885 0.88  0.883 0.884 0.88 ] > 0.883, 0.00192\n",
      "Gradient Boost           :[0.883 0.881 0.881 0.88  0.882 0.88  0.877 0.879 0.881 0.877] > 0.880, 0.00196\n",
      "AdaBoost                 :[0.878 0.876 0.877 0.874 0.876 0.874 0.872 0.875 0.877 0.872] > 0.875, 0.00198\n",
      "K-Neighbors              :[0.804 0.805 0.802 0.802 0.803 0.8   0.799 0.8   0.801 0.8  ] > 0.802, 0.00197\n",
      "MLP                      :[0.88  0.88  0.879 0.877 0.881 0.878 0.876 0.879 0.879 0.876] > 0.879, 0.00166\n"
     ]
    }
   ],
   "source": [
    "cv_mean  = []\n",
    "cv_std   = []\n",
    "cv_name  = []\n",
    "clf_name = {'lgbm_clf':'Light GBM', 'rf_clf':'Random Forest', 'dt_clf':'Decision Tree', 'knn_clf':'K-Neighbors', 'adb_clf':'AdaBoost', \n",
    "            'ext_clf':'Extra Tree', 'lr_clf':'Logistic Regression', 'mlp_clf':'MLP', 'cb_clf':'CatBoost',\n",
    "            'xgb_clf':'XGBoost', 'gb_clf':'Gradient Boost', 'adb_clf':'AdaBoost'}\n",
    "for clf in clf_cv_list.keys():\n",
    "    cv = clf_cv_list[clf]\n",
    "    cv_mean.append(np.mean(cv))\n",
    "    cv_std.append(np.std(cv))\n",
    "    cv_name.append(clf_name[clf])\n",
    "    print(\"{0:25s}:{1} > {2:.3f}, {3:.5f}\".format(clf_name[clf], np.round(cv,3), np.mean(cv), np.std(cv)))"
   ]
  },
  {
   "cell_type": "code",
   "execution_count": 48,
   "metadata": {},
   "outputs": [],
   "source": [
    "cv_result = pd.DataFrame({\"Algorithm\":cv_name, \"CrossValMeans\":cv_mean, \"CrossValerrors\": cv_std})"
   ]
  },
  {
   "cell_type": "code",
   "execution_count": 51,
   "metadata": {},
   "outputs": [
    {
     "data": {
      "text/html": [
       "<div>\n",
       "<style scoped>\n",
       "    .dataframe tbody tr th:only-of-type {\n",
       "        vertical-align: middle;\n",
       "    }\n",
       "\n",
       "    .dataframe tbody tr th {\n",
       "        vertical-align: top;\n",
       "    }\n",
       "\n",
       "    .dataframe thead th {\n",
       "        text-align: right;\n",
       "    }\n",
       "</style>\n",
       "<table border=\"1\" class=\"dataframe\">\n",
       "  <thead>\n",
       "    <tr style=\"text-align: right;\">\n",
       "      <th></th>\n",
       "      <th>Algorithm</th>\n",
       "      <th>CrossValMeans</th>\n",
       "      <th>CrossValerrors</th>\n",
       "    </tr>\n",
       "  </thead>\n",
       "  <tbody>\n",
       "    <tr>\n",
       "      <th>1</th>\n",
       "      <td>CatBoost</td>\n",
       "      <td>0.892998</td>\n",
       "      <td>0.001452</td>\n",
       "    </tr>\n",
       "    <tr>\n",
       "      <th>3</th>\n",
       "      <td>XGBoost</td>\n",
       "      <td>0.889804</td>\n",
       "      <td>0.001533</td>\n",
       "    </tr>\n",
       "    <tr>\n",
       "      <th>0</th>\n",
       "      <td>Light GBM</td>\n",
       "      <td>0.888925</td>\n",
       "      <td>0.001719</td>\n",
       "    </tr>\n",
       "    <tr>\n",
       "      <th>2</th>\n",
       "      <td>Random Forest</td>\n",
       "      <td>0.883828</td>\n",
       "      <td>0.001514</td>\n",
       "    </tr>\n",
       "    <tr>\n",
       "      <th>6</th>\n",
       "      <td>Extra Tree</td>\n",
       "      <td>0.883366</td>\n",
       "      <td>0.001924</td>\n",
       "    </tr>\n",
       "    <tr>\n",
       "      <th>7</th>\n",
       "      <td>Gradient Boost</td>\n",
       "      <td>0.880187</td>\n",
       "      <td>0.001959</td>\n",
       "    </tr>\n",
       "    <tr>\n",
       "      <th>10</th>\n",
       "      <td>MLP</td>\n",
       "      <td>0.878548</td>\n",
       "      <td>0.001656</td>\n",
       "    </tr>\n",
       "    <tr>\n",
       "      <th>8</th>\n",
       "      <td>AdaBoost</td>\n",
       "      <td>0.875112</td>\n",
       "      <td>0.001977</td>\n",
       "    </tr>\n",
       "    <tr>\n",
       "      <th>4</th>\n",
       "      <td>Logistic Regression</td>\n",
       "      <td>0.852600</td>\n",
       "      <td>0.002964</td>\n",
       "    </tr>\n",
       "    <tr>\n",
       "      <th>9</th>\n",
       "      <td>K-Neighbors</td>\n",
       "      <td>0.801713</td>\n",
       "      <td>0.001975</td>\n",
       "    </tr>\n",
       "    <tr>\n",
       "      <th>5</th>\n",
       "      <td>Decision Tree</td>\n",
       "      <td>0.709731</td>\n",
       "      <td>0.002443</td>\n",
       "    </tr>\n",
       "  </tbody>\n",
       "</table>\n",
       "</div>"
      ],
      "text/plain": [
       "              Algorithm  CrossValMeans  CrossValerrors\n",
       "1              CatBoost       0.892998        0.001452\n",
       "3               XGBoost       0.889804        0.001533\n",
       "0             Light GBM       0.888925        0.001719\n",
       "2         Random Forest       0.883828        0.001514\n",
       "6            Extra Tree       0.883366        0.001924\n",
       "7        Gradient Boost       0.880187        0.001959\n",
       "10                  MLP       0.878548        0.001656\n",
       "8              AdaBoost       0.875112        0.001977\n",
       "4   Logistic Regression       0.852600        0.002964\n",
       "9           K-Neighbors       0.801713        0.001975\n",
       "5         Decision Tree       0.709731        0.002443"
      ]
     },
     "execution_count": 51,
     "metadata": {},
     "output_type": "execute_result"
    }
   ],
   "source": [
    "cv_result_sorted = cv_result.sort_values(by='CrossValMeans', ascending=False)\n",
    "cv_result_sorted"
   ]
  },
  {
   "cell_type": "code",
   "execution_count": 52,
   "metadata": {},
   "outputs": [
    {
     "data": {
      "image/png": "[encoded data removed]",
      "text/plain": [
       "<Figure size 720x360 with 1 Axes>"
      ]
     },
     "metadata": {
      "needs_background": "light"
     },
     "output_type": "display_data"
    }
   ],
   "source": [
    "plt.figure(figsize=(10,5))\n",
    "sns.barplot(\"CrossValMeans\", \"Algorithm\", data = cv_result_sorted, \n",
    "            palette=\"Set3\", orient = \"h\",**{'xerr':cv_std})\n",
    "plt.xlabel(\"Mean Accuracy\")\n",
    "plt.title(\"Cross validation scores\")\n",
    "plt.show()"
   ]
  },
  {
   "cell_type": "markdown",
   "metadata": {},
   "source": [
    "# Confusion Matrix and Related Analysis"
   ]
  },
  {
   "cell_type": "code",
   "execution_count": 145,
   "metadata": {},
   "outputs": [],
   "source": [
    "from sklearn.metrics import accuracy_score, precision_score, recall_score, confusion_matrix\n",
    "from sklearn.metrics import precision_recall_curve, f1_score, roc_curve"
   ]
  },
  {
   "cell_type": "code",
   "execution_count": 97,
   "metadata": {},
   "outputs": [],
   "source": [
    "X_train, X_test, y_train, y_test = train_test_split(train, target, test_size=0.2, stratify=target, random_state=0)\n",
    "lgbm_clf = LGBMClassifier()\n",
    "lgbm_clf.fit(X_train, y_train)\n",
    "results = lgbm_clf.predict_proba(X_test)\n",
    "pred_proba = results[:, 1]\n",
    "pred = lgbm_clf.predict(X_test)"
   ]
  },
  {
   "cell_type": "code",
   "execution_count": 128,
   "metadata": {},
   "outputs": [],
   "source": [
    "pred_proba_class0 = results[:,0]\n",
    "pred_proba_class1 = results[:,1]"
   ]
  },
  {
   "cell_type": "code",
   "execution_count": 130,
   "metadata": {},
   "outputs": [
    {
     "data": {
      "image/png": "[encoded data removed]",
      "text/plain": [
       "<Figure size 576x288 with 1 Axes>"
      ]
     },
     "metadata": {},
     "output_type": "display_data"
    }
   ],
   "source": [
    "plt.figure(figsize=(8,4))\n",
    "plt.hist(pred_proba_class0, bins=100, alpha=0.75, label='neg class')\n",
    "plt.hist(pred_proba_class1, bins=100, alpha=0.75, label='pos class')\n",
    "plt.legend()\n",
    "plt.show()"
   ]
  },
  {
   "cell_type": "code",
   "execution_count": 118,
   "metadata": {},
   "outputs": [],
   "source": [
    "pred_df = pd.DataFrame(results, columns=[\"class_0\", \"class_1\"]) "
   ]
  },
  {
   "cell_type": "code",
   "execution_count": 119,
   "metadata": {},
   "outputs": [
    {
     "name": "stdout",
     "output_type": "stream",
     "text": [
      "<class 'pandas.core.frame.DataFrame'>\n",
      "RangeIndex: 60000 entries, 0 to 59999\n",
      "Data columns (total 2 columns):\n",
      " #   Column   Non-Null Count  Dtype  \n",
      "---  ------   --------------  -----  \n",
      " 0   class_0  60000 non-null  float64\n",
      " 1   class_1  60000 non-null  float64\n",
      "dtypes: float64(2)\n",
      "memory usage: 937.6 KB\n"
     ]
    }
   ],
   "source": [
    "pred_df.info()"
   ]
  },
  {
   "cell_type": "code",
   "execution_count": 120,
   "metadata": {},
   "outputs": [],
   "source": [
    "pred_df[\"y_test\"]     = y_test.values\n",
    "pred_df[\"prediction\"] = pred"
   ]
  },
  {
   "cell_type": "code",
   "execution_count": 134,
   "metadata": {},
   "outputs": [
    {
     "data": {
      "text/html": [
       "<div>\n",
       "<style scoped>\n",
       "    .dataframe tbody tr th:only-of-type {\n",
       "        vertical-align: middle;\n",
       "    }\n",
       "\n",
       "    .dataframe tbody tr th {\n",
       "        vertical-align: top;\n",
       "    }\n",
       "\n",
       "    .dataframe thead th {\n",
       "        text-align: right;\n",
       "    }\n",
       "</style>\n",
       "<table border=\"1\" class=\"dataframe\">\n",
       "  <thead>\n",
       "    <tr style=\"text-align: right;\">\n",
       "      <th></th>\n",
       "      <th>class_0</th>\n",
       "      <th>class_1</th>\n",
       "      <th>y_test</th>\n",
       "      <th>prediction</th>\n",
       "    </tr>\n",
       "  </thead>\n",
       "  <tbody>\n",
       "    <tr>\n",
       "      <th>0</th>\n",
       "      <td>0.889344</td>\n",
       "      <td>0.110656</td>\n",
       "      <td>0</td>\n",
       "      <td>0</td>\n",
       "    </tr>\n",
       "    <tr>\n",
       "      <th>1</th>\n",
       "      <td>0.951824</td>\n",
       "      <td>0.048176</td>\n",
       "      <td>0</td>\n",
       "      <td>0</td>\n",
       "    </tr>\n",
       "    <tr>\n",
       "      <th>2</th>\n",
       "      <td>0.484903</td>\n",
       "      <td>0.515097</td>\n",
       "      <td>0</td>\n",
       "      <td>1</td>\n",
       "    </tr>\n",
       "    <tr>\n",
       "      <th>3</th>\n",
       "      <td>0.141256</td>\n",
       "      <td>0.858744</td>\n",
       "      <td>1</td>\n",
       "      <td>1</td>\n",
       "    </tr>\n",
       "    <tr>\n",
       "      <th>4</th>\n",
       "      <td>0.855965</td>\n",
       "      <td>0.144035</td>\n",
       "      <td>0</td>\n",
       "      <td>0</td>\n",
       "    </tr>\n",
       "  </tbody>\n",
       "</table>\n",
       "</div>"
      ],
      "text/plain": [
       "    class_0   class_1  y_test  prediction\n",
       "0  0.889344  0.110656       0           0\n",
       "1  0.951824  0.048176       0           0\n",
       "2  0.484903  0.515097       0           1\n",
       "3  0.141256  0.858744       1           1\n",
       "4  0.855965  0.144035       0           0"
      ]
     },
     "execution_count": 134,
     "metadata": {},
     "output_type": "execute_result"
    }
   ],
   "source": [
    "pred_df.head()s"
   ]
  },
  {
   "cell_type": "code",
   "execution_count": 132,
   "metadata": {},
   "outputs": [
    {
     "data": {
      "text/html": [
       "<div>\n",
       "<style scoped>\n",
       "    .dataframe tbody tr th:only-of-type {\n",
       "        vertical-align: middle;\n",
       "    }\n",
       "\n",
       "    .dataframe tbody tr th {\n",
       "        vertical-align: top;\n",
       "    }\n",
       "\n",
       "    .dataframe thead th {\n",
       "        text-align: right;\n",
       "    }\n",
       "</style>\n",
       "<table border=\"1\" class=\"dataframe\">\n",
       "  <thead>\n",
       "    <tr style=\"text-align: right;\">\n",
       "      <th></th>\n",
       "      <th>class_0</th>\n",
       "      <th>class_1</th>\n",
       "      <th>y_test</th>\n",
       "      <th>prediction</th>\n",
       "    </tr>\n",
       "  </thead>\n",
       "  <tbody>\n",
       "    <tr>\n",
       "      <th>3</th>\n",
       "      <td>0.141256</td>\n",
       "      <td>0.858744</td>\n",
       "      <td>1</td>\n",
       "      <td>1</td>\n",
       "    </tr>\n",
       "    <tr>\n",
       "      <th>6</th>\n",
       "      <td>0.011729</td>\n",
       "      <td>0.988271</td>\n",
       "      <td>1</td>\n",
       "      <td>1</td>\n",
       "    </tr>\n",
       "    <tr>\n",
       "      <th>7</th>\n",
       "      <td>0.014458</td>\n",
       "      <td>0.985542</td>\n",
       "      <td>1</td>\n",
       "      <td>1</td>\n",
       "    </tr>\n",
       "    <tr>\n",
       "      <th>9</th>\n",
       "      <td>0.794365</td>\n",
       "      <td>0.205635</td>\n",
       "      <td>1</td>\n",
       "      <td>0</td>\n",
       "    </tr>\n",
       "    <tr>\n",
       "      <th>16</th>\n",
       "      <td>0.883209</td>\n",
       "      <td>0.116791</td>\n",
       "      <td>1</td>\n",
       "      <td>0</td>\n",
       "    </tr>\n",
       "  </tbody>\n",
       "</table>\n",
       "</div>"
      ],
      "text/plain": [
       "     class_0   class_1  y_test  prediction\n",
       "3   0.141256  0.858744       1           1\n",
       "6   0.011729  0.988271       1           1\n",
       "7   0.014458  0.985542       1           1\n",
       "9   0.794365  0.205635       1           0\n",
       "16  0.883209  0.116791       1           0"
      ]
     },
     "execution_count": 132,
     "metadata": {},
     "output_type": "execute_result"
    }
   ],
   "source": [
    "pred_df[pred_df[\"y_test\"]==1].head()"
   ]
  },
  {
   "cell_type": "code",
   "execution_count": 131,
   "metadata": {},
   "outputs": [
    {
     "data": {
      "text/html": [
       "<div>\n",
       "<style scoped>\n",
       "    .dataframe tbody tr th:only-of-type {\n",
       "        vertical-align: middle;\n",
       "    }\n",
       "\n",
       "    .dataframe tbody tr th {\n",
       "        vertical-align: top;\n",
       "    }\n",
       "\n",
       "    .dataframe thead th {\n",
       "        text-align: right;\n",
       "    }\n",
       "</style>\n",
       "<table border=\"1\" class=\"dataframe\">\n",
       "  <thead>\n",
       "    <tr style=\"text-align: right;\">\n",
       "      <th></th>\n",
       "      <th>class_0</th>\n",
       "      <th>class_1</th>\n",
       "      <th>y_test</th>\n",
       "      <th>prediction</th>\n",
       "    </tr>\n",
       "  </thead>\n",
       "  <tbody>\n",
       "    <tr>\n",
       "      <th>0</th>\n",
       "      <td>0.889344</td>\n",
       "      <td>0.110656</td>\n",
       "      <td>0</td>\n",
       "      <td>0</td>\n",
       "    </tr>\n",
       "    <tr>\n",
       "      <th>1</th>\n",
       "      <td>0.951824</td>\n",
       "      <td>0.048176</td>\n",
       "      <td>0</td>\n",
       "      <td>0</td>\n",
       "    </tr>\n",
       "    <tr>\n",
       "      <th>2</th>\n",
       "      <td>0.484903</td>\n",
       "      <td>0.515097</td>\n",
       "      <td>0</td>\n",
       "      <td>1</td>\n",
       "    </tr>\n",
       "    <tr>\n",
       "      <th>4</th>\n",
       "      <td>0.855965</td>\n",
       "      <td>0.144035</td>\n",
       "      <td>0</td>\n",
       "      <td>0</td>\n",
       "    </tr>\n",
       "    <tr>\n",
       "      <th>5</th>\n",
       "      <td>0.931587</td>\n",
       "      <td>0.068413</td>\n",
       "      <td>0</td>\n",
       "      <td>0</td>\n",
       "    </tr>\n",
       "  </tbody>\n",
       "</table>\n",
       "</div>"
      ],
      "text/plain": [
       "    class_0   class_1  y_test  prediction\n",
       "0  0.889344  0.110656       0           0\n",
       "1  0.951824  0.048176       0           0\n",
       "2  0.484903  0.515097       0           1\n",
       "4  0.855965  0.144035       0           0\n",
       "5  0.931587  0.068413       0           0"
      ]
     },
     "execution_count": 131,
     "metadata": {},
     "output_type": "execute_result"
    }
   ],
   "source": [
    "pred_df[pred_df[\"y_test\"]==0].head()"
   ]
  },
  {
   "cell_type": "code",
   "execution_count": 106,
   "metadata": {},
   "outputs": [],
   "source": [
    "confusion = confusion_matrix(y_test, pred)\n",
    "accuracy  = accuracy_score(y_test, pred)\n",
    "precision = precision_score(y_test, pred)\n",
    "recall    = recall_score(y_test, pred)"
   ]
  },
  {
   "cell_type": "code",
   "execution_count": 107,
   "metadata": {},
   "outputs": [
    {
     "name": "stdout",
     "output_type": "stream",
     "text": [
      "[[41023  3085]\n",
      " [ 6159  9733]]\n"
     ]
    }
   ],
   "source": [
    "print(confusion)"
   ]
  },
  {
   "cell_type": "code",
   "execution_count": 110,
   "metadata": {},
   "outputs": [
    {
     "name": "stdout",
     "output_type": "stream",
     "text": [
      "Accuracy : 0.84593333\n",
      "Precision: 0.75932283\n",
      "Recall   : 0.61244651\n"
     ]
    }
   ],
   "source": [
    "print(\"Accuracy : {0:.8f}\".format(accuracy))\n",
    "print(\"Precision: {0:.8f}\".format(precision))\n",
    "print(\"Recall   : {0:.8f}\".format(recall))"
   ]
  },
  {
   "cell_type": "code",
   "execution_count": 154,
   "metadata": {},
   "outputs": [
    {
     "name": "stdout",
     "output_type": "stream",
     "text": [
      "(59800,) (59800,) (59799,)\n"
     ]
    },
    {
     "data": {
      "image/png": "[encoded data removed]",
      "text/plain": [
       "<Figure size 576x432 with 1 Axes>"
      ]
     },
     "metadata": {},
     "output_type": "display_data"
    }
   ],
   "source": [
    "precisions, recalls, thresholds = precision_recall_curve(y_test, pred_proba)\n",
    "print(precisions.shape, recalls.shape, thresholds.shape)\n",
    "\n",
    "plt.figure(figsize=(8,6))\n",
    "threshold_boundary = thresholds.shape[0]\n",
    "plt.plot(thresholds, precisions[0:threshold_boundary], \"--\", label='precision')\n",
    "plt.plot(thresholds, recalls[0:threshold_boundary], \"-\", label='recall')\n",
    "plt.plot([0.5,0.5], [0.0,1.0], ':', color='black')\n",
    "plt.xlabel('Threshold')\n",
    "plt.ylabel('Precision / Recall')\n",
    "plt.legend()\n",
    "plt.grid()\n",
    "plt.show()"
   ]
  },
  {
   "cell_type": "code",
   "execution_count": 144,
   "metadata": {},
   "outputs": [
    {
     "name": "stdout",
     "output_type": "stream",
     "text": [
      "AUC: 0.88634196\n"
     ]
    }
   ],
   "source": [
    "auc = roc_auc_score(y_test, pred_proba)\n",
    "print(\"AUC: {0:.8f}\".format(auc))"
   ]
  },
  {
   "cell_type": "code",
   "execution_count": 161,
   "metadata": {},
   "outputs": [
    {
     "data": {
      "image/png": "[encoded data removed]",
      "text/plain": [
       "<Figure size 432x288 with 1 Axes>"
      ]
     },
     "metadata": {},
     "output_type": "display_data"
    }
   ],
   "source": [
    "fprs, tprs, thresholds = roc_curve(y_test, pred_proba)\n",
    "\n",
    "plt.plot(fprs, tprs, label=\"ROC\")\n",
    "plt.plot([0,1],[0,1], 'k--', label=\"Random\")\n",
    "plt.legend(loc=4)\n",
    "plt.xlabel('FPR')\n",
    "plt.ylabel('TPR')\n",
    "plt.grid()\n",
    "plt.show()"
   ]
  },
  {
   "cell_type": "code",
   "execution_count": 95,
   "metadata": {},
   "outputs": [
    {
     "data": {
      "text/html": [
       "<div>\n",
       "<style scoped>\n",
       "    .dataframe tbody tr th:only-of-type {\n",
       "        vertical-align: middle;\n",
       "    }\n",
       "\n",
       "    .dataframe tbody tr th {\n",
       "        vertical-align: top;\n",
       "    }\n",
       "\n",
       "    .dataframe thead th {\n",
       "        text-align: right;\n",
       "    }\n",
       "</style>\n",
       "<table border=\"1\" class=\"dataframe\">\n",
       "  <thead>\n",
       "    <tr style=\"text-align: right;\">\n",
       "      <th></th>\n",
       "      <th>Feature_Importances</th>\n",
       "    </tr>\n",
       "  </thead>\n",
       "  <tbody>\n",
       "    <tr>\n",
       "      <th>cont4</th>\n",
       "      <td>228</td>\n",
       "    </tr>\n",
       "    <tr>\n",
       "      <th>cont2</th>\n",
       "      <td>172</td>\n",
       "    </tr>\n",
       "    <tr>\n",
       "      <th>cont6</th>\n",
       "      <td>169</td>\n",
       "    </tr>\n",
       "    <tr>\n",
       "      <th>cont5</th>\n",
       "      <td>166</td>\n",
       "    </tr>\n",
       "    <tr>\n",
       "      <th>cat10</th>\n",
       "      <td>162</td>\n",
       "    </tr>\n",
       "    <tr>\n",
       "      <th>cont1</th>\n",
       "      <td>153</td>\n",
       "    </tr>\n",
       "    <tr>\n",
       "      <th>cat8</th>\n",
       "      <td>151</td>\n",
       "    </tr>\n",
       "    <tr>\n",
       "      <th>cat1</th>\n",
       "      <td>148</td>\n",
       "    </tr>\n",
       "    <tr>\n",
       "      <th>cat7</th>\n",
       "      <td>139</td>\n",
       "    </tr>\n",
       "    <tr>\n",
       "      <th>cont3</th>\n",
       "      <td>132</td>\n",
       "    </tr>\n",
       "    <tr>\n",
       "      <th>cont8</th>\n",
       "      <td>120</td>\n",
       "    </tr>\n",
       "    <tr>\n",
       "      <th>cat2</th>\n",
       "      <td>116</td>\n",
       "    </tr>\n",
       "    <tr>\n",
       "      <th>cont10</th>\n",
       "      <td>98</td>\n",
       "    </tr>\n",
       "    <tr>\n",
       "      <th>cont7</th>\n",
       "      <td>95</td>\n",
       "    </tr>\n",
       "    <tr>\n",
       "      <th>cat16</th>\n",
       "      <td>87</td>\n",
       "    </tr>\n",
       "    <tr>\n",
       "      <th>cont9</th>\n",
       "      <td>82</td>\n",
       "    </tr>\n",
       "    <tr>\n",
       "      <th>cat6</th>\n",
       "      <td>78</td>\n",
       "    </tr>\n",
       "    <tr>\n",
       "      <th>cat4</th>\n",
       "      <td>78</td>\n",
       "    </tr>\n",
       "    <tr>\n",
       "      <th>cat15</th>\n",
       "      <td>74</td>\n",
       "    </tr>\n",
       "    <tr>\n",
       "      <th>cat14</th>\n",
       "      <td>70</td>\n",
       "    </tr>\n",
       "    <tr>\n",
       "      <th>cont0</th>\n",
       "      <td>68</td>\n",
       "    </tr>\n",
       "    <tr>\n",
       "      <th>cat0</th>\n",
       "      <td>62</td>\n",
       "    </tr>\n",
       "    <tr>\n",
       "      <th>cat18</th>\n",
       "      <td>58</td>\n",
       "    </tr>\n",
       "    <tr>\n",
       "      <th>cat11</th>\n",
       "      <td>54</td>\n",
       "    </tr>\n",
       "    <tr>\n",
       "      <th>cat9</th>\n",
       "      <td>52</td>\n",
       "    </tr>\n",
       "    <tr>\n",
       "      <th>cat5</th>\n",
       "      <td>50</td>\n",
       "    </tr>\n",
       "    <tr>\n",
       "      <th>cat17</th>\n",
       "      <td>47</td>\n",
       "    </tr>\n",
       "    <tr>\n",
       "      <th>cat13</th>\n",
       "      <td>35</td>\n",
       "    </tr>\n",
       "    <tr>\n",
       "      <th>cat12</th>\n",
       "      <td>31</td>\n",
       "    </tr>\n",
       "    <tr>\n",
       "      <th>cat3</th>\n",
       "      <td>25</td>\n",
       "    </tr>\n",
       "  </tbody>\n",
       "</table>\n",
       "</div>"
      ],
      "text/plain": [
       "        Feature_Importances\n",
       "cont4                   228\n",
       "cont2                   172\n",
       "cont6                   169\n",
       "cont5                   166\n",
       "cat10                   162\n",
       "cont1                   153\n",
       "cat8                    151\n",
       "cat1                    148\n",
       "cat7                    139\n",
       "cont3                   132\n",
       "cont8                   120\n",
       "cat2                    116\n",
       "cont10                   98\n",
       "cont7                    95\n",
       "cat16                    87\n",
       "cont9                    82\n",
       "cat6                     78\n",
       "cat4                     78\n",
       "cat15                    74\n",
       "cat14                    70\n",
       "cont0                    68\n",
       "cat0                     62\n",
       "cat18                    58\n",
       "cat11                    54\n",
       "cat9                     52\n",
       "cat5                     50\n",
       "cat17                    47\n",
       "cat13                    35\n",
       "cat12                    31\n",
       "cat3                     25"
      ]
     },
     "execution_count": 95,
     "metadata": {},
     "output_type": "execute_result"
    }
   ],
   "source": [
    "ftr_imp = pd.DataFrame(lgbm_clf.feature_importances_, index=features, columns=[\"Feature_Importances\"])\n",
    "ftr_imp.sort_values(\"Feature_Importances\", ascending=False)"
   ]
  },
  {
   "cell_type": "code",
   "execution_count": 143,
   "metadata": {},
   "outputs": [
    {
     "data": {
      "text/plain": [
       "<AxesSubplot:xlabel='Feature_Importances'>"
      ]
     },
     "execution_count": 143,
     "metadata": {},
     "output_type": "execute_result"
    },
    {
     "data": {
      "image/png": "[encoded data removed]",
      "text/plain": [
       "<Figure size 720x504 with 1 Axes>"
      ]
     },
     "metadata": {},
     "output_type": "display_data"
    }
   ],
   "source": [
    "plt.figure(figsize=(10,7))\n",
    "sns.barplot(\"Feature_Importances\", features, data=ftr_imp)"
   ]
  },
  {
   "cell_type": "code",
   "execution_count": null,
   "metadata": {},
   "outputs": [],
   "source": []
  }
 ],
 "metadata": {
  "kernelspec": {
   "display_name": "Python 3",
   "language": "python",
   "name": "python3"
  },
  "language_info": {
   "codemirror_mode": {
    "name": "ipython",
    "version": 3
   },
   "file_extension": ".py",
   "mimetype": "text/x-python",
   "name": "python",
   "nbconvert_exporter": "python",
   "pygments_lexer": "ipython3",
   "version": "3.6.9"
  }
 },
 "nbformat": 4,
 "nbformat_minor": 2
}
