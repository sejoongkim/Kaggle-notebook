{
 "cells": [
  {
   "cell_type": "code",
   "execution_count": 1,
   "metadata": {},
   "outputs": [],
   "source": [
    "import pandas as pd\n",
    "import numpy as np\n",
    "import matplotlib\n",
    "import matplotlib.pyplot as plt\n",
    "import seaborn as sns\n",
    "from scipy import stats\n",
    "%matplotlib inline\n",
    "\n",
    "from sklearn.metrics import mean_squared_error, mean_absolute_error"
   ]
  },
  {
   "cell_type": "markdown",
   "metadata": {},
   "source": [
    "# Defining Functions"
   ]
  },
  {
   "cell_type": "code",
   "execution_count": 2,
   "metadata": {},
   "outputs": [],
   "source": [
    "def rmsle(y, pred):\n",
    "    log_y    = np.log1p(y)\n",
    "    log_pred = np.log1p(pred)\n",
    "    rmsle = np.sqrt(np.mean((log_y-log_pred)**2.))\n",
    "    return rmsle\n",
    "\n",
    "def rmse(y, pred):\n",
    "    return np.sqrt(mean_squared_error(y, pred))\n",
    "\n",
    "def evaluate_error(y, pred, show=True):\n",
    "    rmsle_val = rmsle(y, pred)\n",
    "    rmse_val  = rmse(y, pred)\n",
    "    mae_val   = mean_absolute_error(y, pred)\n",
    "    if show:\n",
    "        print('RMSLE: {0:.4f}'.format(rmsle_val), end=\" | \")\n",
    "        print('RMSE : {0:.4f}'.format(rmse_val), end=\" | \")\n",
    "        print('MAE  : {0:.4f}'.format(mae_val))\n",
    "    return rmsle_val, rmse_val, mae_val"
   ]
  },
  {
   "cell_type": "markdown",
   "metadata": {},
   "source": [
    "# Reading Train and Test Sets"
   ]
  },
  {
   "cell_type": "code",
   "execution_count": 3,
   "metadata": {},
   "outputs": [
    {
     "name": "stdout",
     "output_type": "stream",
     "text": [
      "(10886, 12)\n"
     ]
    }
   ],
   "source": [
    "train = pd.read_csv('./bike_train.csv', parse_dates=[\"datetime\"])\n",
    "print(train.shape)"
   ]
  },
  {
   "cell_type": "code",
   "execution_count": 4,
   "metadata": {},
   "outputs": [
    {
     "name": "stdout",
     "output_type": "stream",
     "text": [
      "<class 'pandas.core.frame.DataFrame'>\n",
      "RangeIndex: 10886 entries, 0 to 10885\n",
      "Data columns (total 12 columns):\n",
      " #   Column      Non-Null Count  Dtype         \n",
      "---  ------      --------------  -----         \n",
      " 0   datetime    10886 non-null  datetime64[ns]\n",
      " 1   season      10886 non-null  int64         \n",
      " 2   holiday     10886 non-null  int64         \n",
      " 3   workingday  10886 non-null  int64         \n",
      " 4   weather     10886 non-null  int64         \n",
      " 5   temp        10886 non-null  float64       \n",
      " 6   atemp       10886 non-null  float64       \n",
      " 7   humidity    10886 non-null  int64         \n",
      " 8   windspeed   10886 non-null  float64       \n",
      " 9   casual      10886 non-null  int64         \n",
      " 10  registered  10886 non-null  int64         \n",
      " 11  count       10886 non-null  int64         \n",
      "dtypes: datetime64[ns](1), float64(3), int64(8)\n",
      "memory usage: 1020.7 KB\n"
     ]
    }
   ],
   "source": [
    "train.info()"
   ]
  },
  {
   "cell_type": "code",
   "execution_count": 5,
   "metadata": {},
   "outputs": [
    {
     "name": "stdout",
     "output_type": "stream",
     "text": [
      "(6493, 9)\n"
     ]
    }
   ],
   "source": [
    "test = pd.read_csv('./bike_test.csv', parse_dates=[\"datetime\"])\n",
    "print(test.shape)"
   ]
  },
  {
   "cell_type": "code",
   "execution_count": 6,
   "metadata": {},
   "outputs": [
    {
     "name": "stdout",
     "output_type": "stream",
     "text": [
      "<class 'pandas.core.frame.DataFrame'>\n",
      "RangeIndex: 6493 entries, 0 to 6492\n",
      "Data columns (total 9 columns):\n",
      " #   Column      Non-Null Count  Dtype         \n",
      "---  ------      --------------  -----         \n",
      " 0   datetime    6493 non-null   datetime64[ns]\n",
      " 1   season      6493 non-null   int64         \n",
      " 2   holiday     6493 non-null   int64         \n",
      " 3   workingday  6493 non-null   int64         \n",
      " 4   weather     6493 non-null   int64         \n",
      " 5   temp        6493 non-null   float64       \n",
      " 6   atemp       6493 non-null   float64       \n",
      " 7   humidity    6493 non-null   int64         \n",
      " 8   windspeed   6493 non-null   float64       \n",
      "dtypes: datetime64[ns](1), float64(3), int64(5)\n",
      "memory usage: 456.7 KB\n"
     ]
    }
   ],
   "source": [
    "test.info()"
   ]
  },
  {
   "cell_type": "markdown",
   "metadata": {},
   "source": [
    "# Feature Engineering"
   ]
  },
  {
   "cell_type": "markdown",
   "metadata": {},
   "source": [
    "## 1) datetime > year, month, day, hour, dayofweek"
   ]
  },
  {
   "cell_type": "code",
   "execution_count": 7,
   "metadata": {},
   "outputs": [],
   "source": [
    "def datetime_separator(df):\n",
    "    df[\"year\"]  = df['datetime'].dt.year\n",
    "    df[\"month\"] = df['datetime'].dt.month\n",
    "    df[\"day\"]   = df['datetime'].dt.day\n",
    "    df[\"hour\"]  = df['datetime'].dt.hour\n",
    "    df[\"dayofweek\"] = df['datetime'].dt.dayofweek\n",
    "    return df"
   ]
  },
  {
   "cell_type": "code",
   "execution_count": 8,
   "metadata": {},
   "outputs": [],
   "source": [
    "train = datetime_separator(train)\n",
    "test  = datetime_separator(test)"
   ]
  },
  {
   "cell_type": "markdown",
   "metadata": {},
   "source": [
    "## 2) Categorical Features"
   ]
  },
  {
   "cell_type": "code",
   "execution_count": 9,
   "metadata": {},
   "outputs": [],
   "source": [
    "categorical_features = [\"year\", \"month\", \"day\", \"hour\", \"holiday\", \n",
    "                        \"workingday\", \"dayofweek\", \"weather\", \"season\"]\n",
    "for feature in categorical_features:\n",
    "    train[feature] = train[feature].astype('category')"
   ]
  },
  {
   "cell_type": "code",
   "execution_count": 10,
   "metadata": {},
   "outputs": [],
   "source": [
    "categorical_features = [\"year\", \"month\", \"day\", \"hour\", \"holiday\", \n",
    "                        \"workingday\", \"dayofweek\", \"weather\", \"season\"]\n",
    "for feature in categorical_features:\n",
    "    test[feature] = test[feature].astype('category')"
   ]
  },
  {
   "cell_type": "code",
   "execution_count": 11,
   "metadata": {},
   "outputs": [
    {
     "name": "stdout",
     "output_type": "stream",
     "text": [
      "<class 'pandas.core.frame.DataFrame'>\n",
      "RangeIndex: 10886 entries, 0 to 10885\n",
      "Data columns (total 17 columns):\n",
      " #   Column      Non-Null Count  Dtype         \n",
      "---  ------      --------------  -----         \n",
      " 0   datetime    10886 non-null  datetime64[ns]\n",
      " 1   season      10886 non-null  category      \n",
      " 2   holiday     10886 non-null  category      \n",
      " 3   workingday  10886 non-null  category      \n",
      " 4   weather     10886 non-null  category      \n",
      " 5   temp        10886 non-null  float64       \n",
      " 6   atemp       10886 non-null  float64       \n",
      " 7   humidity    10886 non-null  int64         \n",
      " 8   windspeed   10886 non-null  float64       \n",
      " 9   casual      10886 non-null  int64         \n",
      " 10  registered  10886 non-null  int64         \n",
      " 11  count       10886 non-null  int64         \n",
      " 12  year        10886 non-null  category      \n",
      " 13  month       10886 non-null  category      \n",
      " 14  day         10886 non-null  category      \n",
      " 15  hour        10886 non-null  category      \n",
      " 16  dayofweek   10886 non-null  category      \n",
      "dtypes: category(9), datetime64[ns](1), float64(3), int64(4)\n",
      "memory usage: 779.2 KB\n"
     ]
    }
   ],
   "source": [
    "train.info()"
   ]
  },
  {
   "cell_type": "code",
   "execution_count": 12,
   "metadata": {},
   "outputs": [
    {
     "name": "stdout",
     "output_type": "stream",
     "text": [
      "<class 'pandas.core.frame.DataFrame'>\n",
      "RangeIndex: 6493 entries, 0 to 6492\n",
      "Data columns (total 14 columns):\n",
      " #   Column      Non-Null Count  Dtype         \n",
      "---  ------      --------------  -----         \n",
      " 0   datetime    6493 non-null   datetime64[ns]\n",
      " 1   season      6493 non-null   category      \n",
      " 2   holiday     6493 non-null   category      \n",
      " 3   workingday  6493 non-null   category      \n",
      " 4   weather     6493 non-null   category      \n",
      " 5   temp        6493 non-null   float64       \n",
      " 6   atemp       6493 non-null   float64       \n",
      " 7   humidity    6493 non-null   int64         \n",
      " 8   windspeed   6493 non-null   float64       \n",
      " 9   year        6493 non-null   category      \n",
      " 10  month       6493 non-null   category      \n",
      " 11  day         6493 non-null   category      \n",
      " 12  hour        6493 non-null   category      \n",
      " 13  dayofweek   6493 non-null   category      \n",
      "dtypes: category(9), datetime64[ns](1), float64(3), int64(1)\n",
      "memory usage: 313.5 KB\n"
     ]
    }
   ],
   "source": [
    "test.info()"
   ]
  },
  {
   "cell_type": "markdown",
   "metadata": {},
   "source": [
    "## 3) Outlier Analysis"
   ]
  },
  {
   "cell_type": "code",
   "execution_count": 13,
   "metadata": {},
   "outputs": [
    {
     "data": {
      "text/plain": [
       "<AxesSubplot:xlabel='weather', ylabel='count'>"
      ]
     },
     "execution_count": 13,
     "metadata": {},
     "output_type": "execute_result"
    },
    {
     "data": {
      "image/png": "[encoded data removed]",
      "text/plain": [
       "<Figure size 720x720 with 6 Axes>"
      ]
     },
     "metadata": {
      "needs_background": "light"
     },
     "output_type": "display_data"
    }
   ],
   "source": [
    "fig, ax = plt.subplots(nrows=3, ncols=2, figsize=(10,10))\n",
    "sns.boxplot(data=train, x=\"year\", y=\"count\",  ax=ax[0,0])\n",
    "sns.boxplot(data=train, x=\"month\", y=\"count\", ax=ax[0,1])\n",
    "sns.boxplot(data=train, x=\"day\", y=\"count\",   ax=ax[1,0])\n",
    "sns.boxplot(data=train, x=\"hour\", y=\"count\",  ax=ax[1,1])\n",
    "sns.boxplot(data=train, x=\"dayofweek\", y=\"count\",  ax=ax[2,0])\n",
    "sns.boxplot(data=train, x=\"weather\", y=\"count\",  ax=ax[2,1])"
   ]
  },
  {
   "cell_type": "code",
   "execution_count": 14,
   "metadata": {},
   "outputs": [
    {
     "data": {
      "text/plain": [
       "<AxesSubplot:xlabel='count', ylabel='Count'>"
      ]
     },
     "execution_count": 14,
     "metadata": {},
     "output_type": "execute_result"
    },
    {
     "data": {
      "image/png": "[encoded data removed]",
      "text/plain": [
       "<Figure size 576x432 with 2 Axes>"
      ]
     },
     "metadata": {
      "needs_background": "light"
     },
     "output_type": "display_data"
    }
   ],
   "source": [
    "fig, ax = plt.subplots(nrows=2, ncols=1, figsize=(8,6))\n",
    "sns.histplot(train['count'], ax=ax[0])\n",
    "sns.histplot(np.log1p(train['count']), ax=ax[1])"
   ]
  },
  {
   "cell_type": "markdown",
   "metadata": {},
   "source": [
    "- Count data is very left-sided skewed. Do we regard this skewness as outliers?"
   ]
  },
  {
   "cell_type": "code",
   "execution_count": 15,
   "metadata": {},
   "outputs": [],
   "source": [
    "train_wo_outliers = train[np.abs(train[\"count\"]-train[\"count\"].mean())<=(3*train[\"count\"].std())] "
   ]
  },
  {
   "cell_type": "code",
   "execution_count": 16,
   "metadata": {},
   "outputs": [
    {
     "data": {
      "text/plain": [
       "<AxesSubplot:xlabel='weather', ylabel='count'>"
      ]
     },
     "execution_count": 16,
     "metadata": {},
     "output_type": "execute_result"
    },
    {
     "data": {
      "image/png": "[encoded data removed]",
      "text/plain": [
       "<Figure size 720x720 with 6 Axes>"
      ]
     },
     "metadata": {
      "needs_background": "light"
     },
     "output_type": "display_data"
    }
   ],
   "source": [
    "fig, ax = plt.subplots(nrows=3, ncols=2, figsize=(10,10))\n",
    "sns.boxplot(data=train_wo_outliers, x=\"year\",      y=\"count\",   ax=ax[0,0])\n",
    "sns.boxplot(data=train_wo_outliers, x=\"month\",     y=\"count\",   ax=ax[0,1])\n",
    "sns.boxplot(data=train_wo_outliers, x=\"day\",       y=\"count\",   ax=ax[1,0])\n",
    "sns.boxplot(data=train_wo_outliers, x=\"hour\",      y=\"count\",   ax=ax[1,1])\n",
    "sns.boxplot(data=train_wo_outliers, x=\"dayofweek\", y=\"count\",   ax=ax[2,0])\n",
    "sns.boxplot(data=train_wo_outliers, x=\"weather\",   y=\"count\",   ax=ax[2,1])"
   ]
  },
  {
   "cell_type": "markdown",
   "metadata": {},
   "source": [
    "## 4) correlation analysis"
   ]
  },
  {
   "cell_type": "code",
   "execution_count": 17,
   "metadata": {},
   "outputs": [
    {
     "data": {
      "text/plain": [
       "<AxesSubplot:>"
      ]
     },
     "execution_count": 17,
     "metadata": {},
     "output_type": "execute_result"
    },
    {
     "data": {
      "image/png": "[encoded data removed]",
      "text/plain": [
       "<Figure size 720x720 with 2 Axes>"
      ]
     },
     "metadata": {
      "needs_background": "light"
     },
     "output_type": "display_data"
    }
   ],
   "source": [
    "fig, ax = plt.subplots(figsize=(10,10))\n",
    "corr = train_wo_outliers[['temp', 'atemp', 'humidity', 'windspeed', 'count']].corr()\n",
    "mask = np.array(corr)\n",
    "mask[np.tril_indices_from(mask)] = False\n",
    "sns.heatmap(corr, mask=mask,vmax=.8, square=True, annot=True)"
   ]
  },
  {
   "cell_type": "markdown",
   "metadata": {},
   "source": [
    "- Correlation between 'temp' and 'atemp' is 0.99, which is very highly correlated. \n",
    "- Correlation between 'count' and 'windspeed' is the lowest among continuous features. "
   ]
  },
  {
   "cell_type": "markdown",
   "metadata": {},
   "source": [
    "## 5) 0's values in 'windspeed' : dropout"
   ]
  },
  {
   "cell_type": "code",
   "execution_count": 18,
   "metadata": {},
   "outputs": [
    {
     "name": "stdout",
     "output_type": "stream",
     "text": [
      "10886\n",
      "10739\n",
      "1297\n"
     ]
    }
   ],
   "source": [
    "print(train.windspeed.count())\n",
    "print(train_wo_outliers.windspeed.count())\n",
    "print(train_wo_outliers[train_wo_outliers['windspeed']==0].windspeed.count())"
   ]
  },
  {
   "cell_type": "markdown",
   "metadata": {},
   "source": [
    "## 6) Conclusion\n",
    "\n",
    "- Dropping the following features: datetime, day, casual, registered\n",
    "- Eliminating outliers: We might use different criteria on outliers.\n",
    "- Dropping 'atemp', since it is highly correlated with 'temp'\n",
    "- Dropping 0's windspeed data\n",
    "- skewed count data -> log transformation\n",
    "- One-Hot Encoding for categorical features"
   ]
  },
  {
   "cell_type": "markdown",
   "metadata": {},
   "source": [
    "### Dropping some features"
   ]
  },
  {
   "cell_type": "code",
   "execution_count": 19,
   "metadata": {},
   "outputs": [],
   "source": [
    "train_wo_outliers = train_wo_outliers.drop([\"datetime\", \"casual\", \"registered\", \"day\", \"atemp\"], axis=1)"
   ]
  },
  {
   "cell_type": "markdown",
   "metadata": {},
   "source": [
    "### Dropping 0's windspeed data"
   ]
  },
  {
   "cell_type": "code",
   "execution_count": 20,
   "metadata": {},
   "outputs": [
    {
     "name": "stdout",
     "output_type": "stream",
     "text": [
      "<class 'pandas.core.frame.DataFrame'>\n",
      "Int64Index: 9442 entries, 5 to 10885\n",
      "Data columns (total 12 columns):\n",
      " #   Column      Non-Null Count  Dtype   \n",
      "---  ------      --------------  -----   \n",
      " 0   season      9442 non-null   category\n",
      " 1   holiday     9442 non-null   category\n",
      " 2   workingday  9442 non-null   category\n",
      " 3   weather     9442 non-null   category\n",
      " 4   temp        9442 non-null   float64 \n",
      " 5   humidity    9442 non-null   int64   \n",
      " 6   windspeed   9442 non-null   float64 \n",
      " 7   count       9442 non-null   int64   \n",
      " 8   year        9442 non-null   category\n",
      " 9   month       9442 non-null   category\n",
      " 10  hour        9442 non-null   category\n",
      " 11  dayofweek   9442 non-null   category\n",
      "dtypes: category(8), float64(2), int64(2)\n",
      "memory usage: 444.8 KB\n"
     ]
    }
   ],
   "source": [
    "train_df = train_wo_outliers[train_wo_outliers['windspeed']!=0]\n",
    "train_df.info()"
   ]
  },
  {
   "cell_type": "markdown",
   "metadata": {},
   "source": [
    "### One-Hot Encoding"
   ]
  },
  {
   "cell_type": "code",
   "execution_count": 21,
   "metadata": {},
   "outputs": [],
   "source": [
    "y_target = train_df['count']\n",
    "X_features = train_df.drop(['count'], axis=1, inplace=False)\n",
    "\n",
    "categorical_features = [\"year\", \"month\", \"hour\", \"holiday\", \n",
    "                        \"workingday\", \"weather\", \"season\", \"dayofweek\"]\n",
    "\n",
    "X_features_ohe = pd.get_dummies(X_features, columns=categorical_features)"
   ]
  },
  {
   "cell_type": "code",
   "execution_count": 22,
   "metadata": {
    "scrolled": true
   },
   "outputs": [
    {
     "name": "stdout",
     "output_type": "stream",
     "text": [
      "<class 'pandas.core.frame.DataFrame'>\n",
      "Int64Index: 9442 entries, 5 to 10885\n",
      "Data columns (total 60 columns):\n",
      " #   Column        Non-Null Count  Dtype  \n",
      "---  ------        --------------  -----  \n",
      " 0   temp          9442 non-null   float64\n",
      " 1   humidity      9442 non-null   int64  \n",
      " 2   windspeed     9442 non-null   float64\n",
      " 3   year_2011     9442 non-null   uint8  \n",
      " 4   year_2012     9442 non-null   uint8  \n",
      " 5   month_1       9442 non-null   uint8  \n",
      " 6   month_2       9442 non-null   uint8  \n",
      " 7   month_3       9442 non-null   uint8  \n",
      " 8   month_4       9442 non-null   uint8  \n",
      " 9   month_5       9442 non-null   uint8  \n",
      " 10  month_6       9442 non-null   uint8  \n",
      " 11  month_7       9442 non-null   uint8  \n",
      " 12  month_8       9442 non-null   uint8  \n",
      " 13  month_9       9442 non-null   uint8  \n",
      " 14  month_10      9442 non-null   uint8  \n",
      " 15  month_11      9442 non-null   uint8  \n",
      " 16  month_12      9442 non-null   uint8  \n",
      " 17  hour_0        9442 non-null   uint8  \n",
      " 18  hour_1        9442 non-null   uint8  \n",
      " 19  hour_2        9442 non-null   uint8  \n",
      " 20  hour_3        9442 non-null   uint8  \n",
      " 21  hour_4        9442 non-null   uint8  \n",
      " 22  hour_5        9442 non-null   uint8  \n",
      " 23  hour_6        9442 non-null   uint8  \n",
      " 24  hour_7        9442 non-null   uint8  \n",
      " 25  hour_8        9442 non-null   uint8  \n",
      " 26  hour_9        9442 non-null   uint8  \n",
      " 27  hour_10       9442 non-null   uint8  \n",
      " 28  hour_11       9442 non-null   uint8  \n",
      " 29  hour_12       9442 non-null   uint8  \n",
      " 30  hour_13       9442 non-null   uint8  \n",
      " 31  hour_14       9442 non-null   uint8  \n",
      " 32  hour_15       9442 non-null   uint8  \n",
      " 33  hour_16       9442 non-null   uint8  \n",
      " 34  hour_17       9442 non-null   uint8  \n",
      " 35  hour_18       9442 non-null   uint8  \n",
      " 36  hour_19       9442 non-null   uint8  \n",
      " 37  hour_20       9442 non-null   uint8  \n",
      " 38  hour_21       9442 non-null   uint8  \n",
      " 39  hour_22       9442 non-null   uint8  \n",
      " 40  hour_23       9442 non-null   uint8  \n",
      " 41  holiday_0     9442 non-null   uint8  \n",
      " 42  holiday_1     9442 non-null   uint8  \n",
      " 43  workingday_0  9442 non-null   uint8  \n",
      " 44  workingday_1  9442 non-null   uint8  \n",
      " 45  weather_1     9442 non-null   uint8  \n",
      " 46  weather_2     9442 non-null   uint8  \n",
      " 47  weather_3     9442 non-null   uint8  \n",
      " 48  weather_4     9442 non-null   uint8  \n",
      " 49  season_1      9442 non-null   uint8  \n",
      " 50  season_2      9442 non-null   uint8  \n",
      " 51  season_3      9442 non-null   uint8  \n",
      " 52  season_4      9442 non-null   uint8  \n",
      " 53  dayofweek_0   9442 non-null   uint8  \n",
      " 54  dayofweek_1   9442 non-null   uint8  \n",
      " 55  dayofweek_2   9442 non-null   uint8  \n",
      " 56  dayofweek_3   9442 non-null   uint8  \n",
      " 57  dayofweek_4   9442 non-null   uint8  \n",
      " 58  dayofweek_5   9442 non-null   uint8  \n",
      " 59  dayofweek_6   9442 non-null   uint8  \n",
      "dtypes: float64(2), int64(1), uint8(57)\n",
      "memory usage: 820.6 KB\n"
     ]
    }
   ],
   "source": [
    "X_features_ohe.info()"
   ]
  },
  {
   "cell_type": "markdown",
   "metadata": {},
   "source": [
    "### Log transformation"
   ]
  },
  {
   "cell_type": "code",
   "execution_count": 23,
   "metadata": {},
   "outputs": [],
   "source": [
    "y_target_log = np.log1p(y_target)"
   ]
  },
  {
   "cell_type": "markdown",
   "metadata": {},
   "source": [
    "### Data Shuffling"
   ]
  },
  {
   "cell_type": "code",
   "execution_count": 24,
   "metadata": {},
   "outputs": [],
   "source": [
    "from sklearn.utils import shuffle\n",
    "X_features_ohe, y_target_log = shuffle(X_features_ohe, y_target_log, random_state = 0)"
   ]
  },
  {
   "cell_type": "markdown",
   "metadata": {},
   "source": [
    "------------"
   ]
  },
  {
   "cell_type": "markdown",
   "metadata": {},
   "source": [
    "# Random Forest Regression"
   ]
  },
  {
   "cell_type": "code",
   "execution_count": 29,
   "metadata": {},
   "outputs": [
    {
     "name": "stdout",
     "output_type": "stream",
     "text": [
      "[0.3408 0.3387 0.3198 0.338  0.3118 0.335  0.3013 0.323  0.3507 0.3325]\n",
      "0.3291\n"
     ]
    }
   ],
   "source": [
    "from sklearn.model_selection import cross_val_score\n",
    "from sklearn.ensemble import RandomForestRegressor\n",
    "\n",
    "rf_reg = RandomForestRegressor(n_estimators=100, random_state=156, n_jobs=-1)\n",
    "scores = cross_val_score(rf_reg, X_features_ohe, y_target_log, \n",
    "                         scoring='neg_mean_squared_error', cv=10, n_jobs=-1)\n",
    "rmsle_list = np.sqrt(-scores)\n",
    "print(np.round(rmsle_list,4))\n",
    "print(np.round(np.mean(rmsle_list),4))"
   ]
  },
  {
   "cell_type": "code",
   "execution_count": 30,
   "metadata": {},
   "outputs": [
    {
     "name": "stdout",
     "output_type": "stream",
     "text": [
      "0.1219\n"
     ]
    }
   ],
   "source": [
    "rf_reg.fit(X_features_ohe, y_target_log)\n",
    "pred = rf_reg.predict(X_features_ohe)\n",
    "score = rmse(y_target_log, pred)\n",
    "print(np.round(score,4))"
   ]
  },
  {
   "cell_type": "code",
   "execution_count": 31,
   "metadata": {},
   "outputs": [
    {
     "name": "stdout",
     "output_type": "stream",
     "text": [
      "n_estimators: 50, 0.3388\n",
      "n_estimators: 100, 0.3370\n",
      "n_estimators: 200, 0.3353\n",
      "n_estimators: 300, 0.3347\n",
      "n_estimators: 500, 0.3342\n",
      "n_estimators: 1000, 0.3342\n"
     ]
    }
   ],
   "source": [
    "n_estimators_list = [50, 100, 200, 300, 500, 1000]\n",
    "\n",
    "for n_estimators in n_estimators_list:\n",
    "    rf_reg = RandomForestRegressor(n_estimators=n_estimators, \n",
    "                                   random_state=156, n_jobs=-1)\n",
    "    scores = cross_val_score(rf_reg, X_features_ohe, y_target_log, \n",
    "                             scoring='neg_mean_squared_error', cv=5, n_jobs=-1)\n",
    "    rmsle_list = np.sqrt(-scores)\n",
    "    print(\"n_estimators: {0}, {1:.4f}\".format(n_estimators, \n",
    "                                              np.round(np.mean(rmsle_list),4)))    "
   ]
  },
  {
   "cell_type": "code",
   "execution_count": 34,
   "metadata": {},
   "outputs": [
    {
     "name": "stdout",
     "output_type": "stream",
     "text": [
      "max_depth: 50, 0.3347\n",
      "max_depth: 100, 0.3347\n",
      "max_depth: 200, 0.3347\n",
      "max_depth: 300, 0.3347\n",
      "max_depth: 500, 0.3347\n"
     ]
    }
   ],
   "source": [
    "max_depth_list = [50, 100, 200, 300, 500]\n",
    "\n",
    "for max_depth in max_depth_list:\n",
    "    rf_reg = RandomForestRegressor(n_estimators=300, max_depth=max_depth,\n",
    "                                   random_state=156, n_jobs=-1)\n",
    "    scores = cross_val_score(rf_reg, X_features_ohe, y_target_log, \n",
    "                             scoring='neg_mean_squared_error', cv=5, n_jobs=-1)\n",
    "    rmsle_list = np.sqrt(-scores)\n",
    "    print(\"max_depth: {0}, {1:.4f}\".format(max_depth, \n",
    "                                           np.round(np.mean(rmsle_list),4)))    "
   ]
  },
  {
   "cell_type": "markdown",
   "metadata": {},
   "source": [
    "# Gradient Boosting Regression"
   ]
  },
  {
   "cell_type": "code",
   "execution_count": 61,
   "metadata": {},
   "outputs": [
    {
     "name": "stdout",
     "output_type": "stream",
     "text": [
      "CPU times: user 55.8 ms, sys: 4.28 ms, total: 60.1 ms\n",
      "Wall time: 48.5 s\n",
      "[0.2998 0.3137 0.3106 0.2984 0.2848 0.304  0.2793 0.2972 0.2991 0.2981]\n",
      "0.2985\n"
     ]
    }
   ],
   "source": [
    "from sklearn.ensemble import GradientBoostingRegressor\n",
    "from sklearn.model_selection import cross_val_score\n",
    "\n",
    "\n",
    "gbm_reg = GradientBoostingRegressor(n_estimators=4000, alpha=0.01)\n",
    "%time scores = cross_val_score(gbm_reg, X_features_ohe, y_target_log, scoring='neg_mean_squared_error', cv=10, n_jobs=-1)\n",
    "rmsle_list = np.sqrt(-scores)\n",
    "print(np.round(rmsle_list,4))\n",
    "print(np.round(np.mean(rmsle_list),4))"
   ]
  },
  {
   "cell_type": "code",
   "execution_count": 42,
   "metadata": {},
   "outputs": [
    {
     "name": "stdout",
     "output_type": "stream",
     "text": [
      "n_estimators: 50, 0.6103\n",
      "n_estimators: 100, 0.4744\n",
      "n_estimators: 200, 0.3965\n",
      "n_estimators: 300, 0.3533\n",
      "n_estimators: 500, 0.3203\n",
      "n_estimators: 1000, 0.3035\n",
      "n_estimators: 2000, 0.2985\n",
      "n_estimators: 3000, 0.2994\n",
      "n_estimators: 4000, 0.3014\n"
     ]
    }
   ],
   "source": [
    "n_estimators_list = [50, 100, 200, 300, 500, 1000, 2000, 3000, 4000]\n",
    "\n",
    "for n_estimators in n_estimators_list:\n",
    "    gbm_reg = GradientBoostingRegressor(n_estimators=n_estimators)\n",
    "    scores = cross_val_score(gbm_reg, X_features_ohe, y_target_log, \n",
    "                             scoring='neg_mean_squared_error', cv=5, n_jobs=-1)\n",
    "    rmsle_list = np.sqrt(-scores)\n",
    "    print(\"n_estimators: {0}, {1:.4f}\".format(n_estimators, \n",
    "                                              np.round(np.mean(rmsle_list),4))) "
   ]
  },
  {
   "cell_type": "code",
   "execution_count": 47,
   "metadata": {},
   "outputs": [
    {
     "name": "stdout",
     "output_type": "stream",
     "text": [
      "alpha: 0.0010, 0.2985\n",
      "alpha: 0.0030, 0.2984\n",
      "alpha: 0.0100, 0.2983\n",
      "alpha: 0.0300, 0.2985\n",
      "alpha: 0.1000, 0.2985\n",
      "alpha: 0.3000, 0.2983\n"
     ]
    }
   ],
   "source": [
    "alpha_list = [0.001, 0.003, 0.01, 0.03, 0.1, 0.3]\n",
    "\n",
    "for alpha in alpha_list:\n",
    "    gbm_reg = GradientBoostingRegressor(n_estimators=2000, alpha=alpha)\n",
    "    scores = cross_val_score(gbm_reg, X_features_ohe, y_target_log, \n",
    "                             scoring='neg_mean_squared_error', cv=5, n_jobs=-1)\n",
    "    rmsle_list = np.sqrt(-scores)\n",
    "    print(\"alpha: {0:.4f}, {1:.4f}\".format(alpha, \n",
    "                                              np.round(np.mean(rmsle_list),4))) "
   ]
  },
  {
   "cell_type": "code",
   "execution_count": 48,
   "metadata": {},
   "outputs": [
    {
     "name": "stdout",
     "output_type": "stream",
     "text": [
      "0.2151\n"
     ]
    }
   ],
   "source": [
    "gbm_reg = GradientBoostingRegressor(n_estimators=2000, alpha=0.01)\n",
    "gbm_reg.fit(X_features_ohe, y_target_log)\n",
    "pred = gbm_reg.predict(X_features_ohe)\n",
    "score = rmse(y_target_log, pred)\n",
    "print(np.round(score,4))"
   ]
  },
  {
   "cell_type": "markdown",
   "metadata": {},
   "source": [
    "# XGBoost Regression"
   ]
  },
  {
   "cell_type": "code",
   "execution_count": 49,
   "metadata": {},
   "outputs": [],
   "source": [
    "from xgboost import XGBRegressor"
   ]
  },
  {
   "cell_type": "code",
   "execution_count": 50,
   "metadata": {},
   "outputs": [
    {
     "name": "stdout",
     "output_type": "stream",
     "text": [
      "Help on class XGBRegressor in module xgboost.sklearn:\n",
      "\n",
      "class XGBRegressor(XGBModel, sklearn.base.RegressorMixin)\n",
      " |  Implementation of the scikit-learn API for XGBoost regression.\n",
      " |  \n",
      " |  \n",
      " |  Parameters\n",
      " |  ----------\n",
      " |  \n",
      " |      n_estimators : int\n",
      " |          Number of gradient boosted trees.  Equivalent to number of boosting\n",
      " |          rounds.\n",
      " |  \n",
      " |      max_depth : int\n",
      " |          Maximum tree depth for base learners.\n",
      " |      learning_rate : float\n",
      " |          Boosting learning rate (xgb's \"eta\")\n",
      " |      verbosity : int\n",
      " |          The degree of verbosity. Valid values are 0 (silent) - 3 (debug).\n",
      " |      objective : string or callable\n",
      " |          Specify the learning task and the corresponding learning objective or\n",
      " |          a custom objective function to be used (see note below).\n",
      " |      booster: string\n",
      " |          Specify which booster to use: gbtree, gblinear or dart.\n",
      " |      tree_method: string\n",
      " |          Specify which tree method to use.  Default to auto.  If this parameter\n",
      " |          is set to default, XGBoost will choose the most conservative option\n",
      " |          available.  It's recommended to study this option from parameters\n",
      " |          document.\n",
      " |      n_jobs : int\n",
      " |          Number of parallel threads used to run xgboost.  When used with other Scikit-Learn\n",
      " |          algorithms like grid search, you may choose which algorithm to parallelize and\n",
      " |          balance the threads.  Creating thread contention will significantly slow dowm both\n",
      " |          algorithms.\n",
      " |      gamma : float\n",
      " |          Minimum loss reduction required to make a further partition on a leaf\n",
      " |          node of the tree.\n",
      " |      min_child_weight : float\n",
      " |          Minimum sum of instance weight(hessian) needed in a child.\n",
      " |      max_delta_step : int\n",
      " |          Maximum delta step we allow each tree's weight estimation to be.\n",
      " |      subsample : float\n",
      " |          Subsample ratio of the training instance.\n",
      " |      colsample_bytree : float\n",
      " |          Subsample ratio of columns when constructing each tree.\n",
      " |      colsample_bylevel : float\n",
      " |          Subsample ratio of columns for each level.\n",
      " |      colsample_bynode : float\n",
      " |          Subsample ratio of columns for each split.\n",
      " |      reg_alpha : float (xgb's alpha)\n",
      " |          L1 regularization term on weights\n",
      " |      reg_lambda : float (xgb's lambda)\n",
      " |          L2 regularization term on weights\n",
      " |      scale_pos_weight : float\n",
      " |          Balancing of positive and negative weights.\n",
      " |      base_score:\n",
      " |          The initial prediction score of all instances, global bias.\n",
      " |      random_state : int\n",
      " |          Random number seed.\n",
      " |  \n",
      " |          .. note::\n",
      " |  \n",
      " |             Using gblinear booster with shotgun updater is nondeterministic as\n",
      " |             it uses Hogwild algorithm.\n",
      " |  \n",
      " |      missing : float, default np.nan\n",
      " |          Value in the data which needs to be present as a missing value.\n",
      " |      num_parallel_tree: int\n",
      " |          Used for boosting random forest.\n",
      " |      monotone_constraints : str\n",
      " |          Constraint of variable monotonicity.  See tutorial for more\n",
      " |          information.\n",
      " |      interaction_constraints : str\n",
      " |          Constraints for interaction representing permitted interactions.  The\n",
      " |          constraints must be specified in the form of a nest list, e.g. [[0, 1],\n",
      " |          [2, 3, 4]], where each inner list is a group of indices of features\n",
      " |          that are allowed to interact with each other.  See tutorial for more\n",
      " |          information\n",
      " |      importance_type: string, default \"gain\"\n",
      " |          The feature importance type for the feature_importances\\_ property:\n",
      " |          either \"gain\", \"weight\", \"cover\", \"total_gain\" or \"total_cover\".\n",
      " |  \n",
      " |      \\*\\*kwargs : dict, optional\n",
      " |          Keyword arguments for XGBoost Booster object.  Full documentation of\n",
      " |          parameters can be found here:\n",
      " |          https://github.com/dmlc/xgboost/blob/master/doc/parameter.rst.\n",
      " |          Attempting to set a parameter via the constructor args and \\*\\*kwargs\n",
      " |          dict simultaneously will result in a TypeError.\n",
      " |  \n",
      " |          .. note:: \\*\\*kwargs unsupported by scikit-learn\n",
      " |  \n",
      " |              \\*\\*kwargs is unsupported by scikit-learn.  We do not guarantee\n",
      " |              that parameters passed via this argument will interact properly\n",
      " |              with scikit-learn.\n",
      " |  \n",
      " |          .. note::  Custom objective function\n",
      " |  \n",
      " |              A custom objective function can be provided for the ``objective``\n",
      " |              parameter. In this case, it should have the signature\n",
      " |              ``objective(y_true, y_pred) -> grad, hess``:\n",
      " |  \n",
      " |              y_true: array_like of shape [n_samples]\n",
      " |                  The target values\n",
      " |              y_pred: array_like of shape [n_samples]\n",
      " |                  The predicted values\n",
      " |  \n",
      " |              grad: array_like of shape [n_samples]\n",
      " |                  The value of the gradient for each sample point.\n",
      " |              hess: array_like of shape [n_samples]\n",
      " |                  The value of the second derivative for each sample point\n",
      " |  \n",
      " |  Method resolution order:\n",
      " |      XGBRegressor\n",
      " |      XGBModel\n",
      " |      sklearn.base.BaseEstimator\n",
      " |      sklearn.base.RegressorMixin\n",
      " |      builtins.object\n",
      " |  \n",
      " |  Methods defined here:\n",
      " |  \n",
      " |  __init__(self, *, objective='reg:squarederror', **kwargs)\n",
      " |      Initialize self.  See help(type(self)) for accurate signature.\n",
      " |  \n",
      " |  ----------------------------------------------------------------------\n",
      " |  Methods inherited from XGBModel:\n",
      " |  \n",
      " |  apply(self, X, ntree_limit=0)\n",
      " |      Return the predicted leaf every tree for each sample.\n",
      " |      \n",
      " |      Parameters\n",
      " |      ----------\n",
      " |      X : array_like, shape=[n_samples, n_features]\n",
      " |          Input features matrix.\n",
      " |      \n",
      " |      ntree_limit : int\n",
      " |          Limit number of trees in the prediction; defaults to 0 (use all trees).\n",
      " |      \n",
      " |      Returns\n",
      " |      -------\n",
      " |      X_leaves : array_like, shape=[n_samples, n_trees]\n",
      " |          For each datapoint x in X and for each tree, return the index of the\n",
      " |          leaf x ends up in. Leaves are numbered within\n",
      " |          ``[0; 2**(self.max_depth+1))``, possibly with gaps in the numbering.\n",
      " |  \n",
      " |  evals_result(self)\n",
      " |      Return the evaluation results.\n",
      " |      \n",
      " |      If **eval_set** is passed to the `fit` function, you can call\n",
      " |      ``evals_result()`` to get evaluation results for all passed **eval_sets**.\n",
      " |      When **eval_metric** is also passed to the `fit` function, the\n",
      " |      **evals_result** will contain the **eval_metrics** passed to the `fit` function.\n",
      " |      \n",
      " |      Returns\n",
      " |      -------\n",
      " |      evals_result : dictionary\n",
      " |      \n",
      " |      Example\n",
      " |      -------\n",
      " |      \n",
      " |      .. code-block:: python\n",
      " |      \n",
      " |          param_dist = {'objective':'binary:logistic', 'n_estimators':2}\n",
      " |      \n",
      " |          clf = xgb.XGBModel(**param_dist)\n",
      " |      \n",
      " |          clf.fit(X_train, y_train,\n",
      " |                  eval_set=[(X_train, y_train), (X_test, y_test)],\n",
      " |                  eval_metric='logloss',\n",
      " |                  verbose=True)\n",
      " |      \n",
      " |          evals_result = clf.evals_result()\n",
      " |      \n",
      " |      The variable **evals_result** will contain:\n",
      " |      \n",
      " |      .. code-block:: python\n",
      " |      \n",
      " |          {'validation_0': {'logloss': ['0.604835', '0.531479']},\n",
      " |          'validation_1': {'logloss': ['0.41965', '0.17686']}}\n",
      " |  \n",
      " |  fit(self, X, y, *, sample_weight=None, base_margin=None, eval_set=None, eval_metric=None, early_stopping_rounds=None, verbose=True, xgb_model=None, sample_weight_eval_set=None, feature_weights=None, callbacks=None)\n",
      " |      Fit gradient boosting model\n",
      " |      \n",
      " |      Parameters\n",
      " |      ----------\n",
      " |      X : array_like\n",
      " |          Feature matrix\n",
      " |      y : array_like\n",
      " |          Labels\n",
      " |      sample_weight : array_like\n",
      " |          instance weights\n",
      " |      base_margin : array_like\n",
      " |          global bias for each instance.\n",
      " |      eval_set : list, optional\n",
      " |          A list of (X, y) tuple pairs to use as validation sets, for which\n",
      " |          metrics will be computed.\n",
      " |          Validation metrics will help us track the performance of the model.\n",
      " |      eval_metric : str, list of str, or callable, optional\n",
      " |          If a str, should be a built-in evaluation metric to use. See\n",
      " |          doc/parameter.rst.\n",
      " |          If a list of str, should be the list of multiple built-in evaluation metrics\n",
      " |          to use.\n",
      " |          If callable, a custom evaluation metric. The call\n",
      " |          signature is ``func(y_predicted, y_true)`` where ``y_true`` will be a\n",
      " |          DMatrix object such that you may need to call the ``get_label``\n",
      " |          method. It must return a str, value pair where the str is a name\n",
      " |          for the evaluation and value is the value of the evaluation\n",
      " |          function. The callable custom objective is always minimized.\n",
      " |      early_stopping_rounds : int\n",
      " |          Activates early stopping. Validation metric needs to improve at least once in\n",
      " |          every **early_stopping_rounds** round(s) to continue training.\n",
      " |          Requires at least one item in **eval_set**.\n",
      " |          The method returns the model from the last iteration (not the best one).\n",
      " |          If there's more than one item in **eval_set**, the last entry will be used\n",
      " |          for early stopping.\n",
      " |          If there's more than one metric in **eval_metric**, the last metric will be\n",
      " |          used for early stopping.\n",
      " |          If early stopping occurs, the model will have three additional fields:\n",
      " |          ``clf.best_score``, ``clf.best_iteration`` and ``clf.best_ntree_limit``.\n",
      " |      verbose : bool\n",
      " |          If `verbose` and an evaluation set is used, writes the evaluation\n",
      " |          metric measured on the validation set to stderr.\n",
      " |      xgb_model : str\n",
      " |          file name of stored XGBoost model or 'Booster' instance XGBoost model to be\n",
      " |          loaded before training (allows training continuation).\n",
      " |      sample_weight_eval_set : list, optional\n",
      " |          A list of the form [L_1, L_2, ..., L_n], where each L_i is a list of\n",
      " |          instance weights on the i-th validation set.\n",
      " |      feature_weights: array_like\n",
      " |          Weight for each feature, defines the probability of each feature being\n",
      " |          selected when colsample is being used.  All values must be greater than 0,\n",
      " |          otherwise a `ValueError` is thrown.  Only available for `hist`, `gpu_hist` and\n",
      " |          `exact` tree methods.\n",
      " |      callbacks : list of callback functions\n",
      " |          List of callback functions that are applied at end of each iteration.\n",
      " |          It is possible to use predefined callbacks by using :ref:`callback_api`.\n",
      " |          Example:\n",
      " |      \n",
      " |          .. code-block:: python\n",
      " |      \n",
      " |              callbacks = [xgb.callback.EarlyStopping(rounds=early_stopping_rounds,\n",
      " |                                                      save_best=True)]\n",
      " |  \n",
      " |  get_booster(self)\n",
      " |      Get the underlying xgboost Booster of this model.\n",
      " |      \n",
      " |      This will raise an exception when fit was not called\n",
      " |      \n",
      " |      Returns\n",
      " |      -------\n",
      " |      booster : a xgboost booster of underlying model\n",
      " |  \n",
      " |  get_num_boosting_rounds(self)\n",
      " |      Gets the number of xgboost boosting rounds.\n",
      " |  \n",
      " |  get_params(self, deep=True)\n",
      " |      Get parameters.\n",
      " |  \n",
      " |  get_xgb_params(self)\n",
      " |      Get xgboost specific parameters.\n",
      " |  \n",
      " |  load_model(self, fname)\n",
      " |      Load the model from a file.\n",
      " |      \n",
      " |      The model is loaded from an XGBoost internal format which is universal\n",
      " |      among the various XGBoost interfaces. Auxiliary attributes of the\n",
      " |      Python Booster object (such as feature names) will not be loaded.\n",
      " |      \n",
      " |      Parameters\n",
      " |      ----------\n",
      " |      fname : string\n",
      " |          Input file name.\n",
      " |  \n",
      " |  predict(self, data, output_margin=False, ntree_limit=None, validate_features=True, base_margin=None)\n",
      " |      Predict with `data`.\n",
      " |      \n",
      " |      .. note:: This function is not thread safe.\n",
      " |      \n",
      " |        For each booster object, predict can only be called from one thread.\n",
      " |        If you want to run prediction using multiple thread, call ``xgb.copy()`` to make copies\n",
      " |        of model object and then call ``predict()``.\n",
      " |      \n",
      " |        .. code-block:: python\n",
      " |      \n",
      " |          preds = bst.predict(dtest, ntree_limit=num_round)\n",
      " |      \n",
      " |      Parameters\n",
      " |      ----------\n",
      " |      data : numpy.array/scipy.sparse\n",
      " |          Data to predict with\n",
      " |      output_margin : bool\n",
      " |          Whether to output the raw untransformed margin value.\n",
      " |      ntree_limit : int\n",
      " |          Limit number of trees in the prediction; defaults to best_ntree_limit if defined\n",
      " |          (i.e. it has been trained with early stopping), otherwise 0 (use all trees).\n",
      " |      validate_features : bool\n",
      " |          When this is True, validate that the Booster's and data's feature_names are identical.\n",
      " |          Otherwise, it is assumed that the feature_names are the same.\n",
      " |      Returns\n",
      " |      -------\n",
      " |      prediction : numpy array\n",
      " |  \n",
      " |  save_model(self, fname:str)\n",
      " |      Save the model to a file.\n",
      " |      \n",
      " |      The model is saved in an XGBoost internal format which is universal\n",
      " |      among the various XGBoost interfaces. Auxiliary attributes of the\n",
      " |      Python Booster object (such as feature names) will not be saved.\n",
      " |      \n",
      " |        .. note::\n",
      " |      \n",
      " |          See:\n",
      " |      \n",
      " |          https://xgboost.readthedocs.io/en/latest/tutorials/saving_model.html\n",
      " |      \n",
      " |      Parameters\n",
      " |      ----------\n",
      " |      fname : string\n",
      " |          Output file name\n",
      " |  \n",
      " |  set_params(self, **params)\n",
      " |      Set the parameters of this estimator.  Modification of the sklearn method to\n",
      " |      allow unknown kwargs. This allows using the full range of xgboost\n",
      " |      parameters that are not defined as member variables in sklearn grid\n",
      " |      search.\n",
      " |      \n",
      " |      Returns\n",
      " |      -------\n",
      " |      self\n",
      " |  \n",
      " |  ----------------------------------------------------------------------\n",
      " |  Data descriptors inherited from XGBModel:\n",
      " |  \n",
      " |  coef_\n",
      " |      Coefficients property\n",
      " |      \n",
      " |      .. note:: Coefficients are defined only for linear learners\n",
      " |      \n",
      " |          Coefficients are only defined when the linear model is chosen as\n",
      " |          base learner (`booster=gblinear`). It is not defined for other base\n",
      " |          learner types, such as tree learners (`booster=gbtree`).\n",
      " |      \n",
      " |      Returns\n",
      " |      -------\n",
      " |      coef_ : array of shape ``[n_features]`` or ``[n_classes, n_features]``\n",
      " |  \n",
      " |  feature_importances_\n",
      " |      Feature importances property\n",
      " |      \n",
      " |      .. note:: Feature importance is defined only for tree boosters\n",
      " |      \n",
      " |          Feature importance is only defined when the decision tree model is chosen as base\n",
      " |          learner (`booster=gbtree`). It is not defined for other base learner types, such\n",
      " |          as linear learners (`booster=gblinear`).\n",
      " |      \n",
      " |      Returns\n",
      " |      -------\n",
      " |      feature_importances_ : array of shape ``[n_features]``\n",
      " |  \n",
      " |  intercept_\n",
      " |      Intercept (bias) property\n",
      " |      \n",
      " |      .. note:: Intercept is defined only for linear learners\n",
      " |      \n",
      " |          Intercept (bias) is only defined when the linear model is chosen as base\n",
      " |          learner (`booster=gblinear`). It is not defined for other base learner types, such\n",
      " |          as tree learners (`booster=gbtree`).\n",
      " |      \n",
      " |      Returns\n",
      " |      -------\n",
      " |      intercept_ : array of shape ``(1,)`` or ``[n_classes]``\n",
      " |  \n",
      " |  ----------------------------------------------------------------------\n",
      " |  Methods inherited from sklearn.base.BaseEstimator:\n",
      " |  \n",
      " |  __getstate__(self)\n",
      " |  \n",
      " |  __repr__(self, N_CHAR_MAX=700)\n",
      " |      Return repr(self).\n",
      " |  \n",
      " |  __setstate__(self, state)\n",
      " |  \n",
      " |  ----------------------------------------------------------------------\n",
      " |  Data descriptors inherited from sklearn.base.BaseEstimator:\n",
      " |  \n",
      " |  __dict__\n",
      " |      dictionary for instance variables (if defined)\n",
      " |  \n",
      " |  __weakref__\n",
      " |      list of weak references to the object (if defined)\n",
      " |  \n",
      " |  ----------------------------------------------------------------------\n",
      " |  Methods inherited from sklearn.base.RegressorMixin:\n",
      " |  \n",
      " |  score(self, X, y, sample_weight=None)\n",
      " |      Return the coefficient of determination :math:`R^2` of the\n",
      " |      prediction.\n",
      " |      \n",
      " |      The coefficient :math:`R^2` is defined as :math:`(1 - \\frac{u}{v})`,\n",
      " |      where :math:`u` is the residual sum of squares ``((y_true - y_pred)\n",
      " |      ** 2).sum()`` and :math:`v` is the total sum of squares ``((y_true -\n",
      " |      y_true.mean()) ** 2).sum()``. The best possible score is 1.0 and it\n",
      " |      can be negative (because the model can be arbitrarily worse). A\n",
      " |      constant model that always predicts the expected value of `y`,\n",
      " |      disregarding the input features, would get a :math:`R^2` score of\n",
      " |      0.0.\n",
      " |      \n",
      " |      Parameters\n",
      " |      ----------\n",
      " |      X : array-like of shape (n_samples, n_features)\n",
      " |          Test samples. For some estimators this may be a precomputed\n",
      " |          kernel matrix or a list of generic objects instead with shape\n",
      " |          ``(n_samples, n_samples_fitted)``, where ``n_samples_fitted``\n",
      " |          is the number of samples used in the fitting for the estimator.\n",
      " |      \n",
      " |      y : array-like of shape (n_samples,) or (n_samples, n_outputs)\n",
      " |          True values for `X`.\n",
      " |      \n",
      " |      sample_weight : array-like of shape (n_samples,), default=None\n",
      " |          Sample weights.\n",
      " |      \n",
      " |      Returns\n",
      " |      -------\n",
      " |      score : float\n",
      " |          :math:`R^2` of ``self.predict(X)`` wrt. `y`.\n",
      " |      \n",
      " |      Notes\n",
      " |      -----\n",
      " |      The :math:`R^2` score used when calling ``score`` on a regressor uses\n",
      " |      ``multioutput='uniform_average'`` from version 0.23 to keep consistent\n",
      " |      with default value of :func:`~sklearn.metrics.r2_score`.\n",
      " |      This influences the ``score`` method of all the multioutput\n",
      " |      regressors (except for\n",
      " |      :class:`~sklearn.multioutput.MultiOutputRegressor`).\n",
      "\n"
     ]
    }
   ],
   "source": [
    "help(XGBRegressor)"
   ]
  },
  {
   "cell_type": "code",
   "execution_count": 62,
   "metadata": {},
   "outputs": [
    {
     "name": "stdout",
     "output_type": "stream",
     "text": [
      "CPU times: user 46.5 ms, sys: 20.3 ms, total: 66.8 ms\n",
      "Wall time: 2min 15s\n",
      "[0.3284 0.3289 0.3184 0.3046 0.3224]\n",
      "0.3205\n"
     ]
    }
   ],
   "source": [
    "xgb_reg = XGBRegressor(n_estimators=500)\n",
    "%time scores = cross_val_score(xgb_reg, X_features_ohe, y_target_log, scoring='neg_mean_squared_error', cv=5, n_jobs=-1)\n",
    "rmsle_list = np.sqrt(-scores)\n",
    "print(np.round(rmsle_list,4))\n",
    "print(np.round(np.mean(rmsle_list),4))"
   ]
  },
  {
   "cell_type": "code",
   "execution_count": 54,
   "metadata": {},
   "outputs": [
    {
     "name": "stdout",
     "output_type": "stream",
     "text": [
      "0.0583\n"
     ]
    }
   ],
   "source": [
    "xgb_reg = XGBRegressor(n_estimators=500)\n",
    "xgb_reg.fit(X_features_ohe, y_target_log)\n",
    "pred = xgb_reg.predict(X_features_ohe)\n",
    "score = rmse(y_target_log, pred)\n",
    "print(np.round(score,4))"
   ]
  },
  {
   "cell_type": "markdown",
   "metadata": {},
   "source": [
    "# Light GBM Regression"
   ]
  },
  {
   "cell_type": "code",
   "execution_count": 63,
   "metadata": {},
   "outputs": [
    {
     "name": "stdout",
     "output_type": "stream",
     "text": [
      "CPU times: user 54.3 ms, sys: 129 ms, total: 184 ms\n",
      "Wall time: 1.31 s\n",
      "[0.3046 0.2976 0.2896 0.2851 0.2964]\n",
      "0.2947\n"
     ]
    }
   ],
   "source": [
    "from lightgbm import LGBMRegressor\n",
    "\n",
    "lgbm_reg = LGBMRegressor(n_estimators=500)\n",
    "%time scores = cross_val_score(lgbm_reg, X_features_ohe, y_target_log, scoring='neg_mean_squared_error', cv=5, n_jobs=-1)\n",
    "rmsle_list = np.sqrt(-scores)\n",
    "print(np.round(rmsle_list,4))\n",
    "print(np.round(np.mean(rmsle_list),4))"
   ]
  },
  {
   "cell_type": "code",
   "execution_count": 57,
   "metadata": {},
   "outputs": [
    {
     "name": "stdout",
     "output_type": "stream",
     "text": [
      "0.1863\n"
     ]
    }
   ],
   "source": [
    "lgbm_reg = LGBMRegressor(n_estimators=500)\n",
    "lgbm_reg.fit(X_features_ohe, y_target_log)\n",
    "pred = lgbm_reg.predict(X_features_ohe)\n",
    "score = rmse(y_target_log, pred)\n",
    "print(np.round(score,4))"
   ]
  },
  {
   "cell_type": "code",
   "execution_count": 68,
   "metadata": {},
   "outputs": [],
   "source": [
    "from lightgbm import LGBMModel"
   ]
  },
  {
   "cell_type": "code",
   "execution_count": 69,
   "metadata": {},
   "outputs": [
    {
     "name": "stdout",
     "output_type": "stream",
     "text": [
      "Help on class LGBMModel in module lightgbm.sklearn:\n",
      "\n",
      "class LGBMModel(sklearn.base.BaseEstimator)\n",
      " |  Implementation of the scikit-learn API for LightGBM.\n",
      " |  \n",
      " |  Method resolution order:\n",
      " |      LGBMModel\n",
      " |      sklearn.base.BaseEstimator\n",
      " |      builtins.object\n",
      " |  \n",
      " |  Methods defined here:\n",
      " |  \n",
      " |  __init__(self, boosting_type='gbdt', num_leaves=31, max_depth=-1, learning_rate=0.1, n_estimators=100, subsample_for_bin=200000, objective=None, class_weight=None, min_split_gain=0.0, min_child_weight=0.001, min_child_samples=20, subsample=1.0, subsample_freq=0, colsample_bytree=1.0, reg_alpha=0.0, reg_lambda=0.0, random_state=None, n_jobs=-1, silent=True, importance_type='split', **kwargs)\n",
      " |      Construct a gradient boosting model.\n",
      " |      \n",
      " |      Parameters\n",
      " |      ----------\n",
      " |      boosting_type : string, optional (default='gbdt')\n",
      " |          'gbdt', traditional Gradient Boosting Decision Tree.\n",
      " |          'dart', Dropouts meet Multiple Additive Regression Trees.\n",
      " |          'goss', Gradient-based One-Side Sampling.\n",
      " |          'rf', Random Forest.\n",
      " |      num_leaves : int, optional (default=31)\n",
      " |          Maximum tree leaves for base learners.\n",
      " |      max_depth : int, optional (default=-1)\n",
      " |          Maximum tree depth for base learners, <=0 means no limit.\n",
      " |      learning_rate : float, optional (default=0.1)\n",
      " |          Boosting learning rate.\n",
      " |          You can use ``callbacks`` parameter of ``fit`` method to shrink/adapt learning rate\n",
      " |          in training using ``reset_parameter`` callback.\n",
      " |          Note, that this will ignore the ``learning_rate`` argument in training.\n",
      " |      n_estimators : int, optional (default=100)\n",
      " |          Number of boosted trees to fit.\n",
      " |      subsample_for_bin : int, optional (default=200000)\n",
      " |          Number of samples for constructing bins.\n",
      " |      objective : string, callable or None, optional (default=None)\n",
      " |          Specify the learning task and the corresponding learning objective or\n",
      " |          a custom objective function to be used (see note below).\n",
      " |          Default: 'regression' for LGBMRegressor, 'binary' or 'multiclass' for LGBMClassifier, 'lambdarank' for LGBMRanker.\n",
      " |      class_weight : dict, 'balanced' or None, optional (default=None)\n",
      " |          Weights associated with classes in the form ``{class_label: weight}``.\n",
      " |          Use this parameter only for multi-class classification task;\n",
      " |          for binary classification task you may use ``is_unbalance`` or ``scale_pos_weight`` parameters.\n",
      " |          Note, that the usage of all these parameters will result in poor estimates of the individual class probabilities.\n",
      " |          You may want to consider performing probability calibration\n",
      " |          (https://scikit-learn.org/stable/modules/calibration.html) of your model.\n",
      " |          The 'balanced' mode uses the values of y to automatically adjust weights\n",
      " |          inversely proportional to class frequencies in the input data as ``n_samples / (n_classes * np.bincount(y))``.\n",
      " |          If None, all classes are supposed to have weight one.\n",
      " |          Note, that these weights will be multiplied with ``sample_weight`` (passed through the ``fit`` method)\n",
      " |          if ``sample_weight`` is specified.\n",
      " |      min_split_gain : float, optional (default=0.)\n",
      " |          Minimum loss reduction required to make a further partition on a leaf node of the tree.\n",
      " |      min_child_weight : float, optional (default=1e-3)\n",
      " |          Minimum sum of instance weight (hessian) needed in a child (leaf).\n",
      " |      min_child_samples : int, optional (default=20)\n",
      " |          Minimum number of data needed in a child (leaf).\n",
      " |      subsample : float, optional (default=1.)\n",
      " |          Subsample ratio of the training instance.\n",
      " |      subsample_freq : int, optional (default=0)\n",
      " |          Frequence of subsample, <=0 means no enable.\n",
      " |      colsample_bytree : float, optional (default=1.)\n",
      " |          Subsample ratio of columns when constructing each tree.\n",
      " |      reg_alpha : float, optional (default=0.)\n",
      " |          L1 regularization term on weights.\n",
      " |      reg_lambda : float, optional (default=0.)\n",
      " |          L2 regularization term on weights.\n",
      " |      random_state : int, RandomState object or None, optional (default=None)\n",
      " |          Random number seed.\n",
      " |          If int, this number is used to seed the C++ code.\n",
      " |          If RandomState object (numpy), a random integer is picked based on its state to seed the C++ code.\n",
      " |          If None, default seeds in C++ code are used.\n",
      " |      n_jobs : int, optional (default=-1)\n",
      " |          Number of parallel threads.\n",
      " |      silent : bool, optional (default=True)\n",
      " |          Whether to print messages while running boosting.\n",
      " |      importance_type : string, optional (default='split')\n",
      " |          The type of feature importance to be filled into ``feature_importances_``.\n",
      " |          If 'split', result contains numbers of times the feature is used in a model.\n",
      " |          If 'gain', result contains total gains of splits which use the feature.\n",
      " |      **kwargs\n",
      " |          Other parameters for the model.\n",
      " |          Check http://lightgbm.readthedocs.io/en/latest/Parameters.html for more parameters.\n",
      " |      \n",
      " |          .. warning::\n",
      " |      \n",
      " |              \\*\\*kwargs is not supported in sklearn, it may cause unexpected issues.\n",
      " |      \n",
      " |      Note\n",
      " |      ----\n",
      " |      A custom objective function can be provided for the ``objective`` parameter.\n",
      " |      In this case, it should have the signature\n",
      " |      ``objective(y_true, y_pred) -> grad, hess`` or\n",
      " |      ``objective(y_true, y_pred, group) -> grad, hess``:\n",
      " |      \n",
      " |          y_true : array-like of shape = [n_samples]\n",
      " |              The target values.\n",
      " |          y_pred : array-like of shape = [n_samples] or shape = [n_samples * n_classes] (for multi-class task)\n",
      " |              The predicted values.\n",
      " |          group : array-like\n",
      " |              Group/query data, used for ranking task.\n",
      " |          grad : array-like of shape = [n_samples] or shape = [n_samples * n_classes] (for multi-class task)\n",
      " |              The value of the first order derivative (gradient) for each sample point.\n",
      " |          hess : array-like of shape = [n_samples] or shape = [n_samples * n_classes] (for multi-class task)\n",
      " |              The value of the second order derivative (Hessian) for each sample point.\n",
      " |      \n",
      " |      For binary task, the y_pred is margin.\n",
      " |      For multi-class task, the y_pred is group by class_id first, then group by row_id.\n",
      " |      If you want to get i-th row y_pred in j-th class, the access way is y_pred[j * num_data + i]\n",
      " |      and you should group grad and hess in this way as well.\n",
      " |  \n",
      " |  fit(self, X, y, sample_weight=None, init_score=None, group=None, eval_set=None, eval_names=None, eval_sample_weight=None, eval_class_weight=None, eval_init_score=None, eval_group=None, eval_metric=None, early_stopping_rounds=None, verbose=True, feature_name='auto', categorical_feature='auto', callbacks=None, init_model=None)\n",
      " |      Build a gradient boosting model from the training set (X, y).\n",
      " |      \n",
      " |      Parameters\n",
      " |      ----------\n",
      " |      X : array-like or sparse matrix of shape = [n_samples, n_features]\n",
      " |          Input feature matrix.\n",
      " |      y : array-like of shape = [n_samples]\n",
      " |          The target values (class labels in classification, real numbers in regression).\n",
      " |      sample_weight : array-like of shape = [n_samples] or None, optional (default=None)\n",
      " |          Weights of training data.\n",
      " |      init_score : array-like of shape = [n_samples] or None, optional (default=None)\n",
      " |          Init score of training data.\n",
      " |      group : array-like or None, optional (default=None)\n",
      " |          Group data of training data.\n",
      " |      eval_set : list or None, optional (default=None)\n",
      " |          A list of (X, y) tuple pairs to use as validation sets.\n",
      " |      eval_names : list of strings or None, optional (default=None)\n",
      " |          Names of eval_set.\n",
      " |      eval_sample_weight : list of arrays or None, optional (default=None)\n",
      " |          Weights of eval data.\n",
      " |      eval_class_weight : list or None, optional (default=None)\n",
      " |          Class weights of eval data.\n",
      " |      eval_init_score : list of arrays or None, optional (default=None)\n",
      " |          Init score of eval data.\n",
      " |      eval_group : list of arrays or None, optional (default=None)\n",
      " |          Group data of eval data.\n",
      " |      eval_metric : string, callable, list or None, optional (default=None)\n",
      " |          If string, it should be a built-in evaluation metric to use.\n",
      " |          If callable, it should be a custom evaluation metric, see note below for more details.\n",
      " |          If list, it can be a list of built-in metrics, a list of custom evaluation metrics, or a mix of both.\n",
      " |          In either case, the ``metric`` from the model parameters will be evaluated and used as well.\n",
      " |          Default: 'l2' for LGBMRegressor, 'logloss' for LGBMClassifier, 'ndcg' for LGBMRanker.\n",
      " |      early_stopping_rounds : int or None, optional (default=None)\n",
      " |          Activates early stopping. The model will train until the validation score stops improving.\n",
      " |          Validation score needs to improve at least every ``early_stopping_rounds`` round(s)\n",
      " |          to continue training.\n",
      " |          Requires at least one validation data and one metric.\n",
      " |          If there's more than one, will check all of them. But the training data is ignored anyway.\n",
      " |          To check only the first metric, set the ``first_metric_only`` parameter to ``True``\n",
      " |          in additional parameters ``**kwargs`` of the model constructor.\n",
      " |      verbose : bool or int, optional (default=True)\n",
      " |          Requires at least one evaluation data.\n",
      " |          If True, the eval metric on the eval set is printed at each boosting stage.\n",
      " |          If int, the eval metric on the eval set is printed at every ``verbose`` boosting stage.\n",
      " |          The last boosting stage or the boosting stage found by using ``early_stopping_rounds`` is also printed.\n",
      " |      \n",
      " |          .. rubric:: Example\n",
      " |      \n",
      " |          With ``verbose`` = 4 and at least one item in ``eval_set``,\n",
      " |          an evaluation metric is printed every 4 (instead of 1) boosting stages.\n",
      " |      \n",
      " |      feature_name : list of strings or 'auto', optional (default='auto')\n",
      " |          Feature names.\n",
      " |          If 'auto' and data is pandas DataFrame, data columns names are used.\n",
      " |      categorical_feature : list of strings or int, or 'auto', optional (default='auto')\n",
      " |          Categorical features.\n",
      " |          If list of int, interpreted as indices.\n",
      " |          If list of strings, interpreted as feature names (need to specify ``feature_name`` as well).\n",
      " |          If 'auto' and data is pandas DataFrame, pandas unordered categorical columns are used.\n",
      " |          All values in categorical features should be less than int32 max value (2147483647).\n",
      " |          Large values could be memory consuming. Consider using consecutive integers starting from zero.\n",
      " |          All negative values in categorical features will be treated as missing values.\n",
      " |          The output cannot be monotonically constrained with respect to a categorical feature.\n",
      " |      callbacks : list of callback functions or None, optional (default=None)\n",
      " |          List of callback functions that are applied at each iteration.\n",
      " |          See Callbacks in Python API for more information.\n",
      " |      init_model : string, Booster, LGBMModel or None, optional (default=None)\n",
      " |          Filename of LightGBM model, Booster instance or LGBMModel instance used for continue training.\n",
      " |      \n",
      " |      Returns\n",
      " |      -------\n",
      " |      self : object\n",
      " |          Returns self.\n",
      " |      \n",
      " |      Note\n",
      " |      ----\n",
      " |      Custom eval function expects a callable with following signatures:\n",
      " |      ``func(y_true, y_pred)``, ``func(y_true, y_pred, weight)`` or\n",
      " |      ``func(y_true, y_pred, weight, group)``\n",
      " |      and returns (eval_name, eval_result, is_higher_better) or\n",
      " |      list of (eval_name, eval_result, is_higher_better):\n",
      " |      \n",
      " |          y_true : array-like of shape = [n_samples]\n",
      " |              The target values.\n",
      " |          y_pred : array-like of shape = [n_samples] or shape = [n_samples * n_classes] (for multi-class task)\n",
      " |              The predicted values.\n",
      " |          weight : array-like of shape = [n_samples]\n",
      " |              The weight of samples.\n",
      " |          group : array-like\n",
      " |              Group/query data, used for ranking task.\n",
      " |          eval_name : string\n",
      " |              The name of evaluation function (without whitespaces).\n",
      " |          eval_result : float\n",
      " |              The eval result.\n",
      " |          is_higher_better : bool\n",
      " |              Is eval result higher better, e.g. AUC is ``is_higher_better``.\n",
      " |      \n",
      " |      For binary task, the y_pred is probability of positive class (or margin in case of custom ``objective``).\n",
      " |      For multi-class task, the y_pred is group by class_id first, then group by row_id.\n",
      " |      If you want to get i-th row y_pred in j-th class, the access way is y_pred[j * num_data + i].\n",
      " |  \n",
      " |  get_params(self, deep=True)\n",
      " |      Get parameters for this estimator.\n",
      " |      \n",
      " |      Parameters\n",
      " |      ----------\n",
      " |      deep : bool, optional (default=True)\n",
      " |          If True, will return the parameters for this estimator and\n",
      " |          contained subobjects that are estimators.\n",
      " |      \n",
      " |      Returns\n",
      " |      -------\n",
      " |      params : dict\n",
      " |          Parameter names mapped to their values.\n",
      " |  \n",
      " |  predict(self, X, raw_score=False, start_iteration=0, num_iteration=None, pred_leaf=False, pred_contrib=False, **kwargs)\n",
      " |      Return the predicted value for each sample.\n",
      " |      \n",
      " |      Parameters\n",
      " |      ----------\n",
      " |      X : array-like or sparse matrix of shape = [n_samples, n_features]\n",
      " |          Input features matrix.\n",
      " |      raw_score : bool, optional (default=False)\n",
      " |          Whether to predict raw scores.\n",
      " |      start_iteration : int, optional (default=0)\n",
      " |          Start index of the iteration to predict.\n",
      " |          If <= 0, starts from the first iteration.\n",
      " |      num_iteration : int or None, optional (default=None)\n",
      " |          Total number of iterations used in the prediction.\n",
      " |          If None, if the best iteration exists and start_iteration <= 0, the best iteration is used;\n",
      " |          otherwise, all iterations from ``start_iteration`` are used (no limits).\n",
      " |          If <= 0, all iterations from ``start_iteration`` are used (no limits).\n",
      " |      pred_leaf : bool, optional (default=False)\n",
      " |          Whether to predict leaf index.\n",
      " |      pred_contrib : bool, optional (default=False)\n",
      " |          Whether to predict feature contributions.\n",
      " |      \n",
      " |          .. note::\n",
      " |      \n",
      " |              If you want to get more explanations for your model's predictions using SHAP values,\n",
      " |              like SHAP interaction values,\n",
      " |              you can install the shap package (https://github.com/slundberg/shap).\n",
      " |              Note that unlike the shap package, with ``pred_contrib`` we return a matrix with an extra\n",
      " |              column, where the last column is the expected value.\n",
      " |      \n",
      " |      **kwargs\n",
      " |          Other parameters for the prediction.\n",
      " |      \n",
      " |      Returns\n",
      " |      -------\n",
      " |      predicted_result : array-like of shape = [n_samples] or shape = [n_samples, n_classes]\n",
      " |          The predicted values.\n",
      " |      X_leaves : array-like of shape = [n_samples, n_trees] or shape = [n_samples, n_trees * n_classes]\n",
      " |          If ``pred_leaf=True``, the predicted leaf of every tree for each sample.\n",
      " |      X_SHAP_values : array-like of shape = [n_samples, n_features + 1] or shape = [n_samples, (n_features + 1) * n_classes] or list with n_classes length of such objects\n",
      " |          If ``pred_contrib=True``, the feature contributions for each sample.\n",
      " |  \n",
      " |  set_params(self, **params)\n",
      " |      Set the parameters of this estimator.\n",
      " |      \n",
      " |      Parameters\n",
      " |      ----------\n",
      " |      **params\n",
      " |          Parameter names with their new values.\n",
      " |      \n",
      " |      Returns\n",
      " |      -------\n",
      " |      self : object\n",
      " |          Returns self.\n",
      " |  \n",
      " |  ----------------------------------------------------------------------\n",
      " |  Data descriptors defined here:\n",
      " |  \n",
      " |  best_iteration_\n",
      " |      :obj:`int` or :obj:`None`: The best iteration of fitted model if ``early_stopping_rounds`` has been specified.\n",
      " |  \n",
      " |  best_score_\n",
      " |      :obj:`dict` or :obj:`None`: The best score of fitted model.\n",
      " |  \n",
      " |  booster_\n",
      " |      Booster: The underlying Booster of this model.\n",
      " |  \n",
      " |  evals_result_\n",
      " |      :obj:`dict` or :obj:`None`: The evaluation results if ``early_stopping_rounds`` has been specified.\n",
      " |  \n",
      " |  feature_importances_\n",
      " |      :obj:`array` of shape = [n_features]: The feature importances (the higher, the more important).\n",
      " |      \n",
      " |      .. note::\n",
      " |      \n",
      " |          ``importance_type`` attribute is passed to the function\n",
      " |          to configure the type of importance values to be extracted.\n",
      " |  \n",
      " |  feature_name_\n",
      " |      :obj:`array` of shape = [n_features]: The names of features.\n",
      " |  \n",
      " |  n_features_\n",
      " |      :obj:`int`: The number of features of fitted model.\n",
      " |  \n",
      " |  n_features_in_\n",
      " |      :obj:`int`: The number of features of fitted model.\n",
      " |  \n",
      " |  objective_\n",
      " |      :obj:`string` or :obj:`callable`: The concrete objective used while fitting this model.\n",
      " |  \n",
      " |  ----------------------------------------------------------------------\n",
      " |  Methods inherited from sklearn.base.BaseEstimator:\n",
      " |  \n",
      " |  __getstate__(self)\n",
      " |  \n",
      " |  __repr__(self, N_CHAR_MAX=700)\n",
      " |      Return repr(self).\n",
      " |  \n",
      " |  __setstate__(self, state)\n",
      " |  \n",
      " |  ----------------------------------------------------------------------\n",
      " |  Data descriptors inherited from sklearn.base.BaseEstimator:\n",
      " |  \n",
      " |  __dict__\n",
      " |      dictionary for instance variables (if defined)\n",
      " |  \n",
      " |  __weakref__\n",
      " |      list of weak references to the object (if defined)\n",
      "\n"
     ]
    }
   ],
   "source": [
    "help(LGBMModel)"
   ]
  },
  {
   "cell_type": "code",
   "execution_count": 64,
   "metadata": {},
   "outputs": [
    {
     "name": "stdout",
     "output_type": "stream",
     "text": [
      "Help on class LGBMRegressor in module lightgbm.sklearn:\n",
      "\n",
      "class LGBMRegressor(LGBMModel, sklearn.base.RegressorMixin)\n",
      " |  LightGBM regressor.\n",
      " |  \n",
      " |  Method resolution order:\n",
      " |      LGBMRegressor\n",
      " |      LGBMModel\n",
      " |      sklearn.base.BaseEstimator\n",
      " |      sklearn.base.RegressorMixin\n",
      " |      builtins.object\n",
      " |  \n",
      " |  Methods defined here:\n",
      " |  \n",
      " |  fit(self, X, y, sample_weight=None, init_score=None, eval_set=None, eval_names=None, eval_sample_weight=None, eval_init_score=None, eval_metric=None, early_stopping_rounds=None, verbose=True, feature_name='auto', categorical_feature='auto', callbacks=None, init_model=None)\n",
      " |      Build a gradient boosting model from the training set (X, y).\n",
      " |      \n",
      " |      Parameters\n",
      " |      ----------\n",
      " |      X : array-like or sparse matrix of shape = [n_samples, n_features]\n",
      " |          Input feature matrix.\n",
      " |      y : array-like of shape = [n_samples]\n",
      " |          The target values (class labels in classification, real numbers in regression).\n",
      " |      sample_weight : array-like of shape = [n_samples] or None, optional (default=None)\n",
      " |          Weights of training data.\n",
      " |      init_score : array-like of shape = [n_samples] or None, optional (default=None)\n",
      " |          Init score of training data.\n",
      " |      eval_set : list or None, optional (default=None)\n",
      " |          A list of (X, y) tuple pairs to use as validation sets.\n",
      " |      eval_names : list of strings or None, optional (default=None)\n",
      " |          Names of eval_set.\n",
      " |      eval_sample_weight : list of arrays or None, optional (default=None)\n",
      " |          Weights of eval data.\n",
      " |      eval_init_score : list of arrays or None, optional (default=None)\n",
      " |          Init score of eval data.\n",
      " |      eval_metric : string, callable, list or None, optional (default=None)\n",
      " |          If string, it should be a built-in evaluation metric to use.\n",
      " |          If callable, it should be a custom evaluation metric, see note below for more details.\n",
      " |          If list, it can be a list of built-in metrics, a list of custom evaluation metrics, or a mix of both.\n",
      " |          In either case, the ``metric`` from the model parameters will be evaluated and used as well.\n",
      " |          Default: 'l2' for LGBMRegressor, 'logloss' for LGBMClassifier, 'ndcg' for LGBMRanker.\n",
      " |      early_stopping_rounds : int or None, optional (default=None)\n",
      " |          Activates early stopping. The model will train until the validation score stops improving.\n",
      " |          Validation score needs to improve at least every ``early_stopping_rounds`` round(s)\n",
      " |          to continue training.\n",
      " |          Requires at least one validation data and one metric.\n",
      " |          If there's more than one, will check all of them. But the training data is ignored anyway.\n",
      " |          To check only the first metric, set the ``first_metric_only`` parameter to ``True``\n",
      " |          in additional parameters ``**kwargs`` of the model constructor.\n",
      " |      verbose : bool or int, optional (default=True)\n",
      " |          Requires at least one evaluation data.\n",
      " |          If True, the eval metric on the eval set is printed at each boosting stage.\n",
      " |          If int, the eval metric on the eval set is printed at every ``verbose`` boosting stage.\n",
      " |          The last boosting stage or the boosting stage found by using ``early_stopping_rounds`` is also printed.\n",
      " |      \n",
      " |          .. rubric:: Example\n",
      " |      \n",
      " |          With ``verbose`` = 4 and at least one item in ``eval_set``,\n",
      " |          an evaluation metric is printed every 4 (instead of 1) boosting stages.\n",
      " |      \n",
      " |      feature_name : list of strings or 'auto', optional (default='auto')\n",
      " |          Feature names.\n",
      " |          If 'auto' and data is pandas DataFrame, data columns names are used.\n",
      " |      categorical_feature : list of strings or int, or 'auto', optional (default='auto')\n",
      " |          Categorical features.\n",
      " |          If list of int, interpreted as indices.\n",
      " |          If list of strings, interpreted as feature names (need to specify ``feature_name`` as well).\n",
      " |          If 'auto' and data is pandas DataFrame, pandas unordered categorical columns are used.\n",
      " |          All values in categorical features should be less than int32 max value (2147483647).\n",
      " |          Large values could be memory consuming. Consider using consecutive integers starting from zero.\n",
      " |          All negative values in categorical features will be treated as missing values.\n",
      " |          The output cannot be monotonically constrained with respect to a categorical feature.\n",
      " |      callbacks : list of callback functions or None, optional (default=None)\n",
      " |          List of callback functions that are applied at each iteration.\n",
      " |          See Callbacks in Python API for more information.\n",
      " |      init_model : string, Booster, LGBMModel or None, optional (default=None)\n",
      " |          Filename of LightGBM model, Booster instance or LGBMModel instance used for continue training.\n",
      " |      \n",
      " |      Returns\n",
      " |      -------\n",
      " |      self : object\n",
      " |          Returns self.\n",
      " |      \n",
      " |      Note\n",
      " |      ----\n",
      " |      Custom eval function expects a callable with following signatures:\n",
      " |      ``func(y_true, y_pred)``, ``func(y_true, y_pred, weight)`` or\n",
      " |      ``func(y_true, y_pred, weight, group)``\n",
      " |      and returns (eval_name, eval_result, is_higher_better) or\n",
      " |      list of (eval_name, eval_result, is_higher_better):\n",
      " |      \n",
      " |          y_true : array-like of shape = [n_samples]\n",
      " |              The target values.\n",
      " |          y_pred : array-like of shape = [n_samples] or shape = [n_samples * n_classes] (for multi-class task)\n",
      " |              The predicted values.\n",
      " |          weight : array-like of shape = [n_samples]\n",
      " |              The weight of samples.\n",
      " |          group : array-like\n",
      " |              Group/query data, used for ranking task.\n",
      " |          eval_name : string\n",
      " |              The name of evaluation function (without whitespaces).\n",
      " |          eval_result : float\n",
      " |              The eval result.\n",
      " |          is_higher_better : bool\n",
      " |              Is eval result higher better, e.g. AUC is ``is_higher_better``.\n",
      " |      \n",
      " |      For binary task, the y_pred is probability of positive class (or margin in case of custom ``objective``).\n",
      " |      For multi-class task, the y_pred is group by class_id first, then group by row_id.\n",
      " |      If you want to get i-th row y_pred in j-th class, the access way is y_pred[j * num_data + i].\n",
      " |  \n",
      " |  ----------------------------------------------------------------------\n",
      " |  Methods inherited from LGBMModel:\n",
      " |  \n",
      " |  __init__(self, boosting_type='gbdt', num_leaves=31, max_depth=-1, learning_rate=0.1, n_estimators=100, subsample_for_bin=200000, objective=None, class_weight=None, min_split_gain=0.0, min_child_weight=0.001, min_child_samples=20, subsample=1.0, subsample_freq=0, colsample_bytree=1.0, reg_alpha=0.0, reg_lambda=0.0, random_state=None, n_jobs=-1, silent=True, importance_type='split', **kwargs)\n",
      " |      Construct a gradient boosting model.\n",
      " |      \n",
      " |      Parameters\n",
      " |      ----------\n",
      " |      boosting_type : string, optional (default='gbdt')\n",
      " |          'gbdt', traditional Gradient Boosting Decision Tree.\n",
      " |          'dart', Dropouts meet Multiple Additive Regression Trees.\n",
      " |          'goss', Gradient-based One-Side Sampling.\n",
      " |          'rf', Random Forest.\n",
      " |      num_leaves : int, optional (default=31)\n",
      " |          Maximum tree leaves for base learners.\n",
      " |      max_depth : int, optional (default=-1)\n",
      " |          Maximum tree depth for base learners, <=0 means no limit.\n",
      " |      learning_rate : float, optional (default=0.1)\n",
      " |          Boosting learning rate.\n",
      " |          You can use ``callbacks`` parameter of ``fit`` method to shrink/adapt learning rate\n",
      " |          in training using ``reset_parameter`` callback.\n",
      " |          Note, that this will ignore the ``learning_rate`` argument in training.\n",
      " |      n_estimators : int, optional (default=100)\n",
      " |          Number of boosted trees to fit.\n",
      " |      subsample_for_bin : int, optional (default=200000)\n",
      " |          Number of samples for constructing bins.\n",
      " |      objective : string, callable or None, optional (default=None)\n",
      " |          Specify the learning task and the corresponding learning objective or\n",
      " |          a custom objective function to be used (see note below).\n",
      " |          Default: 'regression' for LGBMRegressor, 'binary' or 'multiclass' for LGBMClassifier, 'lambdarank' for LGBMRanker.\n",
      " |      class_weight : dict, 'balanced' or None, optional (default=None)\n",
      " |          Weights associated with classes in the form ``{class_label: weight}``.\n",
      " |          Use this parameter only for multi-class classification task;\n",
      " |          for binary classification task you may use ``is_unbalance`` or ``scale_pos_weight`` parameters.\n",
      " |          Note, that the usage of all these parameters will result in poor estimates of the individual class probabilities.\n",
      " |          You may want to consider performing probability calibration\n",
      " |          (https://scikit-learn.org/stable/modules/calibration.html) of your model.\n",
      " |          The 'balanced' mode uses the values of y to automatically adjust weights\n",
      " |          inversely proportional to class frequencies in the input data as ``n_samples / (n_classes * np.bincount(y))``.\n",
      " |          If None, all classes are supposed to have weight one.\n",
      " |          Note, that these weights will be multiplied with ``sample_weight`` (passed through the ``fit`` method)\n",
      " |          if ``sample_weight`` is specified.\n",
      " |      min_split_gain : float, optional (default=0.)\n",
      " |          Minimum loss reduction required to make a further partition on a leaf node of the tree.\n",
      " |      min_child_weight : float, optional (default=1e-3)\n",
      " |          Minimum sum of instance weight (hessian) needed in a child (leaf).\n",
      " |      min_child_samples : int, optional (default=20)\n",
      " |          Minimum number of data needed in a child (leaf).\n",
      " |      subsample : float, optional (default=1.)\n",
      " |          Subsample ratio of the training instance.\n",
      " |      subsample_freq : int, optional (default=0)\n",
      " |          Frequence of subsample, <=0 means no enable.\n",
      " |      colsample_bytree : float, optional (default=1.)\n",
      " |          Subsample ratio of columns when constructing each tree.\n",
      " |      reg_alpha : float, optional (default=0.)\n",
      " |          L1 regularization term on weights.\n",
      " |      reg_lambda : float, optional (default=0.)\n",
      " |          L2 regularization term on weights.\n",
      " |      random_state : int, RandomState object or None, optional (default=None)\n",
      " |          Random number seed.\n",
      " |          If int, this number is used to seed the C++ code.\n",
      " |          If RandomState object (numpy), a random integer is picked based on its state to seed the C++ code.\n",
      " |          If None, default seeds in C++ code are used.\n",
      " |      n_jobs : int, optional (default=-1)\n",
      " |          Number of parallel threads.\n",
      " |      silent : bool, optional (default=True)\n",
      " |          Whether to print messages while running boosting.\n",
      " |      importance_type : string, optional (default='split')\n",
      " |          The type of feature importance to be filled into ``feature_importances_``.\n",
      " |          If 'split', result contains numbers of times the feature is used in a model.\n",
      " |          If 'gain', result contains total gains of splits which use the feature.\n",
      " |      **kwargs\n",
      " |          Other parameters for the model.\n",
      " |          Check http://lightgbm.readthedocs.io/en/latest/Parameters.html for more parameters.\n",
      " |      \n",
      " |          .. warning::\n",
      " |      \n",
      " |              \\*\\*kwargs is not supported in sklearn, it may cause unexpected issues.\n",
      " |      \n",
      " |      Note\n",
      " |      ----\n",
      " |      A custom objective function can be provided for the ``objective`` parameter.\n",
      " |      In this case, it should have the signature\n",
      " |      ``objective(y_true, y_pred) -> grad, hess`` or\n",
      " |      ``objective(y_true, y_pred, group) -> grad, hess``:\n",
      " |      \n",
      " |          y_true : array-like of shape = [n_samples]\n",
      " |              The target values.\n",
      " |          y_pred : array-like of shape = [n_samples] or shape = [n_samples * n_classes] (for multi-class task)\n",
      " |              The predicted values.\n",
      " |          group : array-like\n",
      " |              Group/query data, used for ranking task.\n",
      " |          grad : array-like of shape = [n_samples] or shape = [n_samples * n_classes] (for multi-class task)\n",
      " |              The value of the first order derivative (gradient) for each sample point.\n",
      " |          hess : array-like of shape = [n_samples] or shape = [n_samples * n_classes] (for multi-class task)\n",
      " |              The value of the second order derivative (Hessian) for each sample point.\n",
      " |      \n",
      " |      For binary task, the y_pred is margin.\n",
      " |      For multi-class task, the y_pred is group by class_id first, then group by row_id.\n",
      " |      If you want to get i-th row y_pred in j-th class, the access way is y_pred[j * num_data + i]\n",
      " |      and you should group grad and hess in this way as well.\n",
      " |  \n",
      " |  get_params(self, deep=True)\n",
      " |      Get parameters for this estimator.\n",
      " |      \n",
      " |      Parameters\n",
      " |      ----------\n",
      " |      deep : bool, optional (default=True)\n",
      " |          If True, will return the parameters for this estimator and\n",
      " |          contained subobjects that are estimators.\n",
      " |      \n",
      " |      Returns\n",
      " |      -------\n",
      " |      params : dict\n",
      " |          Parameter names mapped to their values.\n",
      " |  \n",
      " |  predict(self, X, raw_score=False, start_iteration=0, num_iteration=None, pred_leaf=False, pred_contrib=False, **kwargs)\n",
      " |      Return the predicted value for each sample.\n",
      " |      \n",
      " |      Parameters\n",
      " |      ----------\n",
      " |      X : array-like or sparse matrix of shape = [n_samples, n_features]\n",
      " |          Input features matrix.\n",
      " |      raw_score : bool, optional (default=False)\n",
      " |          Whether to predict raw scores.\n",
      " |      start_iteration : int, optional (default=0)\n",
      " |          Start index of the iteration to predict.\n",
      " |          If <= 0, starts from the first iteration.\n",
      " |      num_iteration : int or None, optional (default=None)\n",
      " |          Total number of iterations used in the prediction.\n",
      " |          If None, if the best iteration exists and start_iteration <= 0, the best iteration is used;\n",
      " |          otherwise, all iterations from ``start_iteration`` are used (no limits).\n",
      " |          If <= 0, all iterations from ``start_iteration`` are used (no limits).\n",
      " |      pred_leaf : bool, optional (default=False)\n",
      " |          Whether to predict leaf index.\n",
      " |      pred_contrib : bool, optional (default=False)\n",
      " |          Whether to predict feature contributions.\n",
      " |      \n",
      " |          .. note::\n",
      " |      \n",
      " |              If you want to get more explanations for your model's predictions using SHAP values,\n",
      " |              like SHAP interaction values,\n",
      " |              you can install the shap package (https://github.com/slundberg/shap).\n",
      " |              Note that unlike the shap package, with ``pred_contrib`` we return a matrix with an extra\n",
      " |              column, where the last column is the expected value.\n",
      " |      \n",
      " |      **kwargs\n",
      " |          Other parameters for the prediction.\n",
      " |      \n",
      " |      Returns\n",
      " |      -------\n",
      " |      predicted_result : array-like of shape = [n_samples] or shape = [n_samples, n_classes]\n",
      " |          The predicted values.\n",
      " |      X_leaves : array-like of shape = [n_samples, n_trees] or shape = [n_samples, n_trees * n_classes]\n",
      " |          If ``pred_leaf=True``, the predicted leaf of every tree for each sample.\n",
      " |      X_SHAP_values : array-like of shape = [n_samples, n_features + 1] or shape = [n_samples, (n_features + 1) * n_classes] or list with n_classes length of such objects\n",
      " |          If ``pred_contrib=True``, the feature contributions for each sample.\n",
      " |  \n",
      " |  set_params(self, **params)\n",
      " |      Set the parameters of this estimator.\n",
      " |      \n",
      " |      Parameters\n",
      " |      ----------\n",
      " |      **params\n",
      " |          Parameter names with their new values.\n",
      " |      \n",
      " |      Returns\n",
      " |      -------\n",
      " |      self : object\n",
      " |          Returns self.\n",
      " |  \n",
      " |  ----------------------------------------------------------------------\n",
      " |  Data descriptors inherited from LGBMModel:\n",
      " |  \n",
      " |  best_iteration_\n",
      " |      :obj:`int` or :obj:`None`: The best iteration of fitted model if ``early_stopping_rounds`` has been specified.\n",
      " |  \n",
      " |  best_score_\n",
      " |      :obj:`dict` or :obj:`None`: The best score of fitted model.\n",
      " |  \n",
      " |  booster_\n",
      " |      Booster: The underlying Booster of this model.\n",
      " |  \n",
      " |  evals_result_\n",
      " |      :obj:`dict` or :obj:`None`: The evaluation results if ``early_stopping_rounds`` has been specified.\n",
      " |  \n",
      " |  feature_importances_\n",
      " |      :obj:`array` of shape = [n_features]: The feature importances (the higher, the more important).\n",
      " |      \n",
      " |      .. note::\n",
      " |      \n",
      " |          ``importance_type`` attribute is passed to the function\n",
      " |          to configure the type of importance values to be extracted.\n",
      " |  \n",
      " |  feature_name_\n",
      " |      :obj:`array` of shape = [n_features]: The names of features.\n",
      " |  \n",
      " |  n_features_\n",
      " |      :obj:`int`: The number of features of fitted model.\n",
      " |  \n",
      " |  n_features_in_\n",
      " |      :obj:`int`: The number of features of fitted model.\n",
      " |  \n",
      " |  objective_\n",
      " |      :obj:`string` or :obj:`callable`: The concrete objective used while fitting this model.\n",
      " |  \n",
      " |  ----------------------------------------------------------------------\n",
      " |  Methods inherited from sklearn.base.BaseEstimator:\n",
      " |  \n",
      " |  __getstate__(self)\n",
      " |  \n",
      " |  __repr__(self, N_CHAR_MAX=700)\n",
      " |      Return repr(self).\n",
      " |  \n",
      " |  __setstate__(self, state)\n",
      " |  \n",
      " |  ----------------------------------------------------------------------\n",
      " |  Data descriptors inherited from sklearn.base.BaseEstimator:\n",
      " |  \n",
      " |  __dict__\n",
      " |      dictionary for instance variables (if defined)\n",
      " |  \n",
      " |  __weakref__\n",
      " |      list of weak references to the object (if defined)\n",
      " |  \n",
      " |  ----------------------------------------------------------------------\n",
      " |  Methods inherited from sklearn.base.RegressorMixin:\n",
      " |  \n",
      " |  score(self, X, y, sample_weight=None)\n",
      " |      Return the coefficient of determination :math:`R^2` of the\n",
      " |      prediction.\n",
      " |      \n",
      " |      The coefficient :math:`R^2` is defined as :math:`(1 - \\frac{u}{v})`,\n",
      " |      where :math:`u` is the residual sum of squares ``((y_true - y_pred)\n",
      " |      ** 2).sum()`` and :math:`v` is the total sum of squares ``((y_true -\n",
      " |      y_true.mean()) ** 2).sum()``. The best possible score is 1.0 and it\n",
      " |      can be negative (because the model can be arbitrarily worse). A\n",
      " |      constant model that always predicts the expected value of `y`,\n",
      " |      disregarding the input features, would get a :math:`R^2` score of\n",
      " |      0.0.\n",
      " |      \n",
      " |      Parameters\n",
      " |      ----------\n",
      " |      X : array-like of shape (n_samples, n_features)\n",
      " |          Test samples. For some estimators this may be a precomputed\n",
      " |          kernel matrix or a list of generic objects instead with shape\n",
      " |          ``(n_samples, n_samples_fitted)``, where ``n_samples_fitted``\n",
      " |          is the number of samples used in the fitting for the estimator.\n",
      " |      \n",
      " |      y : array-like of shape (n_samples,) or (n_samples, n_outputs)\n",
      " |          True values for `X`.\n",
      " |      \n",
      " |      sample_weight : array-like of shape (n_samples,), default=None\n",
      " |          Sample weights.\n",
      " |      \n",
      " |      Returns\n",
      " |      -------\n",
      " |      score : float\n",
      " |          :math:`R^2` of ``self.predict(X)`` wrt. `y`.\n",
      " |      \n",
      " |      Notes\n",
      " |      -----\n",
      " |      The :math:`R^2` score used when calling ``score`` on a regressor uses\n",
      " |      ``multioutput='uniform_average'`` from version 0.23 to keep consistent\n",
      " |      with default value of :func:`~sklearn.metrics.r2_score`.\n",
      " |      This influences the ``score`` method of all the multioutput\n",
      " |      regressors (except for\n",
      " |      :class:`~sklearn.multioutput.MultiOutputRegressor`).\n",
      "\n"
     ]
    }
   ],
   "source": [
    "help(LGBMRegressor)"
   ]
  },
  {
   "cell_type": "markdown",
   "metadata": {},
   "source": [
    "## Grid Search on Hyper Parameters"
   ]
  },
  {
   "cell_type": "code",
   "execution_count": 70,
   "metadata": {},
   "outputs": [
    {
     "name": "stdout",
     "output_type": "stream",
     "text": [
      "[LightGBM] [Warning] Accuracy may be bad since you didn't explicitly set num_leaves OR 2^max_depth > num_leaves. (num_leaves=31).\n",
      "CPU times: user 1min 57s, sys: 6.3 s, total: 2min 4s\n",
      "Wall time: 30min 28s\n",
      "0.2934205443290783\n",
      "{'learning_rate': 0.1, 'max_depth': 10, 'n_estimators': 500, 'reg_alpha': 0.01, 'reg_lambda': 0.03}\n"
     ]
    }
   ],
   "source": [
    "from sklearn.model_selection import GridSearchCV\n",
    "\n",
    "params = {'n_estimators':[100, 300, 500, 800, 1000], \n",
    "          'learning_rate':[0.01, 0.03, 0.1, 0.3],\n",
    "          'max_depth':[10, 30, 100, 300],\n",
    "          'reg_lambda':[0.01, 0.03, 0.1, 0.3, 1, 3, 10], \n",
    "          'reg_alpha':[0.01, 0.03, 0.1, 0.3, 1, 3, 10]}\n",
    "\n",
    "lgbm_reg = LGBMRegressor()\n",
    "grid_model = GridSearchCV(estimator=lgbm_reg, param_grid=params, scoring='neg_mean_squared_error',\n",
    "                                cv=5, return_train_score=True, n_jobs=-1)\n",
    "%time grid_model.fit(X_features_ohe, y_target_log)\n",
    "print(np.sqrt(-1*grid_model.best_score_))\n",
    "print(grid_model.best_params_)"
   ]
  },
  {
   "cell_type": "code",
   "execution_count": null,
   "metadata": {},
   "outputs": [],
   "source": [
    "from sklearn.model_selection import GridSearchCV\n",
    "\n",
    "params = {'n_estimators':[500, 800, 1000], \n",
    "          'learning_rate':[0.01, 0.03, 0.1, 0.3],\n",
    "          'max_depth':[0, 30, 100, 300],\n",
    "          'reg_lambda':[0.01, 0.03, 0.1, 0.3, 1], \n",
    "          'reg_alpha':[0.01, 0.03, 0.1, 0.3, 1],\n",
    "          'num_leaves':[31, 50, 90, 120]}\n",
    "\n",
    "lgbm_reg = LGBMRegressor()\n",
    "grid_model = GridSearchCV(estimator=lgbm_reg, param_grid=params, scoring='neg_mean_squared_error',\n",
    "                                cv=5, return_train_score=True, n_jobs=-1)\n",
    "%time grid_model.fit(X_features_ohe, y_target_log)\n",
    "print(np.sqrt(-1*grid_model.best_score_))\n",
    "print(grid_model.best_params_)"
   ]
  },
  {
   "cell_type": "code",
   "execution_count": 77,
   "metadata": {},
   "outputs": [
    {
     "name": "stdout",
     "output_type": "stream",
     "text": [
      "CPU times: user 29.8 ms, sys: 46 µs, total: 29.9 ms\n",
      "Wall time: 1.39 s\n",
      "[0.3037 0.2994 0.2892 0.2809 0.2998]\n",
      "0.2946\n"
     ]
    }
   ],
   "source": [
    "from lightgbm import LGBMRegressor\n",
    "\n",
    "lgbm_reg = LGBMRegressor(n_estimators=1000, learning_rate=0.03, max_depth=0)\n",
    "%time scores = cross_val_score(lgbm_reg, X_features_ohe, y_target_log, scoring='neg_mean_squared_error', cv=5, n_jobs=-1)\n",
    "rmsle_list = np.sqrt(-scores)\n",
    "print(np.round(rmsle_list,4))\n",
    "print(np.round(np.mean(rmsle_list),4))"
   ]
  },
  {
   "cell_type": "code",
   "execution_count": 67,
   "metadata": {},
   "outputs": [
    {
     "name": "stdout",
     "output_type": "stream",
     "text": [
      "0.2173\n"
     ]
    }
   ],
   "source": [
    "lgbm_reg = LGBMRegressor(n_estimators=1000, learning_rate=0.03, max_depth=0)\n",
    "lgbm_reg.fit(X_features_ohe, y_target_log)\n",
    "pred = lgbm_reg.predict(X_features_ohe)\n",
    "score = rmse(y_target_log, pred)\n",
    "print(np.round(score,4))"
   ]
  },
  {
   "cell_type": "code",
   "execution_count": 32,
   "metadata": {},
   "outputs": [
    {
     "name": "stdout",
     "output_type": "stream",
     "text": [
      "CPU times: user 25.2 ms, sys: 4.06 ms, total: 29.3 ms\n",
      "Wall time: 884 ms\n",
      "[0.3036 0.3022 0.291  0.2859 0.3002]\n",
      "0.2966\n"
     ]
    }
   ],
   "source": [
    "from lightgbm import LGBMRegressor\n",
    "from sklearn.model_selection import cross_val_score\n",
    "\n",
    "lgbm_reg = LGBMRegressor(n_estimators=1000, learning_rate=0.1, \n",
    "                         max_depth=0, reg_alpha=0.01, reg_lambda=0.03)\n",
    "%time scores = cross_val_score(lgbm_reg, X_features_ohe, y_target_log, scoring='neg_mean_squared_error', cv=5, n_jobs=-1)\n",
    "rmsle_list = np.sqrt(-scores)\n",
    "print(np.round(rmsle_list,4))\n",
    "print(np.round(np.mean(rmsle_list),4))"
   ]
  },
  {
   "cell_type": "code",
   "execution_count": 33,
   "metadata": {},
   "outputs": [
    {
     "name": "stdout",
     "output_type": "stream",
     "text": [
      "0.145\n"
     ]
    }
   ],
   "source": [
    "lgbm_reg = LGBMRegressor(n_estimators=1000, learning_rate=0.1, \n",
    "                         max_depth=0, reg_alpha=0.01, reg_lambda=0.03)\n",
    "lgbm_reg.fit(X_features_ohe, y_target_log)\n",
    "pred = lgbm_reg.predict(X_features_ohe)\n",
    "score = rmse(y_target_log, pred)\n",
    "print(np.round(score,4))"
   ]
  },
  {
   "cell_type": "markdown",
   "metadata": {},
   "source": [
    "# Test set manipulations"
   ]
  },
  {
   "cell_type": "code",
   "execution_count": 35,
   "metadata": {},
   "outputs": [],
   "source": [
    "test_df = test.drop([\"datetime\", \"day\", \"atemp\"], axis=1)"
   ]
  },
  {
   "cell_type": "code",
   "execution_count": 36,
   "metadata": {},
   "outputs": [],
   "source": [
    "categorical_features = [\"year\", \"month\", \"hour\", \"holiday\", \n",
    "                        \"workingday\", \"weather\", \"season\", \"dayofweek\"]\n",
    "\n",
    "test_df_ohe = pd.get_dummies(test_df, columns=categorical_features)"
   ]
  },
  {
   "cell_type": "markdown",
   "metadata": {},
   "source": [
    "# Submit"
   ]
  },
  {
   "cell_type": "code",
   "execution_count": 37,
   "metadata": {},
   "outputs": [],
   "source": [
    "lgbm_reg = LGBMRegressor(n_estimators=1000, learning_rate=0.1, \n",
    "                         max_depth=0, reg_alpha=0.01, reg_lambda=0.03)\n",
    "lgbm_reg.fit(X_features_ohe, y_target_log)\n",
    "predictions = lgbm_reg.predict(test_df_ohe)\n",
    "predictions = np.expm1(predictions)"
   ]
  },
  {
   "cell_type": "code",
   "execution_count": 38,
   "metadata": {},
   "outputs": [
    {
     "name": "stdout",
     "output_type": "stream",
     "text": [
      "(6493, 2)\n"
     ]
    },
    {
     "data": {
      "text/html": [
       "<div>\n",
       "<style scoped>\n",
       "    .dataframe tbody tr th:only-of-type {\n",
       "        vertical-align: middle;\n",
       "    }\n",
       "\n",
       "    .dataframe tbody tr th {\n",
       "        vertical-align: top;\n",
       "    }\n",
       "\n",
       "    .dataframe thead th {\n",
       "        text-align: right;\n",
       "    }\n",
       "</style>\n",
       "<table border=\"1\" class=\"dataframe\">\n",
       "  <thead>\n",
       "    <tr style=\"text-align: right;\">\n",
       "      <th></th>\n",
       "      <th>datetime</th>\n",
       "      <th>count</th>\n",
       "    </tr>\n",
       "  </thead>\n",
       "  <tbody>\n",
       "    <tr>\n",
       "      <th>0</th>\n",
       "      <td>2011-01-20 00:00:00</td>\n",
       "      <td>11.321557</td>\n",
       "    </tr>\n",
       "    <tr>\n",
       "      <th>1</th>\n",
       "      <td>2011-01-20 01:00:00</td>\n",
       "      <td>4.046588</td>\n",
       "    </tr>\n",
       "    <tr>\n",
       "      <th>2</th>\n",
       "      <td>2011-01-20 02:00:00</td>\n",
       "      <td>3.218074</td>\n",
       "    </tr>\n",
       "    <tr>\n",
       "      <th>3</th>\n",
       "      <td>2011-01-20 03:00:00</td>\n",
       "      <td>2.161076</td>\n",
       "    </tr>\n",
       "    <tr>\n",
       "      <th>4</th>\n",
       "      <td>2011-01-20 04:00:00</td>\n",
       "      <td>1.411693</td>\n",
       "    </tr>\n",
       "  </tbody>\n",
       "</table>\n",
       "</div>"
      ],
      "text/plain": [
       "              datetime      count\n",
       "0  2011-01-20 00:00:00  11.321557\n",
       "1  2011-01-20 01:00:00   4.046588\n",
       "2  2011-01-20 02:00:00   3.218074\n",
       "3  2011-01-20 03:00:00   2.161076\n",
       "4  2011-01-20 04:00:00   1.411693"
      ]
     },
     "execution_count": 38,
     "metadata": {},
     "output_type": "execute_result"
    }
   ],
   "source": [
    "submission = pd.read_csv(\"./sampleSubmission.csv\")\n",
    "submission[\"count\"] = predictions\n",
    "\n",
    "print(submission.shape)\n",
    "submission.head()"
   ]
  },
  {
   "cell_type": "code",
   "execution_count": 39,
   "metadata": {},
   "outputs": [],
   "source": [
    "submission.to_csv(\"./Score_submission_02142021_LGBM.csv\", index=False)"
   ]
  }
 ],
 "metadata": {
  "kernelspec": {
   "display_name": "Python 3",
   "language": "python",
   "name": "python3"
  },
  "language_info": {
   "codemirror_mode": {
    "name": "ipython",
    "version": 3
   },
   "file_extension": ".py",
   "mimetype": "text/x-python",
   "name": "python",
   "nbconvert_exporter": "python",
   "pygments_lexer": "ipython3",
   "version": "3.6.9"
  }
 },
 "nbformat": 4,
 "nbformat_minor": 2
}
